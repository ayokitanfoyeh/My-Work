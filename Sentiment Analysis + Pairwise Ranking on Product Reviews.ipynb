{
 "cells": [
  {
   "cell_type": "code",
   "execution_count": 13,
   "metadata": {},
   "outputs": [],
   "source": [
    "import pandas as pd\n",
    "import numpy as np\n",
    "from joblib import load, dump\n",
    "from copy import deepcopy\n",
    "from statistics import mean\n",
    "\n",
    "from sklearn.metrics import accuracy_score, classification_report, confusion_matrix, precision_score, recall_score\n",
    "from collections import Counter"
   ]
  },
  {
   "cell_type": "code",
   "execution_count": 14,
   "metadata": {},
   "outputs": [],
   "source": [
    "import mlfoundry as mlf\n",
    "\n",
    "# from getpass import getpass\n",
    "# api_token = getpass(\"TrueFoundry API Token:\")"
   ]
  },
  {
   "cell_type": "code",
   "execution_count": 15,
   "metadata": {},
   "outputs": [
    {
     "name": "stdout",
     "output_type": "stream",
     "text": [
      "API key is already configured.\n",
      "Please use `mlfoundry login --relogin` or `mlfoundry.login(relogin=True)`to force relogin\n"
     ]
    },
    {
     "data": {
      "text/plain": [
       "False"
      ]
     },
     "execution_count": 15,
     "metadata": {},
     "output_type": "execute_result"
    }
   ],
   "source": [
    "mlf.login()"
   ]
  },
  {
   "cell_type": "code",
   "execution_count": 16,
   "metadata": {},
   "outputs": [],
   "source": [
    "# import pdb"
   ]
  },
  {
   "cell_type": "code",
   "execution_count": 17,
   "metadata": {},
   "outputs": [],
   "source": [
    "# try:\n",
    "#     mlf_api = mlf.get_client()\n",
    "# except Exception:\n",
    "#     pdb.post_mortem()\n"
   ]
  },
  {
   "cell_type": "code",
   "execution_count": 18,
   "metadata": {},
   "outputs": [],
   "source": [
    "mlf_api = mlf.get_client()"
   ]
  },
  {
   "cell_type": "code",
   "execution_count": 19,
   "metadata": {},
   "outputs": [],
   "source": [
    "import os\n",
    "os.getenv('MLF_HOST')"
   ]
  },
  {
   "cell_type": "code",
   "execution_count": 20,
   "metadata": {},
   "outputs": [],
   "source": [
    "df = pd.read_csv('data/Features.csv')"
   ]
  },
  {
   "cell_type": "code",
   "execution_count": 21,
   "metadata": {},
   "outputs": [
    {
     "data": {
      "text/html": [
       "<div>\n",
       "<style scoped>\n",
       "    .dataframe tbody tr th:only-of-type {\n",
       "        vertical-align: middle;\n",
       "    }\n",
       "\n",
       "    .dataframe tbody tr th {\n",
       "        vertical-align: top;\n",
       "    }\n",
       "\n",
       "    .dataframe thead th {\n",
       "        text-align: right;\n",
       "    }\n",
       "</style>\n",
       "<table border=\"1\" class=\"dataframe\">\n",
       "  <thead>\n",
       "    <tr style=\"text-align: right;\">\n",
       "      <th></th>\n",
       "      <th>product</th>\n",
       "      <th>answer_option</th>\n",
       "      <th>label</th>\n",
       "      <th>review_len</th>\n",
       "      <th>Rn</th>\n",
       "      <th>Rp</th>\n",
       "      <th>Rs</th>\n",
       "      <th>Rc</th>\n",
       "      <th>Rd</th>\n",
       "      <th>Rsc</th>\n",
       "    </tr>\n",
       "  </thead>\n",
       "  <tbody>\n",
       "    <tr>\n",
       "      <th>0</th>\n",
       "      <td>Accucheck</td>\n",
       "      <td>Fast and accurate delivery</td>\n",
       "      <td>0</td>\n",
       "      <td>4</td>\n",
       "      <td>0.232859</td>\n",
       "      <td>0.3</td>\n",
       "      <td>0.616667</td>\n",
       "      <td>0.005420</td>\n",
       "      <td>1.0</td>\n",
       "      <td>0.0000</td>\n",
       "    </tr>\n",
       "    <tr>\n",
       "      <th>1</th>\n",
       "      <td>Accucheck</td>\n",
       "      <td>Expected a longer expire date. Your Product Li...</td>\n",
       "      <td>0</td>\n",
       "      <td>14</td>\n",
       "      <td>0.596318</td>\n",
       "      <td>-0.1</td>\n",
       "      <td>0.400000</td>\n",
       "      <td>0.017615</td>\n",
       "      <td>1.0</td>\n",
       "      <td>0.0000</td>\n",
       "    </tr>\n",
       "    <tr>\n",
       "      <th>2</th>\n",
       "      <td>Accucheck</td>\n",
       "      <td>I liked the prompt service</td>\n",
       "      <td>0</td>\n",
       "      <td>5</td>\n",
       "      <td>0.319747</td>\n",
       "      <td>0.6</td>\n",
       "      <td>0.800000</td>\n",
       "      <td>0.006775</td>\n",
       "      <td>1.0</td>\n",
       "      <td>0.4215</td>\n",
       "    </tr>\n",
       "    <tr>\n",
       "      <th>3</th>\n",
       "      <td>Accucheck</td>\n",
       "      <td>Good product</td>\n",
       "      <td>0</td>\n",
       "      <td>2</td>\n",
       "      <td>0.546925</td>\n",
       "      <td>0.7</td>\n",
       "      <td>0.600000</td>\n",
       "      <td>0.002710</td>\n",
       "      <td>0.0</td>\n",
       "      <td>0.4404</td>\n",
       "    </tr>\n",
       "    <tr>\n",
       "      <th>4</th>\n",
       "      <td>Accucheck</td>\n",
       "      <td>I not needed</td>\n",
       "      <td>0</td>\n",
       "      <td>3</td>\n",
       "      <td>0.000000</td>\n",
       "      <td>0.0</td>\n",
       "      <td>0.000000</td>\n",
       "      <td>0.004065</td>\n",
       "      <td>0.0</td>\n",
       "      <td>0.0000</td>\n",
       "    </tr>\n",
       "  </tbody>\n",
       "</table>\n",
       "</div>"
      ],
      "text/plain": [
       "     product                                      answer_option  label  \\\n",
       "0  Accucheck                         Fast and accurate delivery      0   \n",
       "1  Accucheck  Expected a longer expire date. Your Product Li...      0   \n",
       "2  Accucheck                         I liked the prompt service      0   \n",
       "3  Accucheck                                       Good product      0   \n",
       "4  Accucheck                                       I not needed      0   \n",
       "\n",
       "   review_len        Rn   Rp        Rs        Rc   Rd     Rsc  \n",
       "0           4  0.232859  0.3  0.616667  0.005420  1.0  0.0000  \n",
       "1          14  0.596318 -0.1  0.400000  0.017615  1.0  0.0000  \n",
       "2           5  0.319747  0.6  0.800000  0.006775  1.0  0.4215  \n",
       "3           2  0.546925  0.7  0.600000  0.002710  0.0  0.4404  \n",
       "4           3  0.000000  0.0  0.000000  0.004065  0.0  0.0000  "
      ]
     },
     "execution_count": 21,
     "metadata": {},
     "output_type": "execute_result"
    }
   ],
   "source": [
    "df.head()"
   ]
  },
  {
   "cell_type": "markdown",
   "metadata": {},
   "source": []
  },
  {
   "cell_type": "code",
   "execution_count": 22,
   "metadata": {},
   "outputs": [
    {
     "data": {
      "text/html": [
       "<div>\n",
       "<style scoped>\n",
       "    .dataframe tbody tr th:only-of-type {\n",
       "        vertical-align: middle;\n",
       "    }\n",
       "\n",
       "    .dataframe tbody tr th {\n",
       "        vertical-align: top;\n",
       "    }\n",
       "\n",
       "    .dataframe thead th {\n",
       "        text-align: right;\n",
       "    }\n",
       "</style>\n",
       "<table border=\"1\" class=\"dataframe\">\n",
       "  <thead>\n",
       "    <tr style=\"text-align: right;\">\n",
       "      <th>label</th>\n",
       "      <th>0</th>\n",
       "      <th>1</th>\n",
       "    </tr>\n",
       "    <tr>\n",
       "      <th>product</th>\n",
       "      <th></th>\n",
       "      <th></th>\n",
       "    </tr>\n",
       "  </thead>\n",
       "  <tbody>\n",
       "    <tr>\n",
       "      <th>Accucheck</th>\n",
       "      <td>310</td>\n",
       "      <td>85</td>\n",
       "    </tr>\n",
       "    <tr>\n",
       "      <th>Becadexamin</th>\n",
       "      <td>53</td>\n",
       "      <td>27</td>\n",
       "    </tr>\n",
       "    <tr>\n",
       "      <th>Evion</th>\n",
       "      <td>89</td>\n",
       "      <td>33</td>\n",
       "    </tr>\n",
       "    <tr>\n",
       "      <th>Neurobion</th>\n",
       "      <td>280</td>\n",
       "      <td>136</td>\n",
       "    </tr>\n",
       "    <tr>\n",
       "      <th>SevenseascodLiverOil</th>\n",
       "      <td>59</td>\n",
       "      <td>22</td>\n",
       "    </tr>\n",
       "  </tbody>\n",
       "</table>\n",
       "</div>"
      ],
      "text/plain": [
       "label                   0    1\n",
       "product                       \n",
       "Accucheck             310   85\n",
       "Becadexamin            53   27\n",
       "Evion                  89   33\n",
       "Neurobion             280  136\n",
       "SevenseascodLiverOil   59   22"
      ]
     },
     "execution_count": 22,
     "metadata": {},
     "output_type": "execute_result"
    }
   ],
   "source": [
    "data_split = pd.crosstab(df['product'],df['label'])\n",
    "data_split.head()"
   ]
  },
  {
   "cell_type": "code",
   "execution_count": 23,
   "metadata": {},
   "outputs": [],
   "source": [
    "def building_training_data(df):\n",
    "    A = df[df['label']==1]\n",
    "    A.loc[df['label']==1,'join'] = 'j'\n",
    "    B = df[df['label']==0]\n",
    "    B.loc[df['label']==0,'join'] = 'j'\n",
    "    trainset1 = pd.merge(A,B,how='outer',on='join')\n",
    "    trainset2 = pd.merge(B,A,how='outer',on ='join')\n",
    "\n",
    "    trainset = pd.merge(trainset1,trainset2,how='outer')\n",
    "    return trainset"
   ]
  },
  {
   "cell_type": "code",
   "execution_count": 24,
   "metadata": {},
   "outputs": [
    {
     "name": "stderr",
     "output_type": "stream",
     "text": [
      "e:\\true_faundry\\projectpro-external-main\\Projects\\venv\\lib\\site-packages\\pandas\\core\\indexing.py:1684: SettingWithCopyWarning: \n",
      "A value is trying to be set on a copy of a slice from a DataFrame.\n",
      "Try using .loc[row_indexer,col_indexer] = value instead\n",
      "\n",
      "See the caveats in the documentation: https://pandas.pydata.org/pandas-docs/stable/user_guide/indexing.html#returning-a-view-versus-a-copy\n",
      "  self.obj[key] = infer_fill_value(value)\n",
      "e:\\true_faundry\\projectpro-external-main\\Projects\\venv\\lib\\site-packages\\pandas\\core\\indexing.py:1817: SettingWithCopyWarning: \n",
      "A value is trying to be set on a copy of a slice from a DataFrame.\n",
      "Try using .loc[row_indexer,col_indexer] = value instead\n",
      "\n",
      "See the caveats in the documentation: https://pandas.pydata.org/pandas-docs/stable/user_guide/indexing.html#returning-a-view-versus-a-copy\n",
      "  self._setitem_single_column(loc, value, pi)\n"
     ]
    },
    {
     "name": "stdout",
     "output_type": "stream",
     "text": [
      "Accucheck 395 52700\n",
      "Becadexamin 80 2862\n",
      "Evion 122 5874\n",
      "Neurobion 416 76160\n",
      "SevenseascodLiverOil 81 2596\n",
      "Shelcal 383 64232\n",
      "Supradyn 73 2300\n",
      "shampoo 105 5488\n"
     ]
    }
   ],
   "source": [
    "product_list = df['product'].unique()\n",
    "data_stack = []\n",
    "for product in product_list:\n",
    "    temp = deepcopy(df[df['product']==product].iloc[:,2:])\n",
    "    build_data = building_training_data(temp)\n",
    "    print(product, len(temp), len(build_data))\n",
    "    build_data.drop(columns = ['join','label_y'],inplace=True)\n",
    "    data = build_data.iloc[:,1:]\n",
    "    data['target'] = build_data.iloc[:,0]\n",
    "    data_stack.append(data)"
   ]
  },
  {
   "cell_type": "code",
   "execution_count": 25,
   "metadata": {},
   "outputs": [],
   "source": [
    "train = pd.concat(data_stack).reset_index(drop = True)"
   ]
  },
  {
   "cell_type": "code",
   "execution_count": 26,
   "metadata": {},
   "outputs": [
    {
     "data": {
      "text/html": [
       "<div>\n",
       "<style scoped>\n",
       "    .dataframe tbody tr th:only-of-type {\n",
       "        vertical-align: middle;\n",
       "    }\n",
       "\n",
       "    .dataframe tbody tr th {\n",
       "        vertical-align: top;\n",
       "    }\n",
       "\n",
       "    .dataframe thead th {\n",
       "        text-align: right;\n",
       "    }\n",
       "</style>\n",
       "<table border=\"1\" class=\"dataframe\">\n",
       "  <thead>\n",
       "    <tr style=\"text-align: right;\">\n",
       "      <th></th>\n",
       "      <th>review_len_x</th>\n",
       "      <th>Rn_x</th>\n",
       "      <th>Rp_x</th>\n",
       "      <th>Rs_x</th>\n",
       "      <th>Rc_x</th>\n",
       "      <th>Rd_x</th>\n",
       "      <th>Rsc_x</th>\n",
       "      <th>review_len_y</th>\n",
       "      <th>Rn_y</th>\n",
       "      <th>Rp_y</th>\n",
       "      <th>Rs_y</th>\n",
       "      <th>Rc_y</th>\n",
       "      <th>Rd_y</th>\n",
       "      <th>Rsc_y</th>\n",
       "      <th>target</th>\n",
       "    </tr>\n",
       "  </thead>\n",
       "  <tbody>\n",
       "    <tr>\n",
       "      <th>0</th>\n",
       "      <td>5</td>\n",
       "      <td>0.544357</td>\n",
       "      <td>0.52</td>\n",
       "      <td>0.823333</td>\n",
       "      <td>0.006775</td>\n",
       "      <td>0.0</td>\n",
       "      <td>0.0000</td>\n",
       "      <td>4</td>\n",
       "      <td>0.232859</td>\n",
       "      <td>0.300000</td>\n",
       "      <td>0.616667</td>\n",
       "      <td>0.005420</td>\n",
       "      <td>1.0</td>\n",
       "      <td>0.0000</td>\n",
       "      <td>1</td>\n",
       "    </tr>\n",
       "    <tr>\n",
       "      <th>1</th>\n",
       "      <td>5</td>\n",
       "      <td>0.544357</td>\n",
       "      <td>0.52</td>\n",
       "      <td>0.823333</td>\n",
       "      <td>0.006775</td>\n",
       "      <td>0.0</td>\n",
       "      <td>0.0000</td>\n",
       "      <td>14</td>\n",
       "      <td>0.596318</td>\n",
       "      <td>-0.100000</td>\n",
       "      <td>0.400000</td>\n",
       "      <td>0.017615</td>\n",
       "      <td>1.0</td>\n",
       "      <td>0.0000</td>\n",
       "      <td>1</td>\n",
       "    </tr>\n",
       "    <tr>\n",
       "      <th>2</th>\n",
       "      <td>5</td>\n",
       "      <td>0.544357</td>\n",
       "      <td>0.52</td>\n",
       "      <td>0.823333</td>\n",
       "      <td>0.006775</td>\n",
       "      <td>0.0</td>\n",
       "      <td>0.0000</td>\n",
       "      <td>5</td>\n",
       "      <td>0.319747</td>\n",
       "      <td>0.600000</td>\n",
       "      <td>0.800000</td>\n",
       "      <td>0.006775</td>\n",
       "      <td>1.0</td>\n",
       "      <td>0.4215</td>\n",
       "      <td>1</td>\n",
       "    </tr>\n",
       "    <tr>\n",
       "      <th>3</th>\n",
       "      <td>5</td>\n",
       "      <td>0.544357</td>\n",
       "      <td>0.52</td>\n",
       "      <td>0.823333</td>\n",
       "      <td>0.006775</td>\n",
       "      <td>0.0</td>\n",
       "      <td>0.0000</td>\n",
       "      <td>2</td>\n",
       "      <td>0.546925</td>\n",
       "      <td>0.700000</td>\n",
       "      <td>0.600000</td>\n",
       "      <td>0.002710</td>\n",
       "      <td>0.0</td>\n",
       "      <td>0.4404</td>\n",
       "      <td>1</td>\n",
       "    </tr>\n",
       "    <tr>\n",
       "      <th>4</th>\n",
       "      <td>5</td>\n",
       "      <td>0.544357</td>\n",
       "      <td>0.52</td>\n",
       "      <td>0.823333</td>\n",
       "      <td>0.006775</td>\n",
       "      <td>0.0</td>\n",
       "      <td>0.0000</td>\n",
       "      <td>2</td>\n",
       "      <td>0.546925</td>\n",
       "      <td>0.700000</td>\n",
       "      <td>0.600000</td>\n",
       "      <td>0.002710</td>\n",
       "      <td>0.0</td>\n",
       "      <td>0.4404</td>\n",
       "      <td>1</td>\n",
       "    </tr>\n",
       "    <tr>\n",
       "      <th>...</th>\n",
       "      <td>...</td>\n",
       "      <td>...</td>\n",
       "      <td>...</td>\n",
       "      <td>...</td>\n",
       "      <td>...</td>\n",
       "      <td>...</td>\n",
       "      <td>...</td>\n",
       "      <td>...</td>\n",
       "      <td>...</td>\n",
       "      <td>...</td>\n",
       "      <td>...</td>\n",
       "      <td>...</td>\n",
       "      <td>...</td>\n",
       "      <td>...</td>\n",
       "      <td>...</td>\n",
       "    </tr>\n",
       "    <tr>\n",
       "      <th>212207</th>\n",
       "      <td>10</td>\n",
       "      <td>0.413633</td>\n",
       "      <td>0.50</td>\n",
       "      <td>0.500000</td>\n",
       "      <td>0.023866</td>\n",
       "      <td>0.0</td>\n",
       "      <td>-0.1263</td>\n",
       "      <td>15</td>\n",
       "      <td>0.571960</td>\n",
       "      <td>0.700000</td>\n",
       "      <td>0.600000</td>\n",
       "      <td>0.035800</td>\n",
       "      <td>0.0</td>\n",
       "      <td>0.1531</td>\n",
       "      <td>0</td>\n",
       "    </tr>\n",
       "    <tr>\n",
       "      <th>212208</th>\n",
       "      <td>10</td>\n",
       "      <td>0.413633</td>\n",
       "      <td>0.50</td>\n",
       "      <td>0.500000</td>\n",
       "      <td>0.023866</td>\n",
       "      <td>0.0</td>\n",
       "      <td>-0.1263</td>\n",
       "      <td>7</td>\n",
       "      <td>0.392391</td>\n",
       "      <td>0.316667</td>\n",
       "      <td>0.600000</td>\n",
       "      <td>0.016706</td>\n",
       "      <td>0.0</td>\n",
       "      <td>0.2382</td>\n",
       "      <td>0</td>\n",
       "    </tr>\n",
       "    <tr>\n",
       "      <th>212209</th>\n",
       "      <td>10</td>\n",
       "      <td>0.413633</td>\n",
       "      <td>0.50</td>\n",
       "      <td>0.500000</td>\n",
       "      <td>0.023866</td>\n",
       "      <td>0.0</td>\n",
       "      <td>-0.1263</td>\n",
       "      <td>25</td>\n",
       "      <td>0.575335</td>\n",
       "      <td>0.233333</td>\n",
       "      <td>0.255556</td>\n",
       "      <td>0.059666</td>\n",
       "      <td>0.0</td>\n",
       "      <td>0.5927</td>\n",
       "      <td>0</td>\n",
       "    </tr>\n",
       "    <tr>\n",
       "      <th>212210</th>\n",
       "      <td>10</td>\n",
       "      <td>0.413633</td>\n",
       "      <td>0.50</td>\n",
       "      <td>0.500000</td>\n",
       "      <td>0.023866</td>\n",
       "      <td>0.0</td>\n",
       "      <td>-0.1263</td>\n",
       "      <td>10</td>\n",
       "      <td>0.472342</td>\n",
       "      <td>0.500000</td>\n",
       "      <td>0.500000</td>\n",
       "      <td>0.023866</td>\n",
       "      <td>0.0</td>\n",
       "      <td>0.1779</td>\n",
       "      <td>0</td>\n",
       "    </tr>\n",
       "    <tr>\n",
       "      <th>212211</th>\n",
       "      <td>10</td>\n",
       "      <td>0.413633</td>\n",
       "      <td>0.50</td>\n",
       "      <td>0.500000</td>\n",
       "      <td>0.023866</td>\n",
       "      <td>0.0</td>\n",
       "      <td>-0.1263</td>\n",
       "      <td>11</td>\n",
       "      <td>0.166375</td>\n",
       "      <td>0.690000</td>\n",
       "      <td>0.900000</td>\n",
       "      <td>0.026253</td>\n",
       "      <td>0.0</td>\n",
       "      <td>0.5709</td>\n",
       "      <td>0</td>\n",
       "    </tr>\n",
       "  </tbody>\n",
       "</table>\n",
       "<p>212212 rows × 15 columns</p>\n",
       "</div>"
      ],
      "text/plain": [
       "        review_len_x      Rn_x  Rp_x      Rs_x      Rc_x  Rd_x   Rsc_x  \\\n",
       "0                  5  0.544357  0.52  0.823333  0.006775   0.0  0.0000   \n",
       "1                  5  0.544357  0.52  0.823333  0.006775   0.0  0.0000   \n",
       "2                  5  0.544357  0.52  0.823333  0.006775   0.0  0.0000   \n",
       "3                  5  0.544357  0.52  0.823333  0.006775   0.0  0.0000   \n",
       "4                  5  0.544357  0.52  0.823333  0.006775   0.0  0.0000   \n",
       "...              ...       ...   ...       ...       ...   ...     ...   \n",
       "212207            10  0.413633  0.50  0.500000  0.023866   0.0 -0.1263   \n",
       "212208            10  0.413633  0.50  0.500000  0.023866   0.0 -0.1263   \n",
       "212209            10  0.413633  0.50  0.500000  0.023866   0.0 -0.1263   \n",
       "212210            10  0.413633  0.50  0.500000  0.023866   0.0 -0.1263   \n",
       "212211            10  0.413633  0.50  0.500000  0.023866   0.0 -0.1263   \n",
       "\n",
       "        review_len_y      Rn_y      Rp_y      Rs_y      Rc_y  Rd_y   Rsc_y  \\\n",
       "0                  4  0.232859  0.300000  0.616667  0.005420   1.0  0.0000   \n",
       "1                 14  0.596318 -0.100000  0.400000  0.017615   1.0  0.0000   \n",
       "2                  5  0.319747  0.600000  0.800000  0.006775   1.0  0.4215   \n",
       "3                  2  0.546925  0.700000  0.600000  0.002710   0.0  0.4404   \n",
       "4                  2  0.546925  0.700000  0.600000  0.002710   0.0  0.4404   \n",
       "...              ...       ...       ...       ...       ...   ...     ...   \n",
       "212207            15  0.571960  0.700000  0.600000  0.035800   0.0  0.1531   \n",
       "212208             7  0.392391  0.316667  0.600000  0.016706   0.0  0.2382   \n",
       "212209            25  0.575335  0.233333  0.255556  0.059666   0.0  0.5927   \n",
       "212210            10  0.472342  0.500000  0.500000  0.023866   0.0  0.1779   \n",
       "212211            11  0.166375  0.690000  0.900000  0.026253   0.0  0.5709   \n",
       "\n",
       "        target  \n",
       "0            1  \n",
       "1            1  \n",
       "2            1  \n",
       "3            1  \n",
       "4            1  \n",
       "...        ...  \n",
       "212207       0  \n",
       "212208       0  \n",
       "212209       0  \n",
       "212210       0  \n",
       "212211       0  \n",
       "\n",
       "[212212 rows x 15 columns]"
      ]
     },
     "execution_count": 26,
     "metadata": {},
     "output_type": "execute_result"
    }
   ],
   "source": [
    "train"
   ]
  },
  {
   "cell_type": "code",
   "execution_count": 27,
   "metadata": {},
   "outputs": [
    {
     "name": "stdout",
     "output_type": "stream",
     "text": [
      "Test Len: 42443   42443\n"
     ]
    }
   ],
   "source": [
    "X = train.iloc[:,:-1]\n",
    "y = train.iloc[:,-1]\n",
    "\n",
    "from sklearn.model_selection import train_test_split\n",
    "X_train,X_test, y_train, y_test = train_test_split(X,y,test_size = 0.2,shuffle = True, stratify = y) \n",
    "print(\"Test Len:\",len(X_test),\" \",len(y_test))"
   ]
  },
  {
   "cell_type": "code",
   "execution_count": 28,
   "metadata": {},
   "outputs": [
    {
     "data": {
      "text/html": [
       "<div>\n",
       "<style scoped>\n",
       "    .dataframe tbody tr th:only-of-type {\n",
       "        vertical-align: middle;\n",
       "    }\n",
       "\n",
       "    .dataframe tbody tr th {\n",
       "        vertical-align: top;\n",
       "    }\n",
       "\n",
       "    .dataframe thead th {\n",
       "        text-align: right;\n",
       "    }\n",
       "</style>\n",
       "<table border=\"1\" class=\"dataframe\">\n",
       "  <thead>\n",
       "    <tr style=\"text-align: right;\">\n",
       "      <th></th>\n",
       "      <th>review_len_x</th>\n",
       "      <th>Rn_x</th>\n",
       "      <th>Rp_x</th>\n",
       "      <th>Rs_x</th>\n",
       "      <th>Rc_x</th>\n",
       "      <th>Rd_x</th>\n",
       "      <th>Rsc_x</th>\n",
       "      <th>review_len_y</th>\n",
       "      <th>Rn_y</th>\n",
       "      <th>Rp_y</th>\n",
       "      <th>Rs_y</th>\n",
       "      <th>Rc_y</th>\n",
       "      <th>Rd_y</th>\n",
       "      <th>Rsc_y</th>\n",
       "      <th>target</th>\n",
       "    </tr>\n",
       "  </thead>\n",
       "  <tbody>\n",
       "    <tr>\n",
       "      <th>0</th>\n",
       "      <td>5</td>\n",
       "      <td>0.544357</td>\n",
       "      <td>0.52</td>\n",
       "      <td>0.823333</td>\n",
       "      <td>0.006775</td>\n",
       "      <td>0.0</td>\n",
       "      <td>0.0000</td>\n",
       "      <td>4</td>\n",
       "      <td>0.232859</td>\n",
       "      <td>0.300000</td>\n",
       "      <td>0.616667</td>\n",
       "      <td>0.005420</td>\n",
       "      <td>1.0</td>\n",
       "      <td>0.0000</td>\n",
       "      <td>1</td>\n",
       "    </tr>\n",
       "    <tr>\n",
       "      <th>1</th>\n",
       "      <td>5</td>\n",
       "      <td>0.544357</td>\n",
       "      <td>0.52</td>\n",
       "      <td>0.823333</td>\n",
       "      <td>0.006775</td>\n",
       "      <td>0.0</td>\n",
       "      <td>0.0000</td>\n",
       "      <td>14</td>\n",
       "      <td>0.596318</td>\n",
       "      <td>-0.100000</td>\n",
       "      <td>0.400000</td>\n",
       "      <td>0.017615</td>\n",
       "      <td>1.0</td>\n",
       "      <td>0.0000</td>\n",
       "      <td>1</td>\n",
       "    </tr>\n",
       "    <tr>\n",
       "      <th>2</th>\n",
       "      <td>5</td>\n",
       "      <td>0.544357</td>\n",
       "      <td>0.52</td>\n",
       "      <td>0.823333</td>\n",
       "      <td>0.006775</td>\n",
       "      <td>0.0</td>\n",
       "      <td>0.0000</td>\n",
       "      <td>5</td>\n",
       "      <td>0.319747</td>\n",
       "      <td>0.600000</td>\n",
       "      <td>0.800000</td>\n",
       "      <td>0.006775</td>\n",
       "      <td>1.0</td>\n",
       "      <td>0.4215</td>\n",
       "      <td>1</td>\n",
       "    </tr>\n",
       "    <tr>\n",
       "      <th>3</th>\n",
       "      <td>5</td>\n",
       "      <td>0.544357</td>\n",
       "      <td>0.52</td>\n",
       "      <td>0.823333</td>\n",
       "      <td>0.006775</td>\n",
       "      <td>0.0</td>\n",
       "      <td>0.0000</td>\n",
       "      <td>2</td>\n",
       "      <td>0.546925</td>\n",
       "      <td>0.700000</td>\n",
       "      <td>0.600000</td>\n",
       "      <td>0.002710</td>\n",
       "      <td>0.0</td>\n",
       "      <td>0.4404</td>\n",
       "      <td>1</td>\n",
       "    </tr>\n",
       "    <tr>\n",
       "      <th>4</th>\n",
       "      <td>5</td>\n",
       "      <td>0.544357</td>\n",
       "      <td>0.52</td>\n",
       "      <td>0.823333</td>\n",
       "      <td>0.006775</td>\n",
       "      <td>0.0</td>\n",
       "      <td>0.0000</td>\n",
       "      <td>2</td>\n",
       "      <td>0.546925</td>\n",
       "      <td>0.700000</td>\n",
       "      <td>0.600000</td>\n",
       "      <td>0.002710</td>\n",
       "      <td>0.0</td>\n",
       "      <td>0.4404</td>\n",
       "      <td>1</td>\n",
       "    </tr>\n",
       "    <tr>\n",
       "      <th>...</th>\n",
       "      <td>...</td>\n",
       "      <td>...</td>\n",
       "      <td>...</td>\n",
       "      <td>...</td>\n",
       "      <td>...</td>\n",
       "      <td>...</td>\n",
       "      <td>...</td>\n",
       "      <td>...</td>\n",
       "      <td>...</td>\n",
       "      <td>...</td>\n",
       "      <td>...</td>\n",
       "      <td>...</td>\n",
       "      <td>...</td>\n",
       "      <td>...</td>\n",
       "      <td>...</td>\n",
       "    </tr>\n",
       "    <tr>\n",
       "      <th>212207</th>\n",
       "      <td>10</td>\n",
       "      <td>0.413633</td>\n",
       "      <td>0.50</td>\n",
       "      <td>0.500000</td>\n",
       "      <td>0.023866</td>\n",
       "      <td>0.0</td>\n",
       "      <td>-0.1263</td>\n",
       "      <td>15</td>\n",
       "      <td>0.571960</td>\n",
       "      <td>0.700000</td>\n",
       "      <td>0.600000</td>\n",
       "      <td>0.035800</td>\n",
       "      <td>0.0</td>\n",
       "      <td>0.1531</td>\n",
       "      <td>0</td>\n",
       "    </tr>\n",
       "    <tr>\n",
       "      <th>212208</th>\n",
       "      <td>10</td>\n",
       "      <td>0.413633</td>\n",
       "      <td>0.50</td>\n",
       "      <td>0.500000</td>\n",
       "      <td>0.023866</td>\n",
       "      <td>0.0</td>\n",
       "      <td>-0.1263</td>\n",
       "      <td>7</td>\n",
       "      <td>0.392391</td>\n",
       "      <td>0.316667</td>\n",
       "      <td>0.600000</td>\n",
       "      <td>0.016706</td>\n",
       "      <td>0.0</td>\n",
       "      <td>0.2382</td>\n",
       "      <td>0</td>\n",
       "    </tr>\n",
       "    <tr>\n",
       "      <th>212209</th>\n",
       "      <td>10</td>\n",
       "      <td>0.413633</td>\n",
       "      <td>0.50</td>\n",
       "      <td>0.500000</td>\n",
       "      <td>0.023866</td>\n",
       "      <td>0.0</td>\n",
       "      <td>-0.1263</td>\n",
       "      <td>25</td>\n",
       "      <td>0.575335</td>\n",
       "      <td>0.233333</td>\n",
       "      <td>0.255556</td>\n",
       "      <td>0.059666</td>\n",
       "      <td>0.0</td>\n",
       "      <td>0.5927</td>\n",
       "      <td>0</td>\n",
       "    </tr>\n",
       "    <tr>\n",
       "      <th>212210</th>\n",
       "      <td>10</td>\n",
       "      <td>0.413633</td>\n",
       "      <td>0.50</td>\n",
       "      <td>0.500000</td>\n",
       "      <td>0.023866</td>\n",
       "      <td>0.0</td>\n",
       "      <td>-0.1263</td>\n",
       "      <td>10</td>\n",
       "      <td>0.472342</td>\n",
       "      <td>0.500000</td>\n",
       "      <td>0.500000</td>\n",
       "      <td>0.023866</td>\n",
       "      <td>0.0</td>\n",
       "      <td>0.1779</td>\n",
       "      <td>0</td>\n",
       "    </tr>\n",
       "    <tr>\n",
       "      <th>212211</th>\n",
       "      <td>10</td>\n",
       "      <td>0.413633</td>\n",
       "      <td>0.50</td>\n",
       "      <td>0.500000</td>\n",
       "      <td>0.023866</td>\n",
       "      <td>0.0</td>\n",
       "      <td>-0.1263</td>\n",
       "      <td>11</td>\n",
       "      <td>0.166375</td>\n",
       "      <td>0.690000</td>\n",
       "      <td>0.900000</td>\n",
       "      <td>0.026253</td>\n",
       "      <td>0.0</td>\n",
       "      <td>0.5709</td>\n",
       "      <td>0</td>\n",
       "    </tr>\n",
       "  </tbody>\n",
       "</table>\n",
       "<p>212212 rows × 15 columns</p>\n",
       "</div>"
      ],
      "text/plain": [
       "        review_len_x      Rn_x  Rp_x      Rs_x      Rc_x  Rd_x   Rsc_x  \\\n",
       "0                  5  0.544357  0.52  0.823333  0.006775   0.0  0.0000   \n",
       "1                  5  0.544357  0.52  0.823333  0.006775   0.0  0.0000   \n",
       "2                  5  0.544357  0.52  0.823333  0.006775   0.0  0.0000   \n",
       "3                  5  0.544357  0.52  0.823333  0.006775   0.0  0.0000   \n",
       "4                  5  0.544357  0.52  0.823333  0.006775   0.0  0.0000   \n",
       "...              ...       ...   ...       ...       ...   ...     ...   \n",
       "212207            10  0.413633  0.50  0.500000  0.023866   0.0 -0.1263   \n",
       "212208            10  0.413633  0.50  0.500000  0.023866   0.0 -0.1263   \n",
       "212209            10  0.413633  0.50  0.500000  0.023866   0.0 -0.1263   \n",
       "212210            10  0.413633  0.50  0.500000  0.023866   0.0 -0.1263   \n",
       "212211            10  0.413633  0.50  0.500000  0.023866   0.0 -0.1263   \n",
       "\n",
       "        review_len_y      Rn_y      Rp_y      Rs_y      Rc_y  Rd_y   Rsc_y  \\\n",
       "0                  4  0.232859  0.300000  0.616667  0.005420   1.0  0.0000   \n",
       "1                 14  0.596318 -0.100000  0.400000  0.017615   1.0  0.0000   \n",
       "2                  5  0.319747  0.600000  0.800000  0.006775   1.0  0.4215   \n",
       "3                  2  0.546925  0.700000  0.600000  0.002710   0.0  0.4404   \n",
       "4                  2  0.546925  0.700000  0.600000  0.002710   0.0  0.4404   \n",
       "...              ...       ...       ...       ...       ...   ...     ...   \n",
       "212207            15  0.571960  0.700000  0.600000  0.035800   0.0  0.1531   \n",
       "212208             7  0.392391  0.316667  0.600000  0.016706   0.0  0.2382   \n",
       "212209            25  0.575335  0.233333  0.255556  0.059666   0.0  0.5927   \n",
       "212210            10  0.472342  0.500000  0.500000  0.023866   0.0  0.1779   \n",
       "212211            11  0.166375  0.690000  0.900000  0.026253   0.0  0.5709   \n",
       "\n",
       "        target  \n",
       "0            1  \n",
       "1            1  \n",
       "2            1  \n",
       "3            1  \n",
       "4            1  \n",
       "...        ...  \n",
       "212207       0  \n",
       "212208       0  \n",
       "212209       0  \n",
       "212210       0  \n",
       "212211       0  \n",
       "\n",
       "[212212 rows x 15 columns]"
      ]
     },
     "execution_count": 28,
     "metadata": {},
     "output_type": "execute_result"
    }
   ],
   "source": [
    "train"
   ]
  },
  {
   "cell_type": "markdown",
   "metadata": {},
   "source": []
  },
  {
   "cell_type": "code",
   "execution_count": 29,
   "metadata": {},
   "outputs": [
    {
     "name": "stderr",
     "output_type": "stream",
     "text": [
      "e:\\true_faundry\\projectpro-external-main\\Projects\\venv\\lib\\site-packages\\sklearn\\linear_model\\_logistic.py:818: ConvergenceWarning: lbfgs failed to converge (status=1):\n",
      "STOP: TOTAL NO. of ITERATIONS REACHED LIMIT.\n",
      "\n",
      "Increase the number of iterations (max_iter) or scale the data as shown in:\n",
      "    https://scikit-learn.org/stable/modules/preprocessing.html\n",
      "Please also refer to the documentation for alternative solver options:\n",
      "    https://scikit-learn.org/stable/modules/linear_model.html#logistic-regression\n",
      "  extra_warning_msg=_LOGISTIC_SOLVER_CONVERGENCE_MSG,\n"
     ]
    },
    {
     "name": "stdout",
     "output_type": "stream",
     "text": [
      "Training Accuracy\n",
      " 0.8511035583646013\n",
      "Test Accuracy\n",
      " 0.8501284075112504\n",
      "CLASSIFICATION REPORT\n",
      "Training\n",
      "               precision    recall  f1-score   support\n",
      "\n",
      "           0       0.85      0.85      0.85     84885\n",
      "           1       0.85      0.85      0.85     84884\n",
      "\n",
      "    accuracy                           0.85    169769\n",
      "   macro avg       0.85      0.85      0.85    169769\n",
      "weighted avg       0.85      0.85      0.85    169769\n",
      "\n",
      "Test \n",
      "               precision    recall  f1-score   support\n",
      "\n",
      "           0       0.85      0.85      0.85     21221\n",
      "           1       0.85      0.85      0.85     21222\n",
      "\n",
      "    accuracy                           0.85     42443\n",
      "   macro avg       0.85      0.85      0.85     42443\n",
      "weighted avg       0.85      0.85      0.85     42443\n",
      "\n"
     ]
    }
   ],
   "source": [
    "from sklearn.linear_model import LogisticRegression\n",
    "classifier = LogisticRegression()\n",
    "classifier.fit(X_train,y_train)\n",
    "print(\"Training Accuracy\\n\", accuracy_score(y_train,classifier.predict(X_train)))\n",
    "print(\"Test Accuracy\\n\", accuracy_score(y_test,classifier.predict(X_test)))\n",
    "\n",
    "print('CLASSIFICATION REPORT')\n",
    "print(\"Training\\n\", classification_report(y_train,classifier.predict(X_train)))\n",
    "print(\"Test \\n\", classification_report(y_test,classifier.predict(X_test)))"
   ]
  },
  {
   "cell_type": "markdown",
   "metadata": {},
   "source": []
  },
  {
   "cell_type": "code",
   "execution_count": 30,
   "metadata": {},
   "outputs": [
    {
     "name": "stdout",
     "output_type": "stream",
     "text": [
      "[mlfoundry] 2022-06-30T15:39:02+0530 INFO project ecommerce-product-reviews does not exist. Creating ecommerce-product-reviews.\n",
      "Link to the dashboard for the run: https://app.truefoundry.com/mlfoundry/147/7f838202516f487fb1f3b74a494a4f6d/\n",
      "[mlfoundry] 2022-06-30T15:39:09+0530 WARNING failed to log git info because git repository is not present\n",
      "[mlfoundry] 2022-06-30T15:39:11+0530 INFO Run 'Kumar/ecommerce-product-reviews/Logistic-Regression' has started.\n",
      "Int64Index([205377, 167395,  23784,  57842, 155061,  38796,   4592, 193064,\n",
      "            205211, 189686,\n",
      "            ...\n",
      "            130800,  23694,  56660, 161721, 163474, 202015, 172215, 140770,\n",
      "             49967,  26165],\n",
      "           dtype='int64', length=169769)\n"
     ]
    }
   ],
   "source": [
    "mlf_run = mlf_api.create_run(project_name='ecommerce-product-reviews', run_name='Logistic-Regression')\n",
    "\n",
    "train_dataset = X_train.copy()\n",
    "print(train_dataset.index)\n",
    "train_dataset['targets'] = y_train\n",
    "train_dataset['predictions'] = classifier.predict(X_train)\n",
    "train_dataset['prediction_probabilities'] = list(classifier.predict_proba(X_train))\n"
   ]
  },
  {
   "cell_type": "code",
   "execution_count": 31,
   "metadata": {},
   "outputs": [
    {
     "name": "stdout",
     "output_type": "stream",
     "text": [
      "[mlfoundry] 2022-06-30T15:39:12+0530 INFO Logging Dataset, this might take a while ...\n"
     ]
    },
    {
     "name": "stderr",
     "output_type": "stream",
     "text": [
      "About to log a dataframe with 2376766 elements, logging might take some time to complete.\n"
     ]
    },
    {
     "name": "stdout",
     "output_type": "stream",
     "text": [
      "[mlfoundry] 2022-06-30T15:42:26+0530 INFO Dataset logged successfully\n",
      "To visualize the logged dataset, click on the link https://app.truefoundry.com/mlfoundry/147/7f838202516f487fb1f3b74a494a4f6d/?tab=data-feature-metrics\n"
     ]
    }
   ],
   "source": [
    "mlf_run.log_dataset(\n",
    "    dataset_name = 'train_dataset',\n",
    "    features = train_dataset[list(X_train.columns)],\n",
    "    predictions = train_dataset['predictions'],\n",
    "    actuals = train_dataset['targets'],\n",
    "    only_stats = False,   \n",
    ")"
   ]
  },
  {
   "cell_type": "code",
   "execution_count": 32,
   "metadata": {},
   "outputs": [],
   "source": [
    "test_dataset = X_test.copy()\n",
    "test_dataset['targets'] = y_test\n",
    "test_dataset['predictions'] = classifier.predict(X_test)\n",
    "test_dataset['prediction_probabilities'] = list(classifier.predict_proba(X_test))"
   ]
  },
  {
   "cell_type": "code",
   "execution_count": 33,
   "metadata": {},
   "outputs": [
    {
     "name": "stdout",
     "output_type": "stream",
     "text": [
      "[mlfoundry] 2022-06-30T15:42:27+0530 INFO Logging Dataset, this might take a while ...\n"
     ]
    },
    {
     "name": "stderr",
     "output_type": "stream",
     "text": [
      "About to log a dataframe with 594202 elements, logging might take some time to complete.\n"
     ]
    },
    {
     "name": "stdout",
     "output_type": "stream",
     "text": [
      "[mlfoundry] 2022-06-30T15:43:40+0530 INFO Dataset logged successfully\n",
      "To visualize the logged dataset, click on the link https://app.truefoundry.com/mlfoundry/147/7f838202516f487fb1f3b74a494a4f6d/?tab=data-feature-metrics\n"
     ]
    }
   ],
   "source": [
    "mlf_run.log_dataset(\n",
    "    dataset_name = 'test_dataset',\n",
    "    features = test_dataset[list(X_test.columns)],\n",
    "    predictions = test_dataset['predictions'],\n",
    "    actuals = test_dataset['targets'],\n",
    "    only_stats = False,\n",
    ")"
   ]
  },
  {
   "cell_type": "code",
   "execution_count": 34,
   "metadata": {},
   "outputs": [
    {
     "name": "stdout",
     "output_type": "stream",
     "text": [
      "[mlfoundry] 2022-06-30T15:43:42+0530 INFO Metrics logged successfully\n"
     ]
    }
   ],
   "source": [
    "y_predict = classifier.predict(X_test)\n",
    "\n",
    "metrics_dict = {\n",
    "    \"Accuracy\": accuracy_score(y_test, y_predict),\n",
    "    \"Precision\": precision_score(y_test, y_predict),\n",
    "    \"Recall\": recall_score(y_test, y_predict),\n",
    "}\n",
    "\n",
    "mlf_run.log_metrics(metrics_dict)"
   ]
  },
  {
   "cell_type": "code",
   "execution_count": 35,
   "metadata": {},
   "outputs": [
    {
     "name": "stdout",
     "output_type": "stream",
     "text": [
      "[mlfoundry] 2022-06-30T15:44:37+0530 INFO Model logged successfully\n",
      "[mlfoundry] 2022-06-30T15:44:39+0530 INFO Parameters logged successfully\n"
     ]
    }
   ],
   "source": [
    "mlf_run.log_model(classifier, framework=mlf.ModelFramework.SKLEARN)\n",
    "mlf_run.log_params(classifier.get_params())"
   ]
  },
  {
   "cell_type": "code",
   "execution_count": 36,
   "metadata": {},
   "outputs": [
    {
     "name": "stdout",
     "output_type": "stream",
     "text": [
      "Training Accuracy\n",
      " 0.9966071544274867\n",
      "Test Accuracy\n",
      " 0.9836957802228872\n",
      "CLASSIFICATION REPORT\n",
      "Training\n",
      "               precision    recall  f1-score   support\n",
      "\n",
      "           0       0.99      1.00      1.00     84885\n",
      "           1       1.00      0.99      1.00     84884\n",
      "\n",
      "    accuracy                           1.00    169769\n",
      "   macro avg       1.00      1.00      1.00    169769\n",
      "weighted avg       1.00      1.00      1.00    169769\n",
      "\n",
      "Test \n",
      "               precision    recall  f1-score   support\n",
      "\n",
      "           0       0.98      0.99      0.98     21221\n",
      "           1       0.98      0.98      0.98     21222\n",
      "\n",
      "    accuracy                           0.98     42443\n",
      "   macro avg       0.98      0.98      0.98     42443\n",
      "weighted avg       0.98      0.98      0.98     42443\n",
      "\n"
     ]
    }
   ],
   "source": [
    "# Decision Tree\n",
    "from sklearn.tree import DecisionTreeClassifier\n",
    "\n",
    "classifier = DecisionTreeClassifier()\n",
    "classifier.fit(X_train,y_train)\n",
    "\n",
    "print(\"Training Accuracy\\n\", accuracy_score(y_train,classifier.predict(X_train)))\n",
    "print(\"Test Accuracy\\n\", accuracy_score(y_test,classifier.predict(X_test)))\n",
    "\n",
    "print('CLASSIFICATION REPORT')\n",
    "print(\"Training\\n\", classification_report(y_train,classifier.predict(X_train)))\n",
    "print(\"Test \\n\", classification_report(y_test,classifier.predict(X_test)))"
   ]
  },
  {
   "cell_type": "code",
   "execution_count": 37,
   "metadata": {},
   "outputs": [
    {
     "name": "stdout",
     "output_type": "stream",
     "text": [
      "Link to the dashboard for the run: https://app.truefoundry.com/mlfoundry/147/683081be838146e2a69b78b78e0724ca/\n",
      "[mlfoundry] 2022-06-30T15:45:00+0530 WARNING failed to log git info because git repository is not present\n",
      "[mlfoundry] 2022-06-30T15:45:03+0530 INFO Run 'Kumar/ecommerce-product-reviews/Decision-Tree' has started.\n"
     ]
    }
   ],
   "source": [
    "mlf_run = mlf_api.create_run(project_name='ecommerce-product-reviews', run_name='Decision-Tree')\n",
    "\n",
    "train_dataset = X_train.copy()\n",
    "train_dataset['targets'] = y_train\n",
    "train_dataset['predictions'] = classifier.predict(X_train)\n",
    "train_dataset['prediction_probabilities'] = list(classifier.predict_proba(X_train))"
   ]
  },
  {
   "cell_type": "code",
   "execution_count": 38,
   "metadata": {},
   "outputs": [
    {
     "name": "stdout",
     "output_type": "stream",
     "text": [
      "[mlfoundry] 2022-06-30T15:45:05+0530 INFO Logging Dataset, this might take a while ...\n"
     ]
    },
    {
     "name": "stderr",
     "output_type": "stream",
     "text": [
      "About to log a dataframe with 2376766 elements, logging might take some time to complete.\n"
     ]
    },
    {
     "name": "stdout",
     "output_type": "stream",
     "text": [
      "[mlfoundry] 2022-06-30T15:46:24+0530 INFO Shutting down background jobs and syncing data for run 'Kumar/ecommerce-product-reviews/Logistic-Regression', please don't kill this process...\n",
      "[mlfoundry] 2022-06-30T15:46:24+0530 WARNING failed to set termination status FINISHED due to cannot join current thread\n",
      "Link to the dashboard for the run: https://app.truefoundry.com/mlfoundry/147/7f838202516f487fb1f3b74a494a4f6d/\n",
      "[mlfoundry] 2022-06-30T15:50:23+0530 INFO Dataset logged successfully\n",
      "To visualize the logged dataset, click on the link https://app.truefoundry.com/mlfoundry/147/683081be838146e2a69b78b78e0724ca/?tab=data-feature-metrics\n"
     ]
    }
   ],
   "source": [
    "mlf_run.log_dataset(\n",
    "    dataset_name = 'train_dataset',\n",
    "    features = train_dataset[list(X_train.columns)],\n",
    "    predictions = train_dataset['predictions'],\n",
    "    actuals = train_dataset['targets'],\n",
    "    only_stats = False,   \n",
    ")"
   ]
  },
  {
   "cell_type": "code",
   "execution_count": 39,
   "metadata": {},
   "outputs": [],
   "source": [
    "test_dataset = X_test.copy()\n",
    "test_dataset['targets'] = y_test\n",
    "test_dataset['predictions'] = classifier.predict(X_test)\n",
    "test_dataset['prediction_probabilities'] = list(classifier.predict_proba(X_test))"
   ]
  },
  {
   "cell_type": "code",
   "execution_count": 40,
   "metadata": {},
   "outputs": [
    {
     "name": "stdout",
     "output_type": "stream",
     "text": [
      "[mlfoundry] 2022-06-30T15:50:24+0530 INFO Logging Dataset, this might take a while ...\n"
     ]
    },
    {
     "name": "stderr",
     "output_type": "stream",
     "text": [
      "About to log a dataframe with 594202 elements, logging might take some time to complete.\n"
     ]
    },
    {
     "name": "stdout",
     "output_type": "stream",
     "text": [
      "[mlfoundry] 2022-06-30T15:52:19+0530 INFO Dataset logged successfully\n",
      "To visualize the logged dataset, click on the link https://app.truefoundry.com/mlfoundry/147/683081be838146e2a69b78b78e0724ca/?tab=data-feature-metrics\n"
     ]
    }
   ],
   "source": [
    "mlf_run.log_dataset(\n",
    "    dataset_name = 'test_dataset',\n",
    "    features = test_dataset[list(X_test.columns)],\n",
    "    predictions = test_dataset['predictions'],\n",
    "    actuals = test_dataset['targets'],\n",
    "    only_stats = False,\n",
    ")"
   ]
  },
  {
   "cell_type": "code",
   "execution_count": 41,
   "metadata": {},
   "outputs": [
    {
     "name": "stdout",
     "output_type": "stream",
     "text": [
      "[mlfoundry] 2022-06-30T15:52:27+0530 INFO Metrics logged successfully\n"
     ]
    }
   ],
   "source": [
    "y_predict = classifier.predict(X_test)\n",
    "\n",
    "metrics_dict = {\n",
    "    \"Accuracy\": accuracy_score(y_test, y_predict),\n",
    "    \"Precision\": precision_score(y_test, y_predict),\n",
    "    \"Recall\": recall_score(y_test, y_predict),\n",
    "}\n",
    "\n",
    "mlf_run.log_metrics(metrics_dict)"
   ]
  },
  {
   "cell_type": "code",
   "execution_count": 42,
   "metadata": {},
   "outputs": [
    {
     "name": "stdout",
     "output_type": "stream",
     "text": [
      "[mlfoundry] 2022-06-30T15:53:15+0530 INFO Model logged successfully\n",
      "[mlfoundry] 2022-06-30T15:53:17+0530 INFO Parameters logged successfully\n"
     ]
    }
   ],
   "source": [
    "mlf_run.log_model(classifier, framework=mlf.ModelFramework.SKLEARN)\n",
    "mlf_run.log_params(classifier.get_params())"
   ]
  },
  {
   "cell_type": "code",
   "execution_count": 43,
   "metadata": {},
   "outputs": [
    {
     "name": "stdout",
     "output_type": "stream",
     "text": [
      "Training Accuracy\n",
      " 0.9966071544274867\n",
      "Test Accuracy\n",
      " 0.9889970077515727\n",
      "CLASSIFICATION REPORT\n",
      "Training\n",
      "               precision    recall  f1-score   support\n",
      "\n",
      "           0       1.00      1.00      1.00     84885\n",
      "           1       1.00      1.00      1.00     84884\n",
      "\n",
      "    accuracy                           1.00    169769\n",
      "   macro avg       1.00      1.00      1.00    169769\n",
      "weighted avg       1.00      1.00      1.00    169769\n",
      "\n",
      "Test \n",
      "               precision    recall  f1-score   support\n",
      "\n",
      "           0       0.99      0.99      0.99     21221\n",
      "           1       0.99      0.99      0.99     21222\n",
      "\n",
      "    accuracy                           0.99     42443\n",
      "   macro avg       0.99      0.99      0.99     42443\n",
      "weighted avg       0.99      0.99      0.99     42443\n",
      "\n",
      "Test\n",
      "Confusion Matrix: \n",
      " [[20986   235]\n",
      " [  232 20990]]\n"
     ]
    }
   ],
   "source": [
    "from sklearn.ensemble import RandomForestClassifier\n",
    "\n",
    "classifier = RandomForestClassifier(n_estimators=50, n_jobs = -1, oob_score = True,random_state=42)\n",
    "classifier.fit(X_train,y_train)\n",
    "\n",
    "print(\"Training Accuracy\\n\", accuracy_score(y_train,classifier.predict(X_train)))\n",
    "print(\"Test Accuracy\\n\", accuracy_score(y_test,classifier.predict(X_test)))\n",
    "\n",
    "print('CLASSIFICATION REPORT')\n",
    "print(\"Training\\n\", classification_report(y_train,classifier.predict(X_train)))\n",
    "print(\"Test \\n\", classification_report(y_test,classifier.predict(X_test)))\n",
    "\n",
    "print(\"Test\\nConfusion Matrix: \\n\", confusion_matrix(y_test, classifier.predict(X_test)))"
   ]
  },
  {
   "cell_type": "code",
   "execution_count": 44,
   "metadata": {},
   "outputs": [
    {
     "data": {
      "text/plain": [
       "0.9881073694255135"
      ]
     },
     "execution_count": 44,
     "metadata": {},
     "output_type": "execute_result"
    }
   ],
   "source": [
    "## Score of the training dataset obtained using an out-of-bag estimate. This attribute exists only when oob_score is True.\n",
    "classifier.oob_score_"
   ]
  },
  {
   "cell_type": "code",
   "execution_count": 45,
   "metadata": {},
   "outputs": [
    {
     "data": {
      "text/html": [
       "<div>\n",
       "<style scoped>\n",
       "    .dataframe tbody tr th:only-of-type {\n",
       "        vertical-align: middle;\n",
       "    }\n",
       "\n",
       "    .dataframe tbody tr th {\n",
       "        vertical-align: top;\n",
       "    }\n",
       "\n",
       "    .dataframe thead th {\n",
       "        text-align: right;\n",
       "    }\n",
       "</style>\n",
       "<table border=\"1\" class=\"dataframe\">\n",
       "  <thead>\n",
       "    <tr style=\"text-align: right;\">\n",
       "      <th></th>\n",
       "      <th>importance</th>\n",
       "    </tr>\n",
       "  </thead>\n",
       "  <tbody>\n",
       "    <tr>\n",
       "      <th>Rd_y</th>\n",
       "      <td>0.191935</td>\n",
       "    </tr>\n",
       "    <tr>\n",
       "      <th>Rd_x</th>\n",
       "      <td>0.182769</td>\n",
       "    </tr>\n",
       "    <tr>\n",
       "      <th>review_len_x</th>\n",
       "      <td>0.122598</td>\n",
       "    </tr>\n",
       "    <tr>\n",
       "      <th>review_len_y</th>\n",
       "      <td>0.100122</td>\n",
       "    </tr>\n",
       "    <tr>\n",
       "      <th>Rc_y</th>\n",
       "      <td>0.086639</td>\n",
       "    </tr>\n",
       "    <tr>\n",
       "      <th>Rc_x</th>\n",
       "      <td>0.066476</td>\n",
       "    </tr>\n",
       "    <tr>\n",
       "      <th>Rsc_x</th>\n",
       "      <td>0.041485</td>\n",
       "    </tr>\n",
       "    <tr>\n",
       "      <th>Rsc_y</th>\n",
       "      <td>0.038831</td>\n",
       "    </tr>\n",
       "    <tr>\n",
       "      <th>Rn_x</th>\n",
       "      <td>0.038809</td>\n",
       "    </tr>\n",
       "    <tr>\n",
       "      <th>Rn_y</th>\n",
       "      <td>0.038258</td>\n",
       "    </tr>\n",
       "    <tr>\n",
       "      <th>Rp_y</th>\n",
       "      <td>0.026627</td>\n",
       "    </tr>\n",
       "    <tr>\n",
       "      <th>Rp_x</th>\n",
       "      <td>0.024359</td>\n",
       "    </tr>\n",
       "    <tr>\n",
       "      <th>Rs_y</th>\n",
       "      <td>0.020568</td>\n",
       "    </tr>\n",
       "    <tr>\n",
       "      <th>Rs_x</th>\n",
       "      <td>0.020526</td>\n",
       "    </tr>\n",
       "  </tbody>\n",
       "</table>\n",
       "</div>"
      ],
      "text/plain": [
       "              importance\n",
       "Rd_y            0.191935\n",
       "Rd_x            0.182769\n",
       "review_len_x    0.122598\n",
       "review_len_y    0.100122\n",
       "Rc_y            0.086639\n",
       "Rc_x            0.066476\n",
       "Rsc_x           0.041485\n",
       "Rsc_y           0.038831\n",
       "Rn_x            0.038809\n",
       "Rn_y            0.038258\n",
       "Rp_y            0.026627\n",
       "Rp_x            0.024359\n",
       "Rs_y            0.020568\n",
       "Rs_x            0.020526"
      ]
     },
     "execution_count": 45,
     "metadata": {},
     "output_type": "execute_result"
    }
   ],
   "source": [
    "feature_importances = pd.DataFrame(classifier.feature_importances_,\n",
    "                                   index = train.iloc[:,:-1].columns,\n",
    "                                    columns=['importance']).sort_values('importance',ascending=False)\n",
    "feature_importances"
   ]
  },
  {
   "cell_type": "code",
   "execution_count": 46,
   "metadata": {},
   "outputs": [
    {
     "data": {
      "text/plain": [
       "['randomforest.joblib']"
      ]
     },
     "execution_count": 46,
     "metadata": {},
     "output_type": "execute_result"
    }
   ],
   "source": [
    "dump(classifier, 'randomforest.joblib', compress = 2)"
   ]
  },
  {
   "cell_type": "code",
   "execution_count": 47,
   "metadata": {},
   "outputs": [
    {
     "name": "stdout",
     "output_type": "stream",
     "text": [
      "Link to the dashboard for the run: https://app.truefoundry.com/mlfoundry/147/bf74414fcbe94a7997831abfbda3e1f2/\n",
      "[mlfoundry] 2022-06-30T15:55:17+0530 WARNING failed to log git info because git repository is not present\n",
      "[mlfoundry] 2022-06-30T15:55:19+0530 INFO Run 'Kumar/ecommerce-product-reviews/Random-Forest' has started.\n",
      "[mlfoundry] 2022-06-30T15:55:26+0530 INFO Shutting down background jobs and syncing data for run 'Kumar/ecommerce-product-reviews/Decision-Tree', please don't kill this process...\n",
      "[mlfoundry] 2022-06-30T15:55:30+0530 INFO Finished syncing data for run 'Kumar/ecommerce-product-reviews/Decision-Tree'. Thank you for waiting!\n",
      "Link to the dashboard for the run: https://app.truefoundry.com/mlfoundry/147/683081be838146e2a69b78b78e0724ca/\n"
     ]
    }
   ],
   "source": [
    "mlf_run = mlf_api.create_run(project_name='ecommerce-product-reviews', run_name='Random-Forest')"
   ]
  },
  {
   "cell_type": "code",
   "execution_count": 48,
   "metadata": {},
   "outputs": [],
   "source": [
    "train_dataset = X_train.copy()\n",
    "train_dataset['targets'] = y_train\n",
    "train_dataset['predictions'] = classifier.predict(X_train)\n",
    "train_dataset['prediction_probabilities'] = list(classifier.predict_proba(X_train))"
   ]
  },
  {
   "cell_type": "code",
   "execution_count": 49,
   "metadata": {},
   "outputs": [
    {
     "name": "stdout",
     "output_type": "stream",
     "text": [
      "[mlfoundry] 2022-06-30T15:55:43+0530 INFO Logging Dataset, this might take a while ...\n"
     ]
    },
    {
     "name": "stderr",
     "output_type": "stream",
     "text": [
      "About to log a dataframe with 2376766 elements, logging might take some time to complete.\n"
     ]
    },
    {
     "name": "stdout",
     "output_type": "stream",
     "text": [
      "[mlfoundry] 2022-06-30T16:00:52+0530 INFO Dataset logged successfully\n",
      "To visualize the logged dataset, click on the link https://app.truefoundry.com/mlfoundry/147/bf74414fcbe94a7997831abfbda3e1f2/?tab=data-feature-metrics\n"
     ]
    }
   ],
   "source": [
    "mlf_run.log_dataset(\n",
    "    dataset_name = 'train_dataset',\n",
    "    features = train_dataset[list(X_train.columns)],\n",
    "    predictions = train_dataset['predictions'],\n",
    "    actuals = train_dataset['targets'],\n",
    "    only_stats = False,   \n",
    ")"
   ]
  },
  {
   "cell_type": "code",
   "execution_count": 50,
   "metadata": {},
   "outputs": [],
   "source": [
    "test_dataset = X_test.copy()\n",
    "test_dataset['targets'] = y_test\n",
    "test_dataset['predictions'] = classifier.predict(X_test)\n",
    "test_dataset['prediction_probabilities'] = list(classifier.predict_proba(X_test))"
   ]
  },
  {
   "cell_type": "code",
   "execution_count": 51,
   "metadata": {},
   "outputs": [
    {
     "name": "stdout",
     "output_type": "stream",
     "text": [
      "[mlfoundry] 2022-06-30T16:00:59+0530 INFO Logging Dataset, this might take a while ...\n"
     ]
    },
    {
     "name": "stderr",
     "output_type": "stream",
     "text": [
      "About to log a dataframe with 594202 elements, logging might take some time to complete.\n"
     ]
    },
    {
     "name": "stdout",
     "output_type": "stream",
     "text": [
      "[mlfoundry] 2022-06-30T16:02:53+0530 INFO Dataset logged successfully\n",
      "To visualize the logged dataset, click on the link https://app.truefoundry.com/mlfoundry/147/bf74414fcbe94a7997831abfbda3e1f2/?tab=data-feature-metrics\n"
     ]
    }
   ],
   "source": [
    "mlf_run.log_dataset(\n",
    "    dataset_name = 'test_dataset',\n",
    "    features = test_dataset[list(X_test.columns)],\n",
    "    predictions = test_dataset['predictions'],\n",
    "    actuals = test_dataset['targets'],\n",
    "    only_stats = False,\n",
    ")"
   ]
  },
  {
   "cell_type": "code",
   "execution_count": 52,
   "metadata": {},
   "outputs": [
    {
     "name": "stdout",
     "output_type": "stream",
     "text": [
      "[mlfoundry] 2022-06-30T16:03:02+0530 INFO Metrics logged successfully\n"
     ]
    }
   ],
   "source": [
    "y_predict = classifier.predict(X_test)\n",
    "\n",
    "metrics_dict = {\n",
    "    \"Accuracy\": accuracy_score(y_test, y_predict),\n",
    "    \"Precision\": precision_score(y_test, y_predict),\n",
    "    \"Recall\": recall_score(y_test, y_predict),\n",
    "}\n",
    "\n",
    "mlf_run.log_metrics(metrics_dict)"
   ]
  },
  {
   "cell_type": "code",
   "execution_count": 53,
   "metadata": {},
   "outputs": [],
   "source": [
    "mlf_run.log_model(classifier, framework=mlf.ModelFramework.SKLEARN)\n",
    "mlf_run.log_params(classifier.get_params())"
   ]
  },
  {
   "cell_type": "code",
   "execution_count": null,
   "metadata": {},
   "outputs": [],
   "source": [
    "classifier = load('randomforest.joblib')"
   ]
  },
  {
   "cell_type": "code",
   "execution_count": null,
   "metadata": {},
   "outputs": [],
   "source": [
    "product_list = df['product'].unique()\n",
    "df['win']=0\n",
    "df['lose']=0\n",
    "df['review_score'] = 0.0\n",
    "df.reset_index(inplace = True, drop = True)\n",
    "\n",
    "\n",
    "def score_giver(C,D):\n",
    "    E = pd.merge(C,D,how='outer',on='j')\n",
    "    E.drop(columns=['j'],inplace = True)\n",
    "    q= classifier.predict(E.values)\n",
    "    return Counter(q)\n",
    "\n",
    "for product in product_list:\n",
    "    data = df[df['product']==product]\n",
    "    for indx in data.index:\n",
    "        review = df.iloc[indx, 3:-3]\n",
    "        review['j'] = 'jn'\n",
    "        C = pd.DataFrame([review])\n",
    "        D = data[data.index!=indx].iloc[:,3:-3]\n",
    "        D['j'] = 'jn'\n",
    "        score = score_giver(C,D)\n",
    "        df.at[indx, 'win'] = 0 if score.get(1) is None else score.get(1)\n",
    "        df.at[indx, 'lose'] = 0 if score.get(0) is None else score.get(0)\n",
    "        df.at[indx, 'review_score'] = float(0 if score.get(1) is None else score.get(1)) / len(data) * 1.0\n",
    "\n",
    "df = df.sort_values(by = ['product','review_score'], ascending = False)\n",
    "\n",
    "r_accuracy =[]\n",
    "for product in product_list:\n",
    "    x = data_split[data_split.index == product][1][0]\n",
    "    number_of_1_in_x = Counter(df[df['product']==product].iloc[:x, ]['label']).get(1)\n",
    "    rank_accuracy = float(number_of_1_in_x*1.0 / x*1.0)\n",
    "    print(\"Product: {} | Rank Accuracy: {}\".format(product, rank_accuracy))\n",
    "    r_accuracy.append(rank_accuracy)\n",
    "print(\"Mean Rank Accuracy: {}\".format(mean(r_accuracy)))"
   ]
  },
  {
   "cell_type": "code",
   "execution_count": null,
   "metadata": {},
   "outputs": [],
   "source": [
    "df"
   ]
  },
  {
   "cell_type": "code",
   "execution_count": null,
   "metadata": {},
   "outputs": [],
   "source": [
    "df.iloc[:, [0,1,-1]].to_csv('data/train_ranked_output.csv',index = False)"
   ]
  },
  {
   "cell_type": "code",
   "execution_count": null,
   "metadata": {},
   "outputs": [],
   "source": [
    "# !ls"
   ]
  },
  {
   "cell_type": "code",
   "execution_count": null,
   "metadata": {},
   "outputs": [],
   "source": [
    "t = pd.read_csv('data/test.csv')"
   ]
  },
  {
   "cell_type": "code",
   "execution_count": null,
   "metadata": {},
   "outputs": [],
   "source": []
  }
 ],
 "metadata": {
  "kernelspec": {
   "display_name": "Python 3 (ipykernel)",
   "language": "python",
   "name": "python3"
  },
  "language_info": {
   "codemirror_mode": {
    "name": "ipython",
    "version": 3
   },
   "file_extension": ".py",
   "mimetype": "text/x-python",
   "name": "python",
   "nbconvert_exporter": "python",
   "pygments_lexer": "ipython3",
   "version": "3.8.5"
  },
  "vscode": {
   "interpreter": {
    "hash": "9ef903084c5c52a4a91f9ef5ca044f687b322219c655fbb3a0754c14ca2b62b4"
   }
  }
 },
 "nbformat": 4,
 "nbformat_minor": 2
}
