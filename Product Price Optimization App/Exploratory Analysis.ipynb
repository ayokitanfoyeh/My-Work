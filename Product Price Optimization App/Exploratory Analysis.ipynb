{
 "cells": [
  {
   "cell_type": "markdown",
   "metadata": {
    "id": "jjYLt1IgsBZL"
   },
   "source": [
    "# Price Optimisation based on price elasticity of Demand"
   ]
  },
  {
   "cell_type": "markdown",
   "metadata": {
    "id": "-ojzjWhMsBZO"
   },
   "source": [
    "Pricing a product is a crucial aspect in any business. Alot of thought process is out into it. There are different strategies to price different kinds of products. There are products whose sales are quite sensitive to their prices and as such a small change in their price can lead to noticeable change in their sales. While there are products whose sales are not much affected by their price - these tend to be either luxury items or necessities (like certain medicines). This notebook will focus on the former type of products."
   ]
  },
  {
   "cell_type": "markdown",
   "metadata": {
    "id": "Cti0j_uwsBZO"
   },
   "source": [
    "Price elasticity of demand (Epd), or elasticity, is the degree to which the effective desire for something changes as its price changes. In general, people desire things less as those things become more expensive. However, for some products, the customer's desire could drop sharply even with a little price increase, and for other products, it could stay almost the same even with a big price increase. Economists use the term elasticity to denote this sensitivity to price increases. More precisely, price elasticity gives the percentage change in quantity demanded when there is a one percent increase in price, holding everything else constant."
   ]
  },
  {
   "cell_type": "markdown",
   "metadata": {
    "id": "JnZquWvWsBZP"
   },
   "source": [
    "Mathematically speaking, the price elasticity of demand is defined to be the percentage change in quantity demanded, q,divided by the percentage change in price, p. The formula for the price elasticity (ǫ) is: $$e = \\%ΔQ/ \\%ΔP$$\n"
   ]
  },
  {
   "cell_type": "markdown",
   "metadata": {
    "id": "Wk7kqlPwsBZP"
   },
   "source": [
    "In this work, we shall look at the sales of the items of a cafe. This cafe sells burgers, coke, lemonade and coffee. As a data scientist, it is our task to figure out the optimal prices to set for these items. If the price is set too high, the sales will drop & the price is set to low, then the margins will decrease. What is the sweet spot that will give us the maximum profit?"
   ]
  },
  {
   "cell_type": "code",
   "execution_count": 1,
   "metadata": {
    "id": "5Nkm7B0FsGQj"
   },
   "outputs": [
    {
     "name": "stdout",
     "output_type": "stream",
     "text": [
      "Requirement already satisfied: pandas==1.1.5 in ./opt/anaconda3/lib/python3.8/site-packages (1.1.5)\n",
      "Requirement already satisfied: numpy>=1.15.4 in ./opt/anaconda3/lib/python3.8/site-packages (from pandas==1.1.5) (1.19.5)\n",
      "Requirement already satisfied: python-dateutil>=2.7.3 in ./opt/anaconda3/lib/python3.8/site-packages (from pandas==1.1.5) (2.8.2)\n",
      "Requirement already satisfied: pytz>=2017.2 in ./opt/anaconda3/lib/python3.8/site-packages (from pandas==1.1.5) (2020.1)\n",
      "Requirement already satisfied: six>=1.5 in ./opt/anaconda3/lib/python3.8/site-packages (from python-dateutil>=2.7.3->pandas==1.1.5) (1.12.0)\n",
      "Requirement already satisfied: numpy==1.19.5 in ./opt/anaconda3/lib/python3.8/site-packages (1.19.5)\n",
      "Requirement already satisfied: statsmodels==0.10.2 in ./opt/anaconda3/lib/python3.8/site-packages (0.10.2)\n",
      "Requirement already satisfied: pandas>=0.19 in ./opt/anaconda3/lib/python3.8/site-packages (from statsmodels==0.10.2) (1.1.5)\n",
      "Requirement already satisfied: scipy>=0.18 in ./opt/anaconda3/lib/python3.8/site-packages (from statsmodels==0.10.2) (1.5.2)\n",
      "Requirement already satisfied: patsy>=0.4.0 in ./opt/anaconda3/lib/python3.8/site-packages (from statsmodels==0.10.2) (0.5.1)\n",
      "Requirement already satisfied: numpy>=1.11 in ./opt/anaconda3/lib/python3.8/site-packages (from statsmodels==0.10.2) (1.19.5)\n",
      "Requirement already satisfied: pytz>=2017.2 in ./opt/anaconda3/lib/python3.8/site-packages (from pandas>=0.19->statsmodels==0.10.2) (2020.1)\n",
      "Requirement already satisfied: python-dateutil>=2.7.3 in ./opt/anaconda3/lib/python3.8/site-packages (from pandas>=0.19->statsmodels==0.10.2) (2.8.2)\n",
      "Requirement already satisfied: six in ./opt/anaconda3/lib/python3.8/site-packages (from patsy>=0.4.0->statsmodels==0.10.2) (1.12.0)\n",
      "Requirement already satisfied: matplotlib==3.2.2 in ./opt/anaconda3/lib/python3.8/site-packages (3.2.2)\n",
      "Requirement already satisfied: python-dateutil>=2.1 in ./opt/anaconda3/lib/python3.8/site-packages (from matplotlib==3.2.2) (2.8.2)\n",
      "Requirement already satisfied: cycler>=0.10 in ./opt/anaconda3/lib/python3.8/site-packages (from matplotlib==3.2.2) (0.10.0)\n",
      "Requirement already satisfied: numpy>=1.11 in ./opt/anaconda3/lib/python3.8/site-packages (from matplotlib==3.2.2) (1.19.5)\n",
      "Requirement already satisfied: kiwisolver>=1.0.1 in ./opt/anaconda3/lib/python3.8/site-packages (from matplotlib==3.2.2) (1.3.0)\n",
      "Requirement already satisfied: pyparsing!=2.0.4,!=2.1.2,!=2.1.6,>=2.0.1 in ./opt/anaconda3/lib/python3.8/site-packages (from matplotlib==3.2.2) (2.4.7)\n",
      "Requirement already satisfied: six>=1.5 in ./opt/anaconda3/lib/python3.8/site-packages (from python-dateutil>=2.1->matplotlib==3.2.2) (1.12.0)\n",
      "Requirement already satisfied: seaborn==0.11.1 in ./opt/anaconda3/lib/python3.8/site-packages (0.11.1)\n",
      "Requirement already satisfied: scipy>=1.0 in ./opt/anaconda3/lib/python3.8/site-packages (from seaborn==0.11.1) (1.5.2)\n",
      "Requirement already satisfied: matplotlib>=2.2 in ./opt/anaconda3/lib/python3.8/site-packages (from seaborn==0.11.1) (3.2.2)\n",
      "Requirement already satisfied: numpy>=1.15 in ./opt/anaconda3/lib/python3.8/site-packages (from seaborn==0.11.1) (1.19.5)\n",
      "Requirement already satisfied: pandas>=0.23 in ./opt/anaconda3/lib/python3.8/site-packages (from seaborn==0.11.1) (1.1.5)\n",
      "Requirement already satisfied: pyparsing!=2.0.4,!=2.1.2,!=2.1.6,>=2.0.1 in ./opt/anaconda3/lib/python3.8/site-packages (from matplotlib>=2.2->seaborn==0.11.1) (2.4.7)\n",
      "Requirement already satisfied: cycler>=0.10 in ./opt/anaconda3/lib/python3.8/site-packages (from matplotlib>=2.2->seaborn==0.11.1) (0.10.0)\n",
      "Requirement already satisfied: python-dateutil>=2.1 in ./opt/anaconda3/lib/python3.8/site-packages (from matplotlib>=2.2->seaborn==0.11.1) (2.8.2)\n",
      "Requirement already satisfied: kiwisolver>=1.0.1 in ./opt/anaconda3/lib/python3.8/site-packages (from matplotlib>=2.2->seaborn==0.11.1) (1.3.0)\n",
      "Requirement already satisfied: pytz>=2017.2 in ./opt/anaconda3/lib/python3.8/site-packages (from pandas>=0.23->seaborn==0.11.1) (2020.1)\n",
      "Requirement already satisfied: six in ./opt/anaconda3/lib/python3.8/site-packages (from cycler>=0.10->matplotlib>=2.2->seaborn==0.11.1) (1.12.0)\n"
     ]
    }
   ],
   "source": [
    "# install the required packages\n",
    "!pip install pandas==1.1.5\n",
    "!pip install numpy==1.19.5\n",
    "!pip install statsmodels==0.10.2\n",
    "!pip install  matplotlib==3.2.2\n",
    "!pip install seaborn==0.11.1"
   ]
  },
  {
   "cell_type": "code",
   "execution_count": 18,
   "metadata": {
    "id": "PLVlKMDKsBZQ"
   },
   "outputs": [],
   "source": [
    "# Import the reqiured libraries\n",
    "import pandas as pd\n",
    "import numpy as np\n",
    "import statsmodels.api as sm\n",
    "from statsmodels.formula.api import ols\n",
    "import matplotlib.pyplot as plt\n",
    "import seaborn as sns; sns.set(style=\"ticks\", color_codes=True)"
   ]
  },
  {
   "cell_type": "code",
   "execution_count": 19,
   "metadata": {
    "id": "JNAjkJ7HsBZR"
   },
   "outputs": [],
   "source": [
    "## Get multiple outputs in the same cell\n",
    "from IPython.core.interactiveshell import InteractiveShell\n",
    "InteractiveShell.ast_node_interactivity = \"all\"\n",
    "\n",
    "## Ignore all warnings\n",
    "import warnings\n",
    "warnings.filterwarnings('ignore')\n",
    "warnings.filterwarnings(action='ignore', category=DeprecationWarning)"
   ]
  },
  {
   "cell_type": "code",
   "execution_count": 20,
   "metadata": {
    "id": "1aW0Z90SsBZR"
   },
   "outputs": [],
   "source": [
    "## Display all rows and columns of a dataframe instead of a truncated version\n",
    "from IPython.display import display\n",
    "pd.set_option('display.max_columns', None)\n",
    "pd.set_option('display.max_rows', None)"
   ]
  },
  {
   "cell_type": "markdown",
   "metadata": {
    "id": "AQtP8LSasBZS"
   },
   "source": [
    "# Load the data"
   ]
  },
  {
   "cell_type": "code",
   "execution_count": 21,
   "metadata": {
    "id": "unoQW7n_sBZS"
   },
   "outputs": [],
   "source": [
    "# load the datasets\n",
    "sold = pd.read_csv('/Users/kitanolowofoyeku/Cafe+-+Sell+Meta+Data.csv')\n",
    "transactions = pd.read_csv('/Users/kitanolowofoyeku/Cafe+-+Transaction+-+Store.csv')\n",
    "date_info = pd.read_csv('/Users/kitanolowofoyeku/Cafe+-+DateInfo.csv')"
   ]
  },
  {
   "cell_type": "code",
   "execution_count": 22,
   "metadata": {
    "id": "7PDqB55NsBZT",
    "outputId": "96950c0d-81c9-4e62-e861-e233be3079fc"
   },
   "outputs": [
    {
     "data": {
      "text/html": [
       "<div>\n",
       "<style scoped>\n",
       "    .dataframe tbody tr th:only-of-type {\n",
       "        vertical-align: middle;\n",
       "    }\n",
       "\n",
       "    .dataframe tbody tr th {\n",
       "        vertical-align: top;\n",
       "    }\n",
       "\n",
       "    .dataframe thead th {\n",
       "        text-align: right;\n",
       "    }\n",
       "</style>\n",
       "<table border=\"1\" class=\"dataframe\">\n",
       "  <thead>\n",
       "    <tr style=\"text-align: right;\">\n",
       "      <th></th>\n",
       "      <th>SELL_ID</th>\n",
       "      <th>SELL_CATEGORY</th>\n",
       "      <th>ITEM_ID</th>\n",
       "      <th>ITEM_NAME</th>\n",
       "    </tr>\n",
       "  </thead>\n",
       "  <tbody>\n",
       "    <tr>\n",
       "      <th>0</th>\n",
       "      <td>1070</td>\n",
       "      <td>0</td>\n",
       "      <td>7821</td>\n",
       "      <td>BURGER</td>\n",
       "    </tr>\n",
       "    <tr>\n",
       "      <th>1</th>\n",
       "      <td>3055</td>\n",
       "      <td>0</td>\n",
       "      <td>3052</td>\n",
       "      <td>COFFEE</td>\n",
       "    </tr>\n",
       "    <tr>\n",
       "      <th>2</th>\n",
       "      <td>3067</td>\n",
       "      <td>0</td>\n",
       "      <td>5030</td>\n",
       "      <td>COKE</td>\n",
       "    </tr>\n",
       "    <tr>\n",
       "      <th>3</th>\n",
       "      <td>3028</td>\n",
       "      <td>0</td>\n",
       "      <td>6249</td>\n",
       "      <td>LEMONADE</td>\n",
       "    </tr>\n",
       "    <tr>\n",
       "      <th>4</th>\n",
       "      <td>2051</td>\n",
       "      <td>2</td>\n",
       "      <td>7821</td>\n",
       "      <td>BURGER</td>\n",
       "    </tr>\n",
       "  </tbody>\n",
       "</table>\n",
       "</div>"
      ],
      "text/plain": [
       "   SELL_ID  SELL_CATEGORY  ITEM_ID ITEM_NAME\n",
       "0     1070              0     7821    BURGER\n",
       "1     3055              0     3052    COFFEE\n",
       "2     3067              0     5030      COKE\n",
       "3     3028              0     6249  LEMONADE\n",
       "4     2051              2     7821    BURGER"
      ]
     },
     "execution_count": 22,
     "metadata": {},
     "output_type": "execute_result"
    }
   ],
   "source": [
    "# check for first 5 rows\n",
    "sold.head()"
   ]
  },
  {
   "cell_type": "code",
   "execution_count": 23,
   "metadata": {
    "id": "fKQKNEYTsBZT",
    "outputId": "98dbc8e7-aa26-4c4f-ac4a-680ac71ec648"
   },
   "outputs": [
    {
     "data": {
      "text/html": [
       "<div>\n",
       "<style scoped>\n",
       "    .dataframe tbody tr th:only-of-type {\n",
       "        vertical-align: middle;\n",
       "    }\n",
       "\n",
       "    .dataframe tbody tr th {\n",
       "        vertical-align: top;\n",
       "    }\n",
       "\n",
       "    .dataframe thead th {\n",
       "        text-align: right;\n",
       "    }\n",
       "</style>\n",
       "<table border=\"1\" class=\"dataframe\">\n",
       "  <thead>\n",
       "    <tr style=\"text-align: right;\">\n",
       "      <th></th>\n",
       "      <th>SELL_ID</th>\n",
       "      <th>SELL_CATEGORY</th>\n",
       "      <th>ITEM_ID</th>\n",
       "    </tr>\n",
       "  </thead>\n",
       "  <tbody>\n",
       "    <tr>\n",
       "      <th>count</th>\n",
       "      <td>11.000000</td>\n",
       "      <td>11.000000</td>\n",
       "      <td>11.000000</td>\n",
       "    </tr>\n",
       "    <tr>\n",
       "      <th>mean</th>\n",
       "      <td>2235.000000</td>\n",
       "      <td>1.272727</td>\n",
       "      <td>5906.909091</td>\n",
       "    </tr>\n",
       "    <tr>\n",
       "      <th>std</th>\n",
       "      <td>598.728653</td>\n",
       "      <td>1.009050</td>\n",
       "      <td>1830.217170</td>\n",
       "    </tr>\n",
       "    <tr>\n",
       "      <th>min</th>\n",
       "      <td>1070.000000</td>\n",
       "      <td>0.000000</td>\n",
       "      <td>3052.000000</td>\n",
       "    </tr>\n",
       "    <tr>\n",
       "      <th>25%</th>\n",
       "      <td>2051.500000</td>\n",
       "      <td>0.000000</td>\n",
       "      <td>5030.000000</td>\n",
       "    </tr>\n",
       "    <tr>\n",
       "      <th>50%</th>\n",
       "      <td>2053.000000</td>\n",
       "      <td>2.000000</td>\n",
       "      <td>6249.000000</td>\n",
       "    </tr>\n",
       "    <tr>\n",
       "      <th>75%</th>\n",
       "      <td>2540.500000</td>\n",
       "      <td>2.000000</td>\n",
       "      <td>7821.000000</td>\n",
       "    </tr>\n",
       "    <tr>\n",
       "      <th>max</th>\n",
       "      <td>3067.000000</td>\n",
       "      <td>2.000000</td>\n",
       "      <td>7821.000000</td>\n",
       "    </tr>\n",
       "  </tbody>\n",
       "</table>\n",
       "</div>"
      ],
      "text/plain": [
       "           SELL_ID  SELL_CATEGORY      ITEM_ID\n",
       "count    11.000000      11.000000    11.000000\n",
       "mean   2235.000000       1.272727  5906.909091\n",
       "std     598.728653       1.009050  1830.217170\n",
       "min    1070.000000       0.000000  3052.000000\n",
       "25%    2051.500000       0.000000  5030.000000\n",
       "50%    2053.000000       2.000000  6249.000000\n",
       "75%    2540.500000       2.000000  7821.000000\n",
       "max    3067.000000       2.000000  7821.000000"
      ]
     },
     "execution_count": 23,
     "metadata": {},
     "output_type": "execute_result"
    },
    {
     "data": {
      "text/html": [
       "<div>\n",
       "<style scoped>\n",
       "    .dataframe tbody tr th:only-of-type {\n",
       "        vertical-align: middle;\n",
       "    }\n",
       "\n",
       "    .dataframe tbody tr th {\n",
       "        vertical-align: top;\n",
       "    }\n",
       "\n",
       "    .dataframe thead th {\n",
       "        text-align: right;\n",
       "    }\n",
       "</style>\n",
       "<table border=\"1\" class=\"dataframe\">\n",
       "  <thead>\n",
       "    <tr style=\"text-align: right;\">\n",
       "      <th></th>\n",
       "      <th>ITEM_NAME</th>\n",
       "    </tr>\n",
       "  </thead>\n",
       "  <tbody>\n",
       "    <tr>\n",
       "      <th>count</th>\n",
       "      <td>11</td>\n",
       "    </tr>\n",
       "    <tr>\n",
       "      <th>unique</th>\n",
       "      <td>4</td>\n",
       "    </tr>\n",
       "    <tr>\n",
       "      <th>top</th>\n",
       "      <td>BURGER</td>\n",
       "    </tr>\n",
       "    <tr>\n",
       "      <th>freq</th>\n",
       "      <td>4</td>\n",
       "    </tr>\n",
       "  </tbody>\n",
       "</table>\n",
       "</div>"
      ],
      "text/plain": [
       "       ITEM_NAME\n",
       "count         11\n",
       "unique         4\n",
       "top       BURGER\n",
       "freq           4"
      ]
     },
     "execution_count": 23,
     "metadata": {},
     "output_type": "execute_result"
    }
   ],
   "source": [
    "# describe \n",
    "sold.describe()\n",
    "sold.describe(include = ['O']) "
   ]
  },
  {
   "cell_type": "code",
   "execution_count": 24,
   "metadata": {},
   "outputs": [
    {
     "data": {
      "text/plain": [
       "SELL_ID          0\n",
       "SELL_CATEGORY    0\n",
       "ITEM_ID          0\n",
       "ITEM_NAME        0\n",
       "dtype: int64"
      ]
     },
     "execution_count": 24,
     "metadata": {},
     "output_type": "execute_result"
    }
   ],
   "source": [
    "sold.isnull().sum()"
   ]
  },
  {
   "cell_type": "code",
   "execution_count": 25,
   "metadata": {},
   "outputs": [
    {
     "data": {
      "text/plain": [
       "7821    4\n",
       "5030    3\n",
       "3052    2\n",
       "6249    2\n",
       "Name: ITEM_ID, dtype: int64"
      ]
     },
     "execution_count": 25,
     "metadata": {},
     "output_type": "execute_result"
    }
   ],
   "source": [
    "sold['ITEM_ID'].value_counts()"
   ]
  },
  {
   "cell_type": "code",
   "execution_count": 26,
   "metadata": {},
   "outputs": [
    {
     "data": {
      "text/plain": [
       "2053    3\n",
       "2052    2\n",
       "2051    2\n",
       "3055    1\n",
       "1070    1\n",
       "3067    1\n",
       "3028    1\n",
       "Name: SELL_ID, dtype: int64"
      ]
     },
     "execution_count": 26,
     "metadata": {},
     "output_type": "execute_result"
    }
   ],
   "source": [
    "sold['SELL_ID'].value_counts()"
   ]
  },
  {
   "cell_type": "code",
   "execution_count": null,
   "metadata": {},
   "outputs": [],
   "source": []
  },
  {
   "cell_type": "code",
   "execution_count": 27,
   "metadata": {
    "id": "JIurz2knsBZU",
    "outputId": "a40ee6e5-4ce5-4052-bf37-9d56bf357f35"
   },
   "outputs": [
    {
     "data": {
      "text/html": [
       "<div>\n",
       "<style scoped>\n",
       "    .dataframe tbody tr th:only-of-type {\n",
       "        vertical-align: middle;\n",
       "    }\n",
       "\n",
       "    .dataframe tbody tr th {\n",
       "        vertical-align: top;\n",
       "    }\n",
       "\n",
       "    .dataframe thead th {\n",
       "        text-align: right;\n",
       "    }\n",
       "</style>\n",
       "<table border=\"1\" class=\"dataframe\">\n",
       "  <thead>\n",
       "    <tr style=\"text-align: right;\">\n",
       "      <th></th>\n",
       "      <th>SELL_ID</th>\n",
       "      <th>SELL_CATEGORY</th>\n",
       "      <th>ITEM_ID</th>\n",
       "      <th>ITEM_NAME</th>\n",
       "    </tr>\n",
       "  </thead>\n",
       "  <tbody>\n",
       "  </tbody>\n",
       "</table>\n",
       "</div>"
      ],
      "text/plain": [
       "Empty DataFrame\n",
       "Columns: [SELL_ID, SELL_CATEGORY, ITEM_ID, ITEM_NAME]\n",
       "Index: []"
      ]
     },
     "execution_count": 27,
     "metadata": {},
     "output_type": "execute_result"
    }
   ],
   "source": [
    "# check for null\n",
    "sold[sold.isnull().any(axis=1)]"
   ]
  },
  {
   "cell_type": "markdown",
   "metadata": {
    "id": "Tb_N3mvfsBZU"
   },
   "source": [
    "SELL_ID: a categorical variable, identifier of the combination of items that is contained in the product.\n",
    "\n",
    "SELL_CATEGORY: “0” identifies single products; the category “2” identifies the combo ones.\n",
    "\n",
    "ITEM_ID: a categorical variable, identifier of the item that is contained in the product.\n",
    "\n",
    "ITEM_NAME: a categorical variable, identifying the name of the item"
   ]
  },
  {
   "cell_type": "code",
   "execution_count": 28,
   "metadata": {
    "id": "W3oMyhO9sBZU",
    "outputId": "5a2a60d2-cf17-46e1-f3de-45a0487b2fe5"
   },
   "outputs": [
    {
     "data": {
      "text/plain": [
       "<seaborn.axisgrid.PairGrid at 0x7ffde13d5f70>"
      ]
     },
     "execution_count": 28,
     "metadata": {},
     "output_type": "execute_result"
    },
    {
     "data": {
      "image/png": "[encoded data removed]",
      "text/plain": [
       "<Figure size 540x540 with 12 Axes>"
      ]
     },
     "metadata": {},
     "output_type": "display_data"
    }
   ],
   "source": [
    "# plot a pairplot for the data\n",
    "sns.pairplot(sold)"
   ]
  },
  {
   "cell_type": "code",
   "execution_count": 29,
   "metadata": {
    "id": "g-Klc81GsBZV",
    "outputId": "34fe2189-1db2-4543-e5f9-31d5a1ce8560"
   },
   "outputs": [
    {
     "data": {
      "text/html": [
       "<div>\n",
       "<style scoped>\n",
       "    .dataframe tbody tr th:only-of-type {\n",
       "        vertical-align: middle;\n",
       "    }\n",
       "\n",
       "    .dataframe tbody tr th {\n",
       "        vertical-align: top;\n",
       "    }\n",
       "\n",
       "    .dataframe thead th {\n",
       "        text-align: right;\n",
       "    }\n",
       "</style>\n",
       "<table border=\"1\" class=\"dataframe\">\n",
       "  <thead>\n",
       "    <tr style=\"text-align: right;\">\n",
       "      <th></th>\n",
       "      <th>CALENDAR_DATE</th>\n",
       "      <th>PRICE</th>\n",
       "      <th>QUANTITY</th>\n",
       "      <th>SELL_ID</th>\n",
       "      <th>SELL_CATEGORY</th>\n",
       "    </tr>\n",
       "  </thead>\n",
       "  <tbody>\n",
       "    <tr>\n",
       "      <th>0</th>\n",
       "      <td>01/01/12</td>\n",
       "      <td>15.50</td>\n",
       "      <td>46</td>\n",
       "      <td>1070</td>\n",
       "      <td>0</td>\n",
       "    </tr>\n",
       "    <tr>\n",
       "      <th>1</th>\n",
       "      <td>01/01/12</td>\n",
       "      <td>12.73</td>\n",
       "      <td>22</td>\n",
       "      <td>2051</td>\n",
       "      <td>2</td>\n",
       "    </tr>\n",
       "    <tr>\n",
       "      <th>2</th>\n",
       "      <td>01/01/12</td>\n",
       "      <td>12.75</td>\n",
       "      <td>18</td>\n",
       "      <td>2052</td>\n",
       "      <td>2</td>\n",
       "    </tr>\n",
       "    <tr>\n",
       "      <th>3</th>\n",
       "      <td>01/01/12</td>\n",
       "      <td>12.60</td>\n",
       "      <td>30</td>\n",
       "      <td>2053</td>\n",
       "      <td>2</td>\n",
       "    </tr>\n",
       "    <tr>\n",
       "      <th>4</th>\n",
       "      <td>01/02/12</td>\n",
       "      <td>15.50</td>\n",
       "      <td>70</td>\n",
       "      <td>1070</td>\n",
       "      <td>0</td>\n",
       "    </tr>\n",
       "  </tbody>\n",
       "</table>\n",
       "</div>"
      ],
      "text/plain": [
       "  CALENDAR_DATE  PRICE  QUANTITY  SELL_ID  SELL_CATEGORY\n",
       "0      01/01/12  15.50        46     1070              0\n",
       "1      01/01/12  12.73        22     2051              2\n",
       "2      01/01/12  12.75        18     2052              2\n",
       "3      01/01/12  12.60        30     2053              2\n",
       "4      01/02/12  15.50        70     1070              0"
      ]
     },
     "execution_count": 29,
     "metadata": {},
     "output_type": "execute_result"
    }
   ],
   "source": [
    "# check for first 5 rows\n",
    "transactions.head()"
   ]
  },
  {
   "cell_type": "code",
   "execution_count": 30,
   "metadata": {
    "id": "8zgCHH0DsBZV",
    "outputId": "83dcd577-749b-4d65-b87c-425ea946b0f4"
   },
   "outputs": [
    {
     "data": {
      "text/html": [
       "<div>\n",
       "<style scoped>\n",
       "    .dataframe tbody tr th:only-of-type {\n",
       "        vertical-align: middle;\n",
       "    }\n",
       "\n",
       "    .dataframe tbody tr th {\n",
       "        vertical-align: top;\n",
       "    }\n",
       "\n",
       "    .dataframe thead th {\n",
       "        text-align: right;\n",
       "    }\n",
       "</style>\n",
       "<table border=\"1\" class=\"dataframe\">\n",
       "  <thead>\n",
       "    <tr style=\"text-align: right;\">\n",
       "      <th></th>\n",
       "      <th>PRICE</th>\n",
       "      <th>QUANTITY</th>\n",
       "      <th>SELL_ID</th>\n",
       "      <th>SELL_CATEGORY</th>\n",
       "    </tr>\n",
       "  </thead>\n",
       "  <tbody>\n",
       "    <tr>\n",
       "      <th>count</th>\n",
       "      <td>5404.000000</td>\n",
       "      <td>5404.000000</td>\n",
       "      <td>5404.00000</td>\n",
       "      <td>5404.000000</td>\n",
       "    </tr>\n",
       "    <tr>\n",
       "      <th>mean</th>\n",
       "      <td>12.868729</td>\n",
       "      <td>44.335307</td>\n",
       "      <td>1806.50000</td>\n",
       "      <td>1.500000</td>\n",
       "    </tr>\n",
       "    <tr>\n",
       "      <th>std</th>\n",
       "      <td>1.563922</td>\n",
       "      <td>25.502597</td>\n",
       "      <td>425.25841</td>\n",
       "      <td>0.866106</td>\n",
       "    </tr>\n",
       "    <tr>\n",
       "      <th>min</th>\n",
       "      <td>10.120000</td>\n",
       "      <td>8.000000</td>\n",
       "      <td>1070.00000</td>\n",
       "      <td>0.000000</td>\n",
       "    </tr>\n",
       "    <tr>\n",
       "      <th>25%</th>\n",
       "      <td>11.530000</td>\n",
       "      <td>24.000000</td>\n",
       "      <td>1805.75000</td>\n",
       "      <td>1.500000</td>\n",
       "    </tr>\n",
       "    <tr>\n",
       "      <th>50%</th>\n",
       "      <td>12.640000</td>\n",
       "      <td>36.000000</td>\n",
       "      <td>2051.50000</td>\n",
       "      <td>2.000000</td>\n",
       "    </tr>\n",
       "    <tr>\n",
       "      <th>75%</th>\n",
       "      <td>13.557500</td>\n",
       "      <td>60.000000</td>\n",
       "      <td>2052.25000</td>\n",
       "      <td>2.000000</td>\n",
       "    </tr>\n",
       "    <tr>\n",
       "      <th>max</th>\n",
       "      <td>16.500000</td>\n",
       "      <td>124.000000</td>\n",
       "      <td>2053.00000</td>\n",
       "      <td>2.000000</td>\n",
       "    </tr>\n",
       "  </tbody>\n",
       "</table>\n",
       "</div>"
      ],
      "text/plain": [
       "             PRICE     QUANTITY     SELL_ID  SELL_CATEGORY\n",
       "count  5404.000000  5404.000000  5404.00000    5404.000000\n",
       "mean     12.868729    44.335307  1806.50000       1.500000\n",
       "std       1.563922    25.502597   425.25841       0.866106\n",
       "min      10.120000     8.000000  1070.00000       0.000000\n",
       "25%      11.530000    24.000000  1805.75000       1.500000\n",
       "50%      12.640000    36.000000  2051.50000       2.000000\n",
       "75%      13.557500    60.000000  2052.25000       2.000000\n",
       "max      16.500000   124.000000  2053.00000       2.000000"
      ]
     },
     "execution_count": 30,
     "metadata": {},
     "output_type": "execute_result"
    },
    {
     "data": {
      "text/html": [
       "<div>\n",
       "<style scoped>\n",
       "    .dataframe tbody tr th:only-of-type {\n",
       "        vertical-align: middle;\n",
       "    }\n",
       "\n",
       "    .dataframe tbody tr th {\n",
       "        vertical-align: top;\n",
       "    }\n",
       "\n",
       "    .dataframe thead th {\n",
       "        text-align: right;\n",
       "    }\n",
       "</style>\n",
       "<table border=\"1\" class=\"dataframe\">\n",
       "  <thead>\n",
       "    <tr style=\"text-align: right;\">\n",
       "      <th></th>\n",
       "      <th>CALENDAR_DATE</th>\n",
       "    </tr>\n",
       "  </thead>\n",
       "  <tbody>\n",
       "    <tr>\n",
       "      <th>count</th>\n",
       "      <td>5404</td>\n",
       "    </tr>\n",
       "    <tr>\n",
       "      <th>unique</th>\n",
       "      <td>1348</td>\n",
       "    </tr>\n",
       "    <tr>\n",
       "      <th>top</th>\n",
       "      <td>03/01/13</td>\n",
       "    </tr>\n",
       "    <tr>\n",
       "      <th>freq</th>\n",
       "      <td>16</td>\n",
       "    </tr>\n",
       "  </tbody>\n",
       "</table>\n",
       "</div>"
      ],
      "text/plain": [
       "       CALENDAR_DATE\n",
       "count           5404\n",
       "unique          1348\n",
       "top         03/01/13\n",
       "freq              16"
      ]
     },
     "execution_count": 30,
     "metadata": {},
     "output_type": "execute_result"
    }
   ],
   "source": [
    "# describe\n",
    "transactions.describe()\n",
    "transactions.describe(include = ['O'])"
   ]
  },
  {
   "cell_type": "code",
   "execution_count": 31,
   "metadata": {
    "id": "vQKWlw_IsBZV",
    "outputId": "673f4701-4a56-4a50-ec1b-e19c96133314"
   },
   "outputs": [
    {
     "data": {
      "text/html": [
       "<div>\n",
       "<style scoped>\n",
       "    .dataframe tbody tr th:only-of-type {\n",
       "        vertical-align: middle;\n",
       "    }\n",
       "\n",
       "    .dataframe tbody tr th {\n",
       "        vertical-align: top;\n",
       "    }\n",
       "\n",
       "    .dataframe thead th {\n",
       "        text-align: right;\n",
       "    }\n",
       "</style>\n",
       "<table border=\"1\" class=\"dataframe\">\n",
       "  <thead>\n",
       "    <tr style=\"text-align: right;\">\n",
       "      <th></th>\n",
       "      <th>CALENDAR_DATE</th>\n",
       "      <th>PRICE</th>\n",
       "      <th>QUANTITY</th>\n",
       "      <th>SELL_ID</th>\n",
       "      <th>SELL_CATEGORY</th>\n",
       "    </tr>\n",
       "  </thead>\n",
       "  <tbody>\n",
       "  </tbody>\n",
       "</table>\n",
       "</div>"
      ],
      "text/plain": [
       "Empty DataFrame\n",
       "Columns: [CALENDAR_DATE, PRICE, QUANTITY, SELL_ID, SELL_CATEGORY]\n",
       "Index: []"
      ]
     },
     "execution_count": 31,
     "metadata": {},
     "output_type": "execute_result"
    }
   ],
   "source": [
    "# check for nulls\n",
    "transactions[transactions.isnull().any(axis=1)]"
   ]
  },
  {
   "cell_type": "markdown",
   "metadata": {
    "id": "aOMPrBUnsBZV"
   },
   "source": [
    "Important: It’s supposed the PRICE for that product in that day will not vary.\n",
    "\n",
    "In details:\n",
    "CALENDAR_DATE: a date/time variable, having the time always set to 00:00 AM.\n",
    "\n",
    "PRICE: a numeric variable, associated with the price of the product identified by the SELL_ID.\n",
    "\n",
    "QUANTITY: a numeric variable, associated with the quantity of the product sold, identified by the SELL_ID.\n",
    "\n",
    "SELL_ID: a categorical variable, identifier of the product sold.\n",
    "\n",
    "SELL_CATEGORY: a categorical variable, category of the product sold."
   ]
  },
  {
   "cell_type": "code",
   "execution_count": 32,
   "metadata": {
    "id": "hFHhaQCMsBZW",
    "outputId": "9cf29da0-8546-40a3-b1ca-bf33e6588a18"
   },
   "outputs": [
    {
     "data": {
      "text/plain": [
       "(array([ 360.,  509.,  629., 1351., 1082.,  122.,  389.,  240.,  482.,\n",
       "         240.]),\n",
       " array([10.12 , 10.758, 11.396, 12.034, 12.672, 13.31 , 13.948, 14.586,\n",
       "        15.224, 15.862, 16.5  ]),\n",
       " <a list of 10 Patch objects>)"
      ]
     },
     "execution_count": 32,
     "metadata": {},
     "output_type": "execute_result"
    },
    {
     "data": {
      "image/png": "[encoded data removed]",
      "text/plain": [
       "<Figure size 432x288 with 1 Axes>"
      ]
     },
     "metadata": {},
     "output_type": "display_data"
    }
   ],
   "source": [
    "# plot histogram to check data distribution\n",
    "plt.hist(transactions.PRICE)"
   ]
  },
  {
   "cell_type": "code",
   "execution_count": 33,
   "metadata": {},
   "outputs": [
    {
     "ename": "NameError",
     "evalue": "name 'bau_data3' is not defined",
     "output_type": "error",
     "traceback": [
      "\u001b[0;31m---------------------------------------------------------------------------\u001b[0m",
      "\u001b[0;31mNameError\u001b[0m                                 Traceback (most recent call last)",
      "Input \u001b[0;32mIn [33]\u001b[0m, in \u001b[0;36m<cell line: 1>\u001b[0;34m()\u001b[0m\n\u001b[0;32m----> 1\u001b[0m plt\u001b[38;5;241m.\u001b[39mhist(\u001b[43mbau_data3\u001b[49m\u001b[38;5;241m.\u001b[39mPRICE)\n",
      "\u001b[0;31mNameError\u001b[0m: name 'bau_data3' is not defined"
     ]
    }
   ],
   "source": [
    "plt.hist(bau_data3.PRICE)"
   ]
  },
  {
   "cell_type": "code",
   "execution_count": 34,
   "metadata": {
    "id": "ZAgfyHMSsBZW",
    "outputId": "d303a665-7e52-4a04-9674-667ad5cc5158"
   },
   "outputs": [
    {
     "data": {
      "text/plain": [
       "<seaborn.axisgrid.PairGrid at 0x7ffde217cd00>"
      ]
     },
     "execution_count": 34,
     "metadata": {},
     "output_type": "execute_result"
    },
    {
     "data": {
      "image/png": "[encoded data removed]",
      "text/plain": [
       "<Figure size 720x720 with 20 Axes>"
      ]
     },
     "metadata": {},
     "output_type": "display_data"
    }
   ],
   "source": [
    "# plot a pairplot for the data\n",
    "sns.pairplot(transactions)"
   ]
  },
  {
   "cell_type": "code",
   "execution_count": null,
   "metadata": {
    "id": "TgnXkkXLsBZW"
   },
   "outputs": [],
   "source": []
  },
  {
   "cell_type": "code",
   "execution_count": 35,
   "metadata": {
    "id": "thM5Yg9osBZW",
    "outputId": "76d3c0c8-3a57-4de4-b1eb-31163301d4d9"
   },
   "outputs": [
    {
     "data": {
      "text/html": [
       "<div>\n",
       "<style scoped>\n",
       "    .dataframe tbody tr th:only-of-type {\n",
       "        vertical-align: middle;\n",
       "    }\n",
       "\n",
       "    .dataframe tbody tr th {\n",
       "        vertical-align: top;\n",
       "    }\n",
       "\n",
       "    .dataframe thead th {\n",
       "        text-align: right;\n",
       "    }\n",
       "</style>\n",
       "<table border=\"1\" class=\"dataframe\">\n",
       "  <thead>\n",
       "    <tr style=\"text-align: right;\">\n",
       "      <th></th>\n",
       "      <th>CALENDAR_DATE</th>\n",
       "      <th>YEAR</th>\n",
       "      <th>HOLIDAY</th>\n",
       "      <th>IS_WEEKEND</th>\n",
       "      <th>IS_SCHOOLBREAK</th>\n",
       "      <th>AVERAGE_TEMPERATURE</th>\n",
       "      <th>IS_OUTDOOR</th>\n",
       "    </tr>\n",
       "  </thead>\n",
       "  <tbody>\n",
       "    <tr>\n",
       "      <th>0</th>\n",
       "      <td>1/1/12</td>\n",
       "      <td>2012</td>\n",
       "      <td>New Year</td>\n",
       "      <td>1</td>\n",
       "      <td>0</td>\n",
       "      <td>24.8</td>\n",
       "      <td>0</td>\n",
       "    </tr>\n",
       "    <tr>\n",
       "      <th>1</th>\n",
       "      <td>1/2/12</td>\n",
       "      <td>2012</td>\n",
       "      <td>New Year</td>\n",
       "      <td>0</td>\n",
       "      <td>0</td>\n",
       "      <td>24.8</td>\n",
       "      <td>0</td>\n",
       "    </tr>\n",
       "    <tr>\n",
       "      <th>2</th>\n",
       "      <td>1/3/12</td>\n",
       "      <td>2012</td>\n",
       "      <td>New Year</td>\n",
       "      <td>0</td>\n",
       "      <td>0</td>\n",
       "      <td>32.0</td>\n",
       "      <td>1</td>\n",
       "    </tr>\n",
       "    <tr>\n",
       "      <th>3</th>\n",
       "      <td>1/4/12</td>\n",
       "      <td>2012</td>\n",
       "      <td>NaN</td>\n",
       "      <td>0</td>\n",
       "      <td>0</td>\n",
       "      <td>32.0</td>\n",
       "      <td>1</td>\n",
       "    </tr>\n",
       "    <tr>\n",
       "      <th>4</th>\n",
       "      <td>1/5/12</td>\n",
       "      <td>2012</td>\n",
       "      <td>NaN</td>\n",
       "      <td>0</td>\n",
       "      <td>0</td>\n",
       "      <td>24.8</td>\n",
       "      <td>0</td>\n",
       "    </tr>\n",
       "  </tbody>\n",
       "</table>\n",
       "</div>"
      ],
      "text/plain": [
       "  CALENDAR_DATE  YEAR   HOLIDAY  IS_WEEKEND  IS_SCHOOLBREAK  \\\n",
       "0        1/1/12  2012  New Year           1               0   \n",
       "1        1/2/12  2012  New Year           0               0   \n",
       "2        1/3/12  2012  New Year           0               0   \n",
       "3        1/4/12  2012       NaN           0               0   \n",
       "4        1/5/12  2012       NaN           0               0   \n",
       "\n",
       "   AVERAGE_TEMPERATURE  IS_OUTDOOR  \n",
       "0                 24.8           0  \n",
       "1                 24.8           0  \n",
       "2                 32.0           1  \n",
       "3                 32.0           1  \n",
       "4                 24.8           0  "
      ]
     },
     "execution_count": 35,
     "metadata": {},
     "output_type": "execute_result"
    }
   ],
   "source": [
    "# check for first 5 rows\n",
    "date_info.head()"
   ]
  },
  {
   "cell_type": "code",
   "execution_count": 36,
   "metadata": {
    "id": "Ca29N-zmsBZW",
    "outputId": "8623b6df-785e-4fa5-882f-84bde9e378b3"
   },
   "outputs": [
    {
     "data": {
      "text/html": [
       "<div>\n",
       "<style scoped>\n",
       "    .dataframe tbody tr th:only-of-type {\n",
       "        vertical-align: middle;\n",
       "    }\n",
       "\n",
       "    .dataframe tbody tr th {\n",
       "        vertical-align: top;\n",
       "    }\n",
       "\n",
       "    .dataframe thead th {\n",
       "        text-align: right;\n",
       "    }\n",
       "</style>\n",
       "<table border=\"1\" class=\"dataframe\">\n",
       "  <thead>\n",
       "    <tr style=\"text-align: right;\">\n",
       "      <th></th>\n",
       "      <th>YEAR</th>\n",
       "      <th>IS_WEEKEND</th>\n",
       "      <th>IS_SCHOOLBREAK</th>\n",
       "      <th>AVERAGE_TEMPERATURE</th>\n",
       "      <th>IS_OUTDOOR</th>\n",
       "    </tr>\n",
       "  </thead>\n",
       "  <tbody>\n",
       "    <tr>\n",
       "      <th>count</th>\n",
       "      <td>1349.000000</td>\n",
       "      <td>1349.000000</td>\n",
       "      <td>1349.000000</td>\n",
       "      <td>1349.000000</td>\n",
       "      <td>1349.000000</td>\n",
       "    </tr>\n",
       "    <tr>\n",
       "      <th>mean</th>\n",
       "      <td>2013.375093</td>\n",
       "      <td>0.285397</td>\n",
       "      <td>0.204596</td>\n",
       "      <td>56.326019</td>\n",
       "      <td>0.862120</td>\n",
       "    </tr>\n",
       "    <tr>\n",
       "      <th>std</th>\n",
       "      <td>1.073073</td>\n",
       "      <td>0.451771</td>\n",
       "      <td>0.403556</td>\n",
       "      <td>20.227597</td>\n",
       "      <td>0.344902</td>\n",
       "    </tr>\n",
       "    <tr>\n",
       "      <th>min</th>\n",
       "      <td>2012.000000</td>\n",
       "      <td>0.000000</td>\n",
       "      <td>0.000000</td>\n",
       "      <td>14.000000</td>\n",
       "      <td>0.000000</td>\n",
       "    </tr>\n",
       "    <tr>\n",
       "      <th>25%</th>\n",
       "      <td>2012.000000</td>\n",
       "      <td>0.000000</td>\n",
       "      <td>0.000000</td>\n",
       "      <td>35.600000</td>\n",
       "      <td>1.000000</td>\n",
       "    </tr>\n",
       "    <tr>\n",
       "      <th>50%</th>\n",
       "      <td>2013.000000</td>\n",
       "      <td>0.000000</td>\n",
       "      <td>0.000000</td>\n",
       "      <td>60.800000</td>\n",
       "      <td>1.000000</td>\n",
       "    </tr>\n",
       "    <tr>\n",
       "      <th>75%</th>\n",
       "      <td>2014.000000</td>\n",
       "      <td>1.000000</td>\n",
       "      <td>0.000000</td>\n",
       "      <td>75.200000</td>\n",
       "      <td>1.000000</td>\n",
       "    </tr>\n",
       "    <tr>\n",
       "      <th>max</th>\n",
       "      <td>2015.000000</td>\n",
       "      <td>1.000000</td>\n",
       "      <td>1.000000</td>\n",
       "      <td>87.800000</td>\n",
       "      <td>1.000000</td>\n",
       "    </tr>\n",
       "  </tbody>\n",
       "</table>\n",
       "</div>"
      ],
      "text/plain": [
       "              YEAR   IS_WEEKEND  IS_SCHOOLBREAK  AVERAGE_TEMPERATURE  \\\n",
       "count  1349.000000  1349.000000     1349.000000          1349.000000   \n",
       "mean   2013.375093     0.285397        0.204596            56.326019   \n",
       "std       1.073073     0.451771        0.403556            20.227597   \n",
       "min    2012.000000     0.000000        0.000000            14.000000   \n",
       "25%    2012.000000     0.000000        0.000000            35.600000   \n",
       "50%    2013.000000     0.000000        0.000000            60.800000   \n",
       "75%    2014.000000     1.000000        0.000000            75.200000   \n",
       "max    2015.000000     1.000000        1.000000            87.800000   \n",
       "\n",
       "        IS_OUTDOOR  \n",
       "count  1349.000000  \n",
       "mean      0.862120  \n",
       "std       0.344902  \n",
       "min       0.000000  \n",
       "25%       1.000000  \n",
       "50%       1.000000  \n",
       "75%       1.000000  \n",
       "max       1.000000  "
      ]
     },
     "execution_count": 36,
     "metadata": {},
     "output_type": "execute_result"
    },
    {
     "data": {
      "text/html": [
       "<div>\n",
       "<style scoped>\n",
       "    .dataframe tbody tr th:only-of-type {\n",
       "        vertical-align: middle;\n",
       "    }\n",
       "\n",
       "    .dataframe tbody tr th {\n",
       "        vertical-align: top;\n",
       "    }\n",
       "\n",
       "    .dataframe thead th {\n",
       "        text-align: right;\n",
       "    }\n",
       "</style>\n",
       "<table border=\"1\" class=\"dataframe\">\n",
       "  <thead>\n",
       "    <tr style=\"text-align: right;\">\n",
       "      <th></th>\n",
       "      <th>CALENDAR_DATE</th>\n",
       "      <th>HOLIDAY</th>\n",
       "    </tr>\n",
       "  </thead>\n",
       "  <tbody>\n",
       "    <tr>\n",
       "      <th>count</th>\n",
       "      <td>1349</td>\n",
       "      <td>105</td>\n",
       "    </tr>\n",
       "    <tr>\n",
       "      <th>unique</th>\n",
       "      <td>1348</td>\n",
       "      <td>8</td>\n",
       "    </tr>\n",
       "    <tr>\n",
       "      <th>top</th>\n",
       "      <td>3/1/13</td>\n",
       "      <td>Luner New Year</td>\n",
       "    </tr>\n",
       "    <tr>\n",
       "      <th>freq</th>\n",
       "      <td>2</td>\n",
       "      <td>28</td>\n",
       "    </tr>\n",
       "  </tbody>\n",
       "</table>\n",
       "</div>"
      ],
      "text/plain": [
       "       CALENDAR_DATE         HOLIDAY\n",
       "count           1349             105\n",
       "unique          1348               8\n",
       "top           3/1/13  Luner New Year\n",
       "freq               2              28"
      ]
     },
     "execution_count": 36,
     "metadata": {},
     "output_type": "execute_result"
    }
   ],
   "source": [
    "# describe\n",
    "date_info.describe()\n",
    "date_info.describe(include = ['O'])"
   ]
  },
  {
   "cell_type": "code",
   "execution_count": 37,
   "metadata": {
    "id": "Lm5ZLzPlsBZX",
    "outputId": "511bdcb9-d94a-412e-b9e1-8f44b26aa5d6"
   },
   "outputs": [
    {
     "data": {
      "text/plain": [
       "CALENDAR_DATE           object\n",
       "YEAR                     int64\n",
       "HOLIDAY                 object\n",
       "IS_WEEKEND               int64\n",
       "IS_SCHOOLBREAK           int64\n",
       "AVERAGE_TEMPERATURE    float64\n",
       "IS_OUTDOOR               int64\n",
       "dtype: object"
      ]
     },
     "execution_count": 37,
     "metadata": {},
     "output_type": "execute_result"
    }
   ],
   "source": [
    "# check datatypes\n",
    "date_info.dtypes"
   ]
  },
  {
   "cell_type": "code",
   "execution_count": 38,
   "metadata": {
    "id": "kp8wqXZJsBZX",
    "outputId": "337cb34f-1ae8-4fb8-ae87-8e1a15c59296"
   },
   "outputs": [
    {
     "data": {
      "text/plain": [
       "CALENDAR_DATE             0\n",
       "YEAR                      0\n",
       "HOLIDAY                1244\n",
       "IS_WEEKEND                0\n",
       "IS_SCHOOLBREAK            0\n",
       "AVERAGE_TEMPERATURE       0\n",
       "IS_OUTDOOR                0\n",
       "dtype: int64"
      ]
     },
     "execution_count": 38,
     "metadata": {},
     "output_type": "execute_result"
    }
   ],
   "source": [
    "# check for null\n",
    "date_info.isnull().sum()"
   ]
  },
  {
   "cell_type": "code",
   "execution_count": null,
   "metadata": {},
   "outputs": [],
   "source": []
  },
  {
   "cell_type": "code",
   "execution_count": 39,
   "metadata": {
    "id": "SMookd0xsBZX"
   },
   "outputs": [],
   "source": [
    "# null value imputation\n",
    "date_info['HOLIDAY'] = date_info['HOLIDAY'].fillna(\"No Holiday\")"
   ]
  },
  {
   "cell_type": "code",
   "execution_count": 40,
   "metadata": {
    "id": "yESHEs3GsBZX",
    "outputId": "1e080a5e-7bd2-4c00-97ad-2126d7a56181"
   },
   "outputs": [
    {
     "data": {
      "text/html": [
       "<div>\n",
       "<style scoped>\n",
       "    .dataframe tbody tr th:only-of-type {\n",
       "        vertical-align: middle;\n",
       "    }\n",
       "\n",
       "    .dataframe tbody tr th {\n",
       "        vertical-align: top;\n",
       "    }\n",
       "\n",
       "    .dataframe thead th {\n",
       "        text-align: right;\n",
       "    }\n",
       "</style>\n",
       "<table border=\"1\" class=\"dataframe\">\n",
       "  <thead>\n",
       "    <tr style=\"text-align: right;\">\n",
       "      <th></th>\n",
       "      <th>CALENDAR_DATE</th>\n",
       "      <th>YEAR</th>\n",
       "      <th>HOLIDAY</th>\n",
       "      <th>IS_WEEKEND</th>\n",
       "      <th>IS_SCHOOLBREAK</th>\n",
       "      <th>AVERAGE_TEMPERATURE</th>\n",
       "      <th>IS_OUTDOOR</th>\n",
       "    </tr>\n",
       "  </thead>\n",
       "  <tbody>\n",
       "    <tr>\n",
       "      <th>0</th>\n",
       "      <td>1/1/12</td>\n",
       "      <td>2012</td>\n",
       "      <td>New Year</td>\n",
       "      <td>1</td>\n",
       "      <td>0</td>\n",
       "      <td>24.8</td>\n",
       "      <td>0</td>\n",
       "    </tr>\n",
       "    <tr>\n",
       "      <th>1</th>\n",
       "      <td>1/2/12</td>\n",
       "      <td>2012</td>\n",
       "      <td>New Year</td>\n",
       "      <td>0</td>\n",
       "      <td>0</td>\n",
       "      <td>24.8</td>\n",
       "      <td>0</td>\n",
       "    </tr>\n",
       "    <tr>\n",
       "      <th>2</th>\n",
       "      <td>1/3/12</td>\n",
       "      <td>2012</td>\n",
       "      <td>New Year</td>\n",
       "      <td>0</td>\n",
       "      <td>0</td>\n",
       "      <td>32.0</td>\n",
       "      <td>1</td>\n",
       "    </tr>\n",
       "    <tr>\n",
       "      <th>3</th>\n",
       "      <td>1/4/12</td>\n",
       "      <td>2012</td>\n",
       "      <td>No Holiday</td>\n",
       "      <td>0</td>\n",
       "      <td>0</td>\n",
       "      <td>32.0</td>\n",
       "      <td>1</td>\n",
       "    </tr>\n",
       "    <tr>\n",
       "      <th>4</th>\n",
       "      <td>1/5/12</td>\n",
       "      <td>2012</td>\n",
       "      <td>No Holiday</td>\n",
       "      <td>0</td>\n",
       "      <td>0</td>\n",
       "      <td>24.8</td>\n",
       "      <td>0</td>\n",
       "    </tr>\n",
       "    <tr>\n",
       "      <th>5</th>\n",
       "      <td>1/6/12</td>\n",
       "      <td>2012</td>\n",
       "      <td>No Holiday</td>\n",
       "      <td>0</td>\n",
       "      <td>0</td>\n",
       "      <td>23.0</td>\n",
       "      <td>0</td>\n",
       "    </tr>\n",
       "    <tr>\n",
       "      <th>6</th>\n",
       "      <td>1/7/12</td>\n",
       "      <td>2012</td>\n",
       "      <td>No Holiday</td>\n",
       "      <td>1</td>\n",
       "      <td>0</td>\n",
       "      <td>26.6</td>\n",
       "      <td>0</td>\n",
       "    </tr>\n",
       "    <tr>\n",
       "      <th>7</th>\n",
       "      <td>1/8/12</td>\n",
       "      <td>2012</td>\n",
       "      <td>No Holiday</td>\n",
       "      <td>1</td>\n",
       "      <td>0</td>\n",
       "      <td>26.6</td>\n",
       "      <td>0</td>\n",
       "    </tr>\n",
       "    <tr>\n",
       "      <th>8</th>\n",
       "      <td>1/9/12</td>\n",
       "      <td>2012</td>\n",
       "      <td>No Holiday</td>\n",
       "      <td>0</td>\n",
       "      <td>0</td>\n",
       "      <td>23.0</td>\n",
       "      <td>0</td>\n",
       "    </tr>\n",
       "    <tr>\n",
       "      <th>9</th>\n",
       "      <td>1/10/12</td>\n",
       "      <td>2012</td>\n",
       "      <td>No Holiday</td>\n",
       "      <td>0</td>\n",
       "      <td>0</td>\n",
       "      <td>24.8</td>\n",
       "      <td>0</td>\n",
       "    </tr>\n",
       "  </tbody>\n",
       "</table>\n",
       "</div>"
      ],
      "text/plain": [
       "  CALENDAR_DATE  YEAR     HOLIDAY  IS_WEEKEND  IS_SCHOOLBREAK  \\\n",
       "0        1/1/12  2012    New Year           1               0   \n",
       "1        1/2/12  2012    New Year           0               0   \n",
       "2        1/3/12  2012    New Year           0               0   \n",
       "3        1/4/12  2012  No Holiday           0               0   \n",
       "4        1/5/12  2012  No Holiday           0               0   \n",
       "5        1/6/12  2012  No Holiday           0               0   \n",
       "6        1/7/12  2012  No Holiday           1               0   \n",
       "7        1/8/12  2012  No Holiday           1               0   \n",
       "8        1/9/12  2012  No Holiday           0               0   \n",
       "9       1/10/12  2012  No Holiday           0               0   \n",
       "\n",
       "   AVERAGE_TEMPERATURE  IS_OUTDOOR  \n",
       "0                 24.8           0  \n",
       "1                 24.8           0  \n",
       "2                 32.0           1  \n",
       "3                 32.0           1  \n",
       "4                 24.8           0  \n",
       "5                 23.0           0  \n",
       "6                 26.6           0  \n",
       "7                 26.6           0  \n",
       "8                 23.0           0  \n",
       "9                 24.8           0  "
      ]
     },
     "execution_count": 40,
     "metadata": {},
     "output_type": "execute_result"
    }
   ],
   "source": [
    "date_info.head(10)"
   ]
  },
  {
   "cell_type": "code",
   "execution_count": 41,
   "metadata": {
    "id": "7AU4vB1NsBZX",
    "outputId": "50241b31-575b-485b-bcc1-3c5fa7ea205e"
   },
   "outputs": [
    {
     "data": {
      "text/plain": [
       "<seaborn.axisgrid.PairGrid at 0x7ffde1b79d30>"
      ]
     },
     "execution_count": 41,
     "metadata": {},
     "output_type": "execute_result"
    },
    {
     "data": {
      "image/png": "[encoded data removed]",
      "text/plain": [
       "<Figure size 900x900 with 30 Axes>"
      ]
     },
     "metadata": {},
     "output_type": "display_data"
    }
   ],
   "source": [
    "# pairplot \n",
    "sns.pairplot(date_info)"
   ]
  },
  {
   "cell_type": "markdown",
   "metadata": {
    "id": "wJZUXkBBsBZX"
   },
   "source": [
    "# Understanding the data better"
   ]
  },
  {
   "cell_type": "code",
   "execution_count": 42,
   "metadata": {
    "id": "lXBvGEg3sBZX",
    "outputId": "c5fd7ea2-0e2b-467f-800c-1bdc52a5cadc"
   },
   "outputs": [
    {
     "data": {
      "text/plain": [
       "array(['Dragon Boat Festivel', 'Labor Day', 'Luner New Year',\n",
       "       'Mid-Autumn Day', 'National Day', 'New Year', 'No Holiday',\n",
       "       'Qing Ming Festival', 'WWII Celebration'], dtype=object)"
      ]
     },
     "execution_count": 42,
     "metadata": {},
     "output_type": "execute_result"
    }
   ],
   "source": [
    "# check for unique values\n",
    "np.unique(date_info['HOLIDAY'])"
   ]
  },
  {
   "cell_type": "code",
   "execution_count": 43,
   "metadata": {
    "id": "rIdvfWE9sBZY",
    "outputId": "5edd1a99-4705-4e25-fa4f-ad6a3e4dc66d"
   },
   "outputs": [
    {
     "data": {
      "text/plain": [
       "'1/1/12'"
      ]
     },
     "execution_count": 43,
     "metadata": {},
     "output_type": "execute_result"
    }
   ],
   "source": [
    "# minimum date\n",
    "date_info['CALENDAR_DATE'].min()"
   ]
  },
  {
   "cell_type": "code",
   "execution_count": 44,
   "metadata": {
    "id": "8wglGBHEsBZY",
    "outputId": "3352cb18-9ab8-4029-c032-c650f9d440c7"
   },
   "outputs": [
    {
     "data": {
      "text/plain": [
       "'9/9/15'"
      ]
     },
     "execution_count": 44,
     "metadata": {},
     "output_type": "execute_result"
    }
   ],
   "source": [
    "# maximum date\n",
    "date_info['CALENDAR_DATE'].max()"
   ]
  },
  {
   "cell_type": "code",
   "execution_count": 45,
   "metadata": {
    "id": "ASb3JnvIsBZY",
    "outputId": "ab9e00c6-e5e6-4620-ae89-b7c25fd2891e"
   },
   "outputs": [
    {
     "data": {
      "text/plain": [
       "(1349, 7)"
      ]
     },
     "execution_count": 45,
     "metadata": {},
     "output_type": "execute_result"
    }
   ],
   "source": [
    "# shape of data\n",
    "date_info.shape"
   ]
  },
  {
   "cell_type": "code",
   "execution_count": 46,
   "metadata": {
    "id": "_f_Qr7v0sBZY",
    "outputId": "1c610342-e821-4928-b7b8-1644d8ffc8a6"
   },
   "outputs": [],
   "source": [
    "# check for null\n",
    "#date_info[date_info.isnull().any(axis=1)]"
   ]
  },
  {
   "cell_type": "markdown",
   "metadata": {
    "id": "is0fvKlosBZY"
   },
   "source": []
  },
  {
   "cell_type": "code",
   "execution_count": 47,
   "metadata": {
    "id": "vCufGXpZsBZY"
   },
   "outputs": [],
   "source": [
    "# ------------------------------------------------------------------------------------------------------"
   ]
  },
  {
   "cell_type": "code",
   "execution_count": null,
   "metadata": {
    "id": "Cax6chPOsBZY"
   },
   "outputs": [],
   "source": []
  },
  {
   "cell_type": "code",
   "execution_count": 48,
   "metadata": {
    "id": "PXPR1mFtsBZY",
    "outputId": "72e43068-50fa-4137-b481-548254156c1b"
   },
   "outputs": [
    {
     "data": {
      "text/html": [
       "<div>\n",
       "<style scoped>\n",
       "    .dataframe tbody tr th:only-of-type {\n",
       "        vertical-align: middle;\n",
       "    }\n",
       "\n",
       "    .dataframe tbody tr th {\n",
       "        vertical-align: top;\n",
       "    }\n",
       "\n",
       "    .dataframe thead th {\n",
       "        text-align: right;\n",
       "    }\n",
       "</style>\n",
       "<table border=\"1\" class=\"dataframe\">\n",
       "  <thead>\n",
       "    <tr style=\"text-align: right;\">\n",
       "      <th></th>\n",
       "      <th>SELL_ID</th>\n",
       "      <th>BURGER</th>\n",
       "      <th>COFFEE</th>\n",
       "      <th>COKE</th>\n",
       "      <th>LEMONADE</th>\n",
       "    </tr>\n",
       "  </thead>\n",
       "  <tbody>\n",
       "    <tr>\n",
       "      <th>0</th>\n",
       "      <td>1070</td>\n",
       "      <td>1</td>\n",
       "      <td>0</td>\n",
       "      <td>0</td>\n",
       "      <td>0</td>\n",
       "    </tr>\n",
       "    <tr>\n",
       "      <th>1</th>\n",
       "      <td>3055</td>\n",
       "      <td>0</td>\n",
       "      <td>1</td>\n",
       "      <td>0</td>\n",
       "      <td>0</td>\n",
       "    </tr>\n",
       "    <tr>\n",
       "      <th>2</th>\n",
       "      <td>3067</td>\n",
       "      <td>0</td>\n",
       "      <td>0</td>\n",
       "      <td>1</td>\n",
       "      <td>0</td>\n",
       "    </tr>\n",
       "    <tr>\n",
       "      <th>3</th>\n",
       "      <td>3028</td>\n",
       "      <td>0</td>\n",
       "      <td>0</td>\n",
       "      <td>0</td>\n",
       "      <td>1</td>\n",
       "    </tr>\n",
       "    <tr>\n",
       "      <th>4</th>\n",
       "      <td>2051</td>\n",
       "      <td>1</td>\n",
       "      <td>0</td>\n",
       "      <td>0</td>\n",
       "      <td>0</td>\n",
       "    </tr>\n",
       "    <tr>\n",
       "      <th>5</th>\n",
       "      <td>2051</td>\n",
       "      <td>0</td>\n",
       "      <td>0</td>\n",
       "      <td>1</td>\n",
       "      <td>0</td>\n",
       "    </tr>\n",
       "    <tr>\n",
       "      <th>6</th>\n",
       "      <td>2052</td>\n",
       "      <td>1</td>\n",
       "      <td>0</td>\n",
       "      <td>0</td>\n",
       "      <td>0</td>\n",
       "    </tr>\n",
       "    <tr>\n",
       "      <th>7</th>\n",
       "      <td>2052</td>\n",
       "      <td>0</td>\n",
       "      <td>0</td>\n",
       "      <td>0</td>\n",
       "      <td>1</td>\n",
       "    </tr>\n",
       "    <tr>\n",
       "      <th>8</th>\n",
       "      <td>2053</td>\n",
       "      <td>1</td>\n",
       "      <td>0</td>\n",
       "      <td>0</td>\n",
       "      <td>0</td>\n",
       "    </tr>\n",
       "    <tr>\n",
       "      <th>9</th>\n",
       "      <td>2053</td>\n",
       "      <td>0</td>\n",
       "      <td>0</td>\n",
       "      <td>1</td>\n",
       "      <td>0</td>\n",
       "    </tr>\n",
       "    <tr>\n",
       "      <th>10</th>\n",
       "      <td>2053</td>\n",
       "      <td>0</td>\n",
       "      <td>1</td>\n",
       "      <td>0</td>\n",
       "      <td>0</td>\n",
       "    </tr>\n",
       "  </tbody>\n",
       "</table>\n",
       "</div>"
      ],
      "text/plain": [
       "    SELL_ID  BURGER  COFFEE  COKE  LEMONADE\n",
       "0      1070       1       0     0         0\n",
       "1      3055       0       1     0         0\n",
       "2      3067       0       0     1         0\n",
       "3      3028       0       0     0         1\n",
       "4      2051       1       0     0         0\n",
       "5      2051       0       0     1         0\n",
       "6      2052       1       0     0         0\n",
       "7      2052       0       0     0         1\n",
       "8      2053       1       0     0         0\n",
       "9      2053       0       0     1         0\n",
       "10     2053       0       1     0         0"
      ]
     },
     "execution_count": 48,
     "metadata": {},
     "output_type": "execute_result"
    }
   ],
   "source": [
    "# concatenate the data\n",
    "pd.concat([sold.SELL_ID, pd.get_dummies(sold.ITEM_NAME)], axis=1)"
   ]
  },
  {
   "cell_type": "code",
   "execution_count": 49,
   "metadata": {
    "id": "uXGfXTKmsBZY",
    "outputId": "19cb0b09-73db-4c49-fa9e-f3f3c476cc75"
   },
   "outputs": [
    {
     "data": {
      "text/html": [
       "<div>\n",
       "<style scoped>\n",
       "    .dataframe tbody tr th:only-of-type {\n",
       "        vertical-align: middle;\n",
       "    }\n",
       "\n",
       "    .dataframe tbody tr th {\n",
       "        vertical-align: top;\n",
       "    }\n",
       "\n",
       "    .dataframe thead th {\n",
       "        text-align: right;\n",
       "    }\n",
       "</style>\n",
       "<table border=\"1\" class=\"dataframe\">\n",
       "  <thead>\n",
       "    <tr style=\"text-align: right;\">\n",
       "      <th></th>\n",
       "      <th>SELL_ID</th>\n",
       "      <th>BURGER</th>\n",
       "      <th>COFFEE</th>\n",
       "      <th>COKE</th>\n",
       "      <th>LEMONADE</th>\n",
       "    </tr>\n",
       "    <tr>\n",
       "      <th>SELL_ID</th>\n",
       "      <th></th>\n",
       "      <th></th>\n",
       "      <th></th>\n",
       "      <th></th>\n",
       "      <th></th>\n",
       "    </tr>\n",
       "  </thead>\n",
       "  <tbody>\n",
       "    <tr>\n",
       "      <th>1070</th>\n",
       "      <td>1070</td>\n",
       "      <td>1</td>\n",
       "      <td>0</td>\n",
       "      <td>0</td>\n",
       "      <td>0</td>\n",
       "    </tr>\n",
       "    <tr>\n",
       "      <th>2051</th>\n",
       "      <td>4102</td>\n",
       "      <td>1</td>\n",
       "      <td>0</td>\n",
       "      <td>1</td>\n",
       "      <td>0</td>\n",
       "    </tr>\n",
       "    <tr>\n",
       "      <th>2052</th>\n",
       "      <td>4104</td>\n",
       "      <td>1</td>\n",
       "      <td>0</td>\n",
       "      <td>0</td>\n",
       "      <td>1</td>\n",
       "    </tr>\n",
       "    <tr>\n",
       "      <th>2053</th>\n",
       "      <td>6159</td>\n",
       "      <td>1</td>\n",
       "      <td>1</td>\n",
       "      <td>1</td>\n",
       "      <td>0</td>\n",
       "    </tr>\n",
       "    <tr>\n",
       "      <th>3028</th>\n",
       "      <td>3028</td>\n",
       "      <td>0</td>\n",
       "      <td>0</td>\n",
       "      <td>0</td>\n",
       "      <td>1</td>\n",
       "    </tr>\n",
       "    <tr>\n",
       "      <th>3055</th>\n",
       "      <td>3055</td>\n",
       "      <td>0</td>\n",
       "      <td>1</td>\n",
       "      <td>0</td>\n",
       "      <td>0</td>\n",
       "    </tr>\n",
       "    <tr>\n",
       "      <th>3067</th>\n",
       "      <td>3067</td>\n",
       "      <td>0</td>\n",
       "      <td>0</td>\n",
       "      <td>1</td>\n",
       "      <td>0</td>\n",
       "    </tr>\n",
       "  </tbody>\n",
       "</table>\n",
       "</div>"
      ],
      "text/plain": [
       "         SELL_ID  BURGER  COFFEE  COKE  LEMONADE\n",
       "SELL_ID                                         \n",
       "1070        1070       1       0     0         0\n",
       "2051        4102       1       0     1         0\n",
       "2052        4104       1       0     0         1\n",
       "2053        6159       1       1     1         0\n",
       "3028        3028       0       0     0         1\n",
       "3055        3055       0       1     0         0\n",
       "3067        3067       0       0     1         0"
      ]
     },
     "execution_count": 49,
     "metadata": {},
     "output_type": "execute_result"
    }
   ],
   "source": [
    "\n",
    "pd.concat([sold.SELL_ID, pd.get_dummies(sold.ITEM_NAME)], axis=1).groupby(sold.SELL_ID).sum()"
   ]
  },
  {
   "cell_type": "code",
   "execution_count": 50,
   "metadata": {
    "id": "hS4myOWssBZZ",
    "outputId": "41774f8d-0113-4a28-d500-179d853c9af9",
    "scrolled": true
   },
   "outputs": [
    {
     "data": {
      "text/html": [
       "<div>\n",
       "<style scoped>\n",
       "    .dataframe tbody tr th:only-of-type {\n",
       "        vertical-align: middle;\n",
       "    }\n",
       "\n",
       "    .dataframe tbody tr th {\n",
       "        vertical-align: top;\n",
       "    }\n",
       "\n",
       "    .dataframe thead th {\n",
       "        text-align: right;\n",
       "    }\n",
       "</style>\n",
       "<table border=\"1\" class=\"dataframe\">\n",
       "  <thead>\n",
       "    <tr style=\"text-align: right;\">\n",
       "      <th></th>\n",
       "      <th>SELL_ID</th>\n",
       "      <th>SELL_CATEGORY</th>\n",
       "      <th>ITEM_NAME</th>\n",
       "      <th>CALENDAR_DATE</th>\n",
       "      <th>PRICE</th>\n",
       "      <th>QUANTITY</th>\n",
       "    </tr>\n",
       "  </thead>\n",
       "  <tbody>\n",
       "    <tr>\n",
       "      <th>0</th>\n",
       "      <td>1070</td>\n",
       "      <td>0</td>\n",
       "      <td>BURGER</td>\n",
       "      <td>01/01/12</td>\n",
       "      <td>15.5</td>\n",
       "      <td>46</td>\n",
       "    </tr>\n",
       "    <tr>\n",
       "      <th>1</th>\n",
       "      <td>1070</td>\n",
       "      <td>0</td>\n",
       "      <td>BURGER</td>\n",
       "      <td>01/02/12</td>\n",
       "      <td>15.5</td>\n",
       "      <td>70</td>\n",
       "    </tr>\n",
       "    <tr>\n",
       "      <th>2</th>\n",
       "      <td>1070</td>\n",
       "      <td>0</td>\n",
       "      <td>BURGER</td>\n",
       "      <td>01/03/12</td>\n",
       "      <td>15.5</td>\n",
       "      <td>62</td>\n",
       "    </tr>\n",
       "    <tr>\n",
       "      <th>3</th>\n",
       "      <td>1070</td>\n",
       "      <td>0</td>\n",
       "      <td>BURGER</td>\n",
       "      <td>01/04/12</td>\n",
       "      <td>15.5</td>\n",
       "      <td>88</td>\n",
       "    </tr>\n",
       "    <tr>\n",
       "      <th>4</th>\n",
       "      <td>1070</td>\n",
       "      <td>0</td>\n",
       "      <td>BURGER</td>\n",
       "      <td>01/05/12</td>\n",
       "      <td>15.5</td>\n",
       "      <td>104</td>\n",
       "    </tr>\n",
       "    <tr>\n",
       "      <th>5</th>\n",
       "      <td>1070</td>\n",
       "      <td>0</td>\n",
       "      <td>BURGER</td>\n",
       "      <td>01/06/12</td>\n",
       "      <td>15.5</td>\n",
       "      <td>100</td>\n",
       "    </tr>\n",
       "    <tr>\n",
       "      <th>6</th>\n",
       "      <td>1070</td>\n",
       "      <td>0</td>\n",
       "      <td>BURGER</td>\n",
       "      <td>01/07/12</td>\n",
       "      <td>15.5</td>\n",
       "      <td>70</td>\n",
       "    </tr>\n",
       "    <tr>\n",
       "      <th>7</th>\n",
       "      <td>1070</td>\n",
       "      <td>0</td>\n",
       "      <td>BURGER</td>\n",
       "      <td>01/08/12</td>\n",
       "      <td>15.5</td>\n",
       "      <td>70</td>\n",
       "    </tr>\n",
       "    <tr>\n",
       "      <th>8</th>\n",
       "      <td>1070</td>\n",
       "      <td>0</td>\n",
       "      <td>BURGER</td>\n",
       "      <td>01/09/12</td>\n",
       "      <td>15.5</td>\n",
       "      <td>106</td>\n",
       "    </tr>\n",
       "    <tr>\n",
       "      <th>9</th>\n",
       "      <td>1070</td>\n",
       "      <td>0</td>\n",
       "      <td>BURGER</td>\n",
       "      <td>01/10/12</td>\n",
       "      <td>15.5</td>\n",
       "      <td>108</td>\n",
       "    </tr>\n",
       "    <tr>\n",
       "      <th>10</th>\n",
       "      <td>1070</td>\n",
       "      <td>0</td>\n",
       "      <td>BURGER</td>\n",
       "      <td>01/11/12</td>\n",
       "      <td>15.5</td>\n",
       "      <td>104</td>\n",
       "    </tr>\n",
       "    <tr>\n",
       "      <th>11</th>\n",
       "      <td>1070</td>\n",
       "      <td>0</td>\n",
       "      <td>BURGER</td>\n",
       "      <td>01/12/12</td>\n",
       "      <td>15.5</td>\n",
       "      <td>102</td>\n",
       "    </tr>\n",
       "    <tr>\n",
       "      <th>12</th>\n",
       "      <td>1070</td>\n",
       "      <td>0</td>\n",
       "      <td>BURGER</td>\n",
       "      <td>1/13/12</td>\n",
       "      <td>15.5</td>\n",
       "      <td>100</td>\n",
       "    </tr>\n",
       "    <tr>\n",
       "      <th>13</th>\n",
       "      <td>1070</td>\n",
       "      <td>0</td>\n",
       "      <td>BURGER</td>\n",
       "      <td>1/14/12</td>\n",
       "      <td>15.5</td>\n",
       "      <td>74</td>\n",
       "    </tr>\n",
       "    <tr>\n",
       "      <th>14</th>\n",
       "      <td>1070</td>\n",
       "      <td>0</td>\n",
       "      <td>BURGER</td>\n",
       "      <td>1/15/12</td>\n",
       "      <td>15.5</td>\n",
       "      <td>60</td>\n",
       "    </tr>\n",
       "    <tr>\n",
       "      <th>15</th>\n",
       "      <td>1070</td>\n",
       "      <td>0</td>\n",
       "      <td>BURGER</td>\n",
       "      <td>1/16/12</td>\n",
       "      <td>15.5</td>\n",
       "      <td>104</td>\n",
       "    </tr>\n",
       "    <tr>\n",
       "      <th>16</th>\n",
       "      <td>1070</td>\n",
       "      <td>0</td>\n",
       "      <td>BURGER</td>\n",
       "      <td>1/17/12</td>\n",
       "      <td>15.5</td>\n",
       "      <td>106</td>\n",
       "    </tr>\n",
       "    <tr>\n",
       "      <th>17</th>\n",
       "      <td>1070</td>\n",
       "      <td>0</td>\n",
       "      <td>BURGER</td>\n",
       "      <td>1/18/12</td>\n",
       "      <td>15.5</td>\n",
       "      <td>108</td>\n",
       "    </tr>\n",
       "    <tr>\n",
       "      <th>18</th>\n",
       "      <td>1070</td>\n",
       "      <td>0</td>\n",
       "      <td>BURGER</td>\n",
       "      <td>1/19/12</td>\n",
       "      <td>15.5</td>\n",
       "      <td>100</td>\n",
       "    </tr>\n",
       "    <tr>\n",
       "      <th>19</th>\n",
       "      <td>1070</td>\n",
       "      <td>0</td>\n",
       "      <td>BURGER</td>\n",
       "      <td>1/20/12</td>\n",
       "      <td>15.5</td>\n",
       "      <td>100</td>\n",
       "    </tr>\n",
       "  </tbody>\n",
       "</table>\n",
       "</div>"
      ],
      "text/plain": [
       "    SELL_ID  SELL_CATEGORY ITEM_NAME CALENDAR_DATE  PRICE  QUANTITY\n",
       "0      1070              0    BURGER      01/01/12   15.5        46\n",
       "1      1070              0    BURGER      01/02/12   15.5        70\n",
       "2      1070              0    BURGER      01/03/12   15.5        62\n",
       "3      1070              0    BURGER      01/04/12   15.5        88\n",
       "4      1070              0    BURGER      01/05/12   15.5       104\n",
       "5      1070              0    BURGER      01/06/12   15.5       100\n",
       "6      1070              0    BURGER      01/07/12   15.5        70\n",
       "7      1070              0    BURGER      01/08/12   15.5        70\n",
       "8      1070              0    BURGER      01/09/12   15.5       106\n",
       "9      1070              0    BURGER      01/10/12   15.5       108\n",
       "10     1070              0    BURGER      01/11/12   15.5       104\n",
       "11     1070              0    BURGER      01/12/12   15.5       102\n",
       "12     1070              0    BURGER       1/13/12   15.5       100\n",
       "13     1070              0    BURGER       1/14/12   15.5        74\n",
       "14     1070              0    BURGER       1/15/12   15.5        60\n",
       "15     1070              0    BURGER       1/16/12   15.5       104\n",
       "16     1070              0    BURGER       1/17/12   15.5       106\n",
       "17     1070              0    BURGER       1/18/12   15.5       108\n",
       "18     1070              0    BURGER       1/19/12   15.5       100\n",
       "19     1070              0    BURGER       1/20/12   15.5       100"
      ]
     },
     "execution_count": 50,
     "metadata": {},
     "output_type": "execute_result"
    }
   ],
   "source": [
    "# merge the data\n",
    "data1 = pd.merge(sold.drop(['ITEM_ID'],axis=1), transactions.drop(['SELL_CATEGORY'], axis= 1), on =  'SELL_ID')\n",
    "data1.head(20)\n",
    "b = data1.groupby(['SELL_ID', 'SELL_CATEGORY', 'ITEM_NAME', 'CALENDAR_DATE','PRICE']).QUANTITY.sum()"
   ]
  },
  {
   "cell_type": "code",
   "execution_count": 53,
   "metadata": {
    "id": "jDZDVAg3sBZZ",
    "outputId": "eee5ac15-fb1b-41b3-ce89-3797f9b8a708"
   },
   "outputs": [
    {
     "data": {
      "text/plain": [
       "SELL_ID  SELL_CATEGORY  ITEM_NAME  CALENDAR_DATE  PRICE\n",
       "2053     2              COKE       9/27/14        12.77    28\n",
       "                                   9/28/12        12.42    50\n",
       "                                   9/28/13        10.45    46\n",
       "                                   9/28/14        12.77    30\n",
       "                                   9/29/12        12.42    36\n",
       "                                   9/29/13        10.45    40\n",
       "                                   9/29/14        12.77    46\n",
       "                                   9/30/12        12.42    38\n",
       "                                   9/30/13        10.45    38\n",
       "                                   9/30/14        12.77    50\n",
       "Name: QUANTITY, dtype: int64"
      ]
     },
     "execution_count": 53,
     "metadata": {},
     "output_type": "execute_result"
    }
   ],
   "source": [
    "b.tail(10)"
   ]
  },
  {
   "cell_type": "code",
   "execution_count": 52,
   "metadata": {},
   "outputs": [
    {
     "data": {
      "text/html": [
       "<div>\n",
       "<style scoped>\n",
       "    .dataframe tbody tr th:only-of-type {\n",
       "        vertical-align: middle;\n",
       "    }\n",
       "\n",
       "    .dataframe tbody tr th {\n",
       "        vertical-align: top;\n",
       "    }\n",
       "\n",
       "    .dataframe thead th {\n",
       "        text-align: right;\n",
       "    }\n",
       "</style>\n",
       "<table border=\"1\" class=\"dataframe\">\n",
       "  <thead>\n",
       "    <tr style=\"text-align: right;\">\n",
       "      <th></th>\n",
       "      <th>SELL_ID</th>\n",
       "      <th>SELL_CATEGORY</th>\n",
       "      <th>ITEM_NAME</th>\n",
       "      <th>CALENDAR_DATE</th>\n",
       "      <th>PRICE</th>\n",
       "      <th>QUANTITY</th>\n",
       "    </tr>\n",
       "  </thead>\n",
       "  <tbody>\n",
       "    <tr>\n",
       "      <th>0</th>\n",
       "      <td>1070</td>\n",
       "      <td>0</td>\n",
       "      <td>BURGER</td>\n",
       "      <td>01/01/12</td>\n",
       "      <td>15.5</td>\n",
       "      <td>46</td>\n",
       "    </tr>\n",
       "    <tr>\n",
       "      <th>1</th>\n",
       "      <td>1070</td>\n",
       "      <td>0</td>\n",
       "      <td>BURGER</td>\n",
       "      <td>01/02/12</td>\n",
       "      <td>15.5</td>\n",
       "      <td>70</td>\n",
       "    </tr>\n",
       "    <tr>\n",
       "      <th>2</th>\n",
       "      <td>1070</td>\n",
       "      <td>0</td>\n",
       "      <td>BURGER</td>\n",
       "      <td>01/03/12</td>\n",
       "      <td>15.5</td>\n",
       "      <td>62</td>\n",
       "    </tr>\n",
       "    <tr>\n",
       "      <th>3</th>\n",
       "      <td>1070</td>\n",
       "      <td>0</td>\n",
       "      <td>BURGER</td>\n",
       "      <td>01/04/12</td>\n",
       "      <td>15.5</td>\n",
       "      <td>88</td>\n",
       "    </tr>\n",
       "    <tr>\n",
       "      <th>4</th>\n",
       "      <td>1070</td>\n",
       "      <td>0</td>\n",
       "      <td>BURGER</td>\n",
       "      <td>01/05/12</td>\n",
       "      <td>15.5</td>\n",
       "      <td>104</td>\n",
       "    </tr>\n",
       "  </tbody>\n",
       "</table>\n",
       "</div>"
      ],
      "text/plain": [
       "   SELL_ID  SELL_CATEGORY ITEM_NAME CALENDAR_DATE  PRICE  QUANTITY\n",
       "0     1070              0    BURGER      01/01/12   15.5        46\n",
       "1     1070              0    BURGER      01/02/12   15.5        70\n",
       "2     1070              0    BURGER      01/03/12   15.5        62\n",
       "3     1070              0    BURGER      01/04/12   15.5        88\n",
       "4     1070              0    BURGER      01/05/12   15.5       104"
      ]
     },
     "execution_count": 52,
     "metadata": {},
     "output_type": "execute_result"
    }
   ],
   "source": [
    "data1.head()"
   ]
  },
  {
   "cell_type": "code",
   "execution_count": null,
   "metadata": {
    "id": "FXxWP1rTsBZZ",
    "outputId": "f1831cfb-23d3-4f1f-b517-8e518df591c9"
   },
   "outputs": [],
   "source": [
    "data1.shape # check the shape\n",
    "intermediate_data = b.reset_index()"
   ]
  },
  {
   "cell_type": "code",
   "execution_count": null,
   "metadata": {
    "id": "yGp97f1WsBZZ",
    "outputId": "cd96f82d-649e-438d-c953-0a4ec93ae892"
   },
   "outputs": [],
   "source": [
    "data1.shape # check the shape"
   ]
  },
  {
   "cell_type": "code",
   "execution_count": null,
   "metadata": {
    "id": "B99tmJ6nsBZZ",
    "outputId": "37e00bce-6007-4b14-e673-74c4c3d571c6"
   },
   "outputs": [],
   "source": [
    "b.shape # check the shape "
   ]
  },
  {
   "cell_type": "code",
   "execution_count": null,
   "metadata": {
    "id": "eQQVlq2psBZZ",
    "outputId": "0fdd9278-1478-4905-cbcc-348c72868cbc"
   },
   "outputs": [],
   "source": [
    "# first 5 rows\n",
    "intermediate_data.head()"
   ]
  },
  {
   "cell_type": "code",
   "execution_count": null,
   "metadata": {
    "id": "9uxlIUZWsBZZ"
   },
   "outputs": [],
   "source": [
    "len(intermediate_data)"
   ]
  },
  {
   "cell_type": "code",
   "execution_count": null,
   "metadata": {
    "id": "hCeU1qH1sBZZ",
    "outputId": "90cb2b2f-e2db-4bee-8cdf-7e7a37b78cbd"
   },
   "outputs": [],
   "source": [
    "# check the minimum date\n",
    "intermediate_data['CALENDAR_DATE'].min()"
   ]
  },
  {
   "cell_type": "code",
   "execution_count": null,
   "metadata": {
    "id": "8g7N0HbusBZZ",
    "outputId": "9afc6d85-8241-4193-f60d-c884ac85123a"
   },
   "outputs": [],
   "source": [
    "# check the maximum date\n",
    "intermediate_data['CALENDAR_DATE'].max()"
   ]
  },
  {
   "cell_type": "code",
   "execution_count": null,
   "metadata": {
    "id": "4ImtSo7asBZZ"
   },
   "outputs": [],
   "source": [
    "sold = pd.read_csv('/Users/kitanolowofoyeku/Cafe+-+Sell+Meta+Data.csv')\n",
    "transactions = pd.read_csv('/Users/kitanolowofoyeku/Cafe+-+Transaction+-+Store.csv')\n",
    "date_info = pd.read_csv('/Users/kitanolowofoyeku/Cafe+-+DateInfo.csv')\n",
    "date_info['HOLIDAY'] = date_info['HOLIDAY'].fillna(\"Nonholiday\")\n",
    "data1 = pd.merge(sold.drop(['ITEM_ID'],axis=1), transactions.drop(['SELL_CATEGORY'], axis= 1), on =  'SELL_ID')\n",
    "b = data1.groupby(['SELL_ID', 'SELL_CATEGORY', 'ITEM_NAME', 'CALENDAR_DATE','PRICE']).QUANTITY.sum()\n",
    "intermediate_data = b.reset_index()\n",
    "combined_data = pd.merge(intermediate_data, date_info, on = 'CALENDAR_DATE')\n",
    "bau_data = combined_data[(combined_data['HOLIDAY']=='No Holiday') & (combined_data['IS_SCHOOLBREAK']==0) & (combined_data['IS_WEEKEND']==0)]"
   ]
  },
  {
   "cell_type": "code",
   "execution_count": null,
   "metadata": {
    "id": "L5MH_SpPsBZa",
    "outputId": "66ad5fee-89ae-4ba7-e58a-8cff60e86bb4"
   },
   "outputs": [],
   "source": [
    "# merge the data\n",
    "combined_data = pd.merge(intermediate_data, date_info, on = 'CALENDAR_DATE')\n",
    "combined_data.head()"
   ]
  },
  {
   "cell_type": "code",
   "execution_count": null,
   "metadata": {
    "id": "u4CEDrxQsBZa",
    "outputId": "dd80b88b-853f-4c90-a83e-5127c8563d69"
   },
   "outputs": [],
   "source": [
    "# check for the shape\n",
    "combined_data.shape"
   ]
  },
  {
   "cell_type": "code",
   "execution_count": null,
   "metadata": {},
   "outputs": [],
   "source": [
    "combined_data['HOLIDAY'] = combined_data['HOLIDAY'].replace(['Luner New Year','Labor Day','Dragon Boat Festivel','Mid-Autumn Day'],'Holiday')\n",
    "                                                                     \n",
    "                                                                     \n",
    "                                                                     "
   ]
  },
  {
   "cell_type": "code",
   "execution_count": null,
   "metadata": {},
   "outputs": [],
   "source": [
    "holiday_list = combined_data['HOLIDAY'].unique().tolist()"
   ]
  },
  {
   "cell_type": "code",
   "execution_count": null,
   "metadata": {},
   "outputs": [],
   "source": [
    "product_list "
   ]
  },
  {
   "cell_type": "code",
   "execution_count": null,
   "metadata": {},
   "outputs": [],
   "source": [
    "combined_data['HOLIDAY'].nunique()"
   ]
  },
  {
   "cell_type": "code",
   "execution_count": null,
   "metadata": {
    "id": "K_fGTIXhsBZa",
    "outputId": "b62a34ec-bc47-4cd9-de6e-83a0438720be"
   },
   "outputs": [],
   "source": [
    "#combined_data[combined_data.isnull().any(axis=1)]"
   ]
  },
  {
   "cell_type": "code",
   "execution_count": null,
   "metadata": {
    "id": "MacLMf_nsBZa",
    "outputId": "f8ff6745-64cf-43ca-c1f3-3a75b4cdab9e"
   },
   "outputs": [],
   "source": [
    "np.unique(combined_data['HOLIDAY'])\n",
    "np.unique(combined_data['IS_WEEKEND'])\n",
    "np.unique(combined_data['IS_SCHOOLBREAK'])"
   ]
  },
  {
   "cell_type": "code",
   "execution_count": null,
   "metadata": {
    "id": "afocJg0RsBZa"
   },
   "outputs": [],
   "source": []
  },
  {
   "cell_type": "code",
   "execution_count": null,
   "metadata": {
    "id": "EqZ0YiZasBZa"
   },
   "outputs": [],
   "source": [
    "combined_data[(combined_data['HOLIDAY']=='No Holiday')]"
   ]
  },
  {
   "cell_type": "code",
   "execution_count": null,
   "metadata": {
    "id": "iTQ7CHkfsBZa"
   },
   "outputs": [],
   "source": [
    "bau_data = combined_data[(combined_data['HOLIDAY']=='No Holiday') & (combined_data['IS_SCHOOLBREAK']==0) & (combined_data['IS_WEEKEND']==0)]"
   ]
  },
  {
   "cell_type": "code",
   "execution_count": null,
   "metadata": {
    "id": "AM-5CinssBZa",
    "outputId": "832a9207-6aa9-42ce-95dc-d2c881d48dc1"
   },
   "outputs": [],
   "source": [
    "c"
   ]
  },
  {
   "cell_type": "code",
   "execution_count": null,
   "metadata": {
    "id": "JL7dtQI2sBZa",
    "outputId": "071929fa-e331-4290-ba80-4f9b7728fcc3"
   },
   "outputs": [],
   "source": [
    "bau_data.shape"
   ]
  },
  {
   "cell_type": "code",
   "execution_count": null,
   "metadata": {
    "id": "xSk2snl5sBZa",
    "outputId": "48888e44-5d12-4a18-d24a-1fe6fcf1b696"
   },
   "outputs": [],
   "source": [
    "# check for unique\n",
    "np.unique(bau_data['HOLIDAY'])\n",
    "np.unique(bau_data['IS_WEEKEND'])\n",
    "np.unique(bau_data['IS_SCHOOLBREAK'])"
   ]
  },
  {
   "cell_type": "code",
   "execution_count": null,
   "metadata": {
    "id": "CrEsDlc4sBZb",
    "outputId": "af47e9e6-7ae0-47a0-8d4d-6a3353406319"
   },
   "outputs": [],
   "source": [
    "bau_data[bau_data['IS_WEEKEND']==1]"
   ]
  },
  {
   "cell_type": "code",
   "execution_count": null,
   "metadata": {
    "id": "qKTFX-QnsBZb",
    "outputId": "c543d94d-d9a9-4027-fed1-516fdc57db00"
   },
   "outputs": [],
   "source": [
    "bau_data[bau_data['HOLIDAY']!='No Holiday']"
   ]
  },
  {
   "cell_type": "code",
   "execution_count": null,
   "metadata": {
    "id": "KySB2GBnsBZb"
   },
   "outputs": [],
   "source": []
  },
  {
   "cell_type": "code",
   "execution_count": null,
   "metadata": {
    "id": "hBR1jVNqsBZb",
    "outputId": "a6b2a268-1c25-4f0a-a38a-a0b4b980a917"
   },
   "outputs": [],
   "source": [
    "# Data exploration\n",
    "plt.hist(bau_data.ITEM_NAME)"
   ]
  },
  {
   "cell_type": "code",
   "execution_count": null,
   "metadata": {
    "id": "zk2_Utc5sBZb",
    "outputId": "70e354bd-8b2c-4d61-876d-880b150ccbcd"
   },
   "outputs": [],
   "source": [
    "# histogram plot\n",
    "plt.hist(bau_data.PRICE)"
   ]
  },
  {
   "cell_type": "code",
   "execution_count": null,
   "metadata": {
    "id": "9tfs_QiosBZb",
    "outputId": "ba17d3e9-1c78-4fa9-8361-b297c6542578"
   },
   "outputs": [],
   "source": [
    "# scatter plot \n",
    "plt.scatter(combined_data['PRICE'], combined_data['QUANTITY'])"
   ]
  },
  {
   "cell_type": "code",
   "execution_count": null,
   "metadata": {
    "id": "d81OjUS0sBZb",
    "outputId": "bdbd60dd-aeef-4988-9138-09859f4d4313"
   },
   "outputs": [],
   "source": [
    "# scatter plot \n",
    "plt.scatter(bau_data['PRICE'], bau_data['QUANTITY'])"
   ]
  },
  {
   "cell_type": "code",
   "execution_count": null,
   "metadata": {
    "id": "3N1ZEWvwsBZb"
   },
   "outputs": [],
   "source": []
  },
  {
   "cell_type": "code",
   "execution_count": null,
   "metadata": {
    "id": "lz6OgfCjsBZb",
    "outputId": "12119f83-98af-4d56-92d9-43cd34845360"
   },
   "outputs": [],
   "source": [
    "sns.pairplot(combined_data[['PRICE','QUANTITY','ITEM_NAME']], hue = 'ITEM_NAME', plot_kws={'alpha':0.1})"
   ]
  },
  {
   "cell_type": "code",
   "execution_count": null,
   "metadata": {
    "id": "eSXnOKEXsBZb",
    "outputId": "a4387d91-775e-433b-c28f-a2f64270c340"
   },
   "outputs": [],
   "source": [
    "sns.pairplot(bau_data[['PRICE','QUANTITY','ITEM_NAME']], hue = 'ITEM_NAME', plot_kws={'alpha':0.1})"
   ]
  },
  {
   "cell_type": "code",
   "execution_count": null,
   "metadata": {
    "id": "GFPWluzysBZc"
   },
   "outputs": [],
   "source": []
  },
  {
   "cell_type": "markdown",
   "metadata": {
    "id": "C1bgdcU7sBZc"
   },
   "source": [
    "The price density plot is bimodal. From the graph we can see that for all quantities, as the price is increased the quantity sold is decreased. Although coke is hidden in this view. We xan go ahead and calculate the price elasticities for this."
   ]
  },
  {
   "cell_type": "code",
   "execution_count": null,
   "metadata": {
    "id": "LhSyqRPjsBZc",
    "outputId": "38582989-53f1-4d24-eefa-a06f61765791"
   },
   "outputs": [],
   "source": [
    "burger = combined_data[combined_data['ITEM_NAME'] == 'BURGER']\n",
    "burger.head()\n",
    "burger.shape\n",
    "burger.describe()\n",
    "sns.scatterplot(x = burger.PRICE, y = burger.QUANTITY )"
   ]
  },
  {
   "cell_type": "markdown",
   "metadata": {
    "id": "d2moD-kKsBZc"
   },
   "source": [
    "From the above scatter plot it is clearly visible that there must be different types of burgers being sold. Now let's see the same distributin whenwe differentiate with SELL_ID which indicates if the burger was a part of the combo and hence, must be treated separately."
   ]
  },
  {
   "cell_type": "code",
   "execution_count": null,
   "metadata": {
    "id": "ou5pJu9QsBZc",
    "outputId": "dc6b1255-7b97-4729-f0e7-4462711ca6b9"
   },
   "outputs": [],
   "source": [
    "burger = combined_data[combined_data['ITEM_NAME'] == 'BURGER']\n",
    "# print(burger)\n",
    "# print(burger.describe())\n",
    "sns.scatterplot(data = burger, x = burger.PRICE, y = burger.QUANTITY , hue = 'SELL_ID', legend=False, alpha = 0.1)"
   ]
  },
  {
   "cell_type": "code",
   "execution_count": null,
   "metadata": {
    "id": "_xJfeWRIsBZc",
    "outputId": "dc01adda-70bb-4bb1-b0a0-1394f935db13"
   },
   "outputs": [],
   "source": [
    "np.unique(combined_data.SELL_ID)"
   ]
  },
  {
   "cell_type": "code",
   "execution_count": null,
   "metadata": {
    "id": "u5F25euIsBZc",
    "outputId": "a36d781c-ec3c-4ea6-948e-bb446a807735"
   },
   "outputs": [],
   "source": [
    "np.unique(combined_data.SELL_CATEGORY)"
   ]
  },
  {
   "cell_type": "code",
   "execution_count": null,
   "metadata": {
    "id": "qSMeyklFsBZc",
    "outputId": "eb8d5ea0-5482-47b4-affe-9a0b831e9b3c"
   },
   "outputs": [],
   "source": [
    "burger_1070 = combined_data[(combined_data['ITEM_NAME'] == 'BURGER') & (combined_data['SELL_ID'] == 1070)]\n",
    "\n",
    "burger_1070.head()\n",
    "burger_1070.describe()\n",
    "sns.scatterplot(data = burger_1070, x = burger_1070.PRICE, y = burger_1070.QUANTITY, alpha = 0.1)"
   ]
  },
  {
   "cell_type": "markdown",
   "metadata": {
    "id": "K2Zj8AQLsBZc"
   },
   "source": [
    "# Modeling"
   ]
  },
  {
   "cell_type": "code",
   "execution_count": null,
   "metadata": {
    "id": "BB-SgXHjsBZd",
    "outputId": "4b857785-4c27-4178-f78d-c7a6d2480f0e"
   },
   "outputs": [],
   "source": [
    "# This is for the combined data\n",
    "burger_model = ols(\"QUANTITY ~ PRICE\", data=burger_1070).fit()\n",
    "print(burger_model.summary())\n",
    "fig = plt.figure(figsize=(12,8))\n",
    "fig = sm.graphics.plot_partregress_grid(burger_model, fig=fig)"
   ]
  },
  {
   "cell_type": "code",
   "execution_count": null,
   "metadata": {
    "id": "vDTk2KhFsBZd"
   },
   "outputs": [],
   "source": []
  },
  {
   "cell_type": "code",
   "execution_count": null,
   "metadata": {
    "id": "Te6Xb9WzsBZd",
    "outputId": "31dc7573-099a-415b-e008-8ee6c7623434",
    "scrolled": true
   },
   "outputs": [],
   "source": [
    "burger = bau_data[bau_data['ITEM_NAME'] == 'BURGER'] # for burger\n",
    "burger.head()\n",
    "burger.shape\n",
    "burger.describe()\n",
    "sns.scatterplot(x = burger.PRICE, y = burger.QUANTITY )"
   ]
  },
  {
   "cell_type": "code",
   "execution_count": null,
   "metadata": {
    "id": "4HpCpyMEsBZd",
    "outputId": "0e22e7ab-1402-4331-a364-3c5746615a00"
   },
   "outputs": [],
   "source": [
    "burger = bau_data[bau_data['ITEM_NAME'] == 'BURGER']\n",
    "# print(burger)\n",
    "# print(burger.describe())\n",
    "sns.scatterplot(data = burger, x = burger.PRICE, y = burger.QUANTITY , hue = 'SELL_ID', legend=False, alpha = 0.1)"
   ]
  },
  {
   "cell_type": "code",
   "execution_count": null,
   "metadata": {
    "id": "MujKTv0asBZd",
    "outputId": "1ffa52d5-8e50-40f3-85b9-ea440aa2f514"
   },
   "outputs": [],
   "source": [
    "# check for unique values\n",
    "np.unique(bau_data.SELL_ID)"
   ]
  },
  {
   "cell_type": "code",
   "execution_count": null,
   "metadata": {
    "id": "2w2_YP1isBZd",
    "outputId": "f11cf4ff-f8cf-45ef-cce7-96ace37ed37c"
   },
   "outputs": [],
   "source": [
    "# check for unique values\n",
    "np.unique(bau_data.SELL_CATEGORY)"
   ]
  },
  {
   "cell_type": "code",
   "execution_count": null,
   "metadata": {
    "id": "x7BUDsvzsBZd",
    "outputId": "1ccd5cf9-9546-462b-96af-071723cc5a6a"
   },
   "outputs": [],
   "source": [
    "burger_1070 = bau_data[(bau_data['ITEM_NAME'] == 'BURGER') & (bau_data['SELL_ID'] == 1070)]\n",
    "\n",
    "burger_1070.head()\n",
    "burger_1070.describe()\n",
    "sns.scatterplot(data = burger_1070, x = burger_1070.PRICE, y = burger_1070.QUANTITY, alpha = 0.1)"
   ]
  },
  {
   "cell_type": "markdown",
   "metadata": {
    "id": "dI7C9FkFsBZd"
   },
   "source": [
    "As you can see, the scatter plot is much cleaner. Although there does seem to be 2 separate trends"
   ]
  },
  {
   "cell_type": "code",
   "execution_count": null,
   "metadata": {
    "id": "edDkW0q6sBZd",
    "outputId": "c4fb496b-e4ea-4cae-df41-e426fb5e12be"
   },
   "outputs": [],
   "source": [
    "burger_model = ols(\"QUANTITY ~ PRICE\", data=burger_1070).fit()\n",
    "print(burger_model.summary())\n",
    "fig = plt.figure(figsize=(12,8))\n",
    "fig = sm.graphics.plot_partregress_grid(burger_model, fig=fig)"
   ]
  },
  {
   "cell_type": "markdown",
   "metadata": {
    "id": "x_B8gzzssBZd"
   },
   "source": [
    "Let's look at the bau data again to see if there is anything els ein the data we can use to further refine our model."
   ]
  },
  {
   "cell_type": "code",
   "execution_count": null,
   "metadata": {
    "id": "qRiIS3HdsBZe",
    "outputId": "39681eac-959f-41e9-fe59-d602ded669c5"
   },
   "outputs": [],
   "source": [
    "bau_data.head()"
   ]
  },
  {
   "cell_type": "code",
   "execution_count": null,
   "metadata": {
    "id": "Ki6opje1sBZe"
   },
   "outputs": [],
   "source": [
    "bau2_data = combined_data[(combined_data['HOLIDAY']=='No Holiday') & (combined_data['IS_SCHOOLBREAK']==0) & (combined_data['IS_WEEKEND']==0) & (combined_data['IS_OUTDOOR']==1)]"
   ]
  },
  {
   "cell_type": "code",
   "execution_count": null,
   "metadata": {
    "id": "-v0OZJivsBZe",
    "outputId": "64b569c0-a2c6-4da3-8371-38e3c2718a7f"
   },
   "outputs": [],
   "source": [
    "burger_1070 = bau2_data[(bau2_data['ITEM_NAME'] == 'BURGER') & (bau2_data['SELL_ID'] == 1070)]\n",
    "\n",
    "burger_1070.head()\n",
    "burger_1070.describe()\n",
    "sns.scatterplot(data = burger_1070, x = burger_1070.PRICE, y = burger_1070.QUANTITY, alpha = 0.1)"
   ]
  },
  {
   "cell_type": "code",
   "execution_count": null,
   "metadata": {
    "id": "tCZEx6r8sBZe",
    "outputId": "9dec6e42-491a-4287-bdc8-32c3fc3f6857"
   },
   "outputs": [],
   "source": [
    "burger_model = ols(\"QUANTITY ~ PRICE\", data=burger_1070).fit()\n",
    "print(burger_model.summary())\n",
    "fig = plt.figure(figsize=(12,8))\n",
    "fig = sm.graphics.plot_ccpr(burger_model, \"PRICE\")"
   ]
  },
  {
   "cell_type": "code",
   "execution_count": null,
   "metadata": {
    "id": "0UFJZqEqsBZe",
    "outputId": "626b3f36-c106-43ce-f057-c0bc3a3e400d"
   },
   "outputs": [],
   "source": [
    "# plot \n",
    "fig = plt.figure(figsize=(12,8))\n",
    "fig = sm.graphics.plot_regress_exog(burger_model, \"PRICE\", fig=fig)"
   ]
  },
  {
   "cell_type": "code",
   "execution_count": null,
   "metadata": {
    "id": "SzBytQWysBZe"
   },
   "outputs": [],
   "source": []
  },
  {
   "cell_type": "code",
   "execution_count": null,
   "metadata": {
    "id": "4MgXhCU_sBZe",
    "outputId": "93d66ce4-26b0-43e2-c837-3cc0512d0ebc"
   },
   "outputs": [],
   "source": [
    "burger_2051 = combined_data[(combined_data['ITEM_NAME'] == 'BURGER') & (combined_data['SELL_ID'] == 2051)]\n",
    "\n",
    "burger_2051.head()\n",
    "burger_2051.describe()\n",
    "sns.scatterplot(data = burger_2051, x = burger_2051.PRICE, y = burger_2051.QUANTITY, alpha = 0.1)"
   ]
  },
  {
   "cell_type": "code",
   "execution_count": null,
   "metadata": {
    "id": "dFWuiElusBZe",
    "outputId": "3757c387-7cce-4732-bc5a-f7c8fd27fec9"
   },
   "outputs": [],
   "source": [
    "burger_model = ols(\"QUANTITY ~ PRICE\", data=burger_2051).fit()\n",
    "print(burger_model.summary())\n",
    "fig = plt.figure(figsize=(12,8))\n",
    "fig = sm.graphics.plot_partregress_grid(burger_model, fig=fig)"
   ]
  },
  {
   "cell_type": "code",
   "execution_count": null,
   "metadata": {
    "id": "x7g8eh43sBZe"
   },
   "outputs": [],
   "source": []
  },
  {
   "cell_type": "code",
   "execution_count": null,
   "metadata": {
    "id": "U9QItEXysBZf"
   },
   "outputs": [],
   "source": []
  },
  {
   "cell_type": "code",
   "execution_count": null,
   "metadata": {
    "id": "k_gL3ZkQsBZf",
    "outputId": "a2bebabb-a11e-4459-8947-6ac67c4a883d"
   },
   "outputs": [],
   "source": [
    "coke = combined_data[combined_data['ITEM_NAME'] == 'COKE'] # for coke\n",
    "coke.head()\n",
    "coke.shape\n",
    "coke.describe()\n",
    "sns.scatterplot(x = coke.PRICE, y = coke.QUANTITY , alpha = 0.1)"
   ]
  },
  {
   "cell_type": "code",
   "execution_count": null,
   "metadata": {
    "id": "_Osiaj-ksBZi",
    "outputId": "84f2a87c-857d-4a1a-e6e4-9d18209ee95c"
   },
   "outputs": [],
   "source": [
    "coke_model = ols(\"QUANTITY ~ PRICE\", data=coke).fit() # build and fir the model\n",
    "print(coke_model.summary())\n",
    "fig = plt.figure(figsize=(12,8))\n",
    "fig = sm.graphics.plot_partregress_grid(coke_model, fig=fig)\n",
    "fig = plt.figure(figsize=(12,8))\n",
    "fig = sm.graphics.plot_regress_exog(coke_model, 'PRICE', fig=fig)"
   ]
  },
  {
   "cell_type": "code",
   "execution_count": null,
   "metadata": {
    "id": "OkU9wuxvsBZj"
   },
   "outputs": [],
   "source": []
  },
  {
   "cell_type": "code",
   "execution_count": null,
   "metadata": {
    "id": "E5-zF3Y-sBZj",
    "outputId": "1c95d5fb-978e-49fd-9e7f-46695ef89a15"
   },
   "outputs": [],
   "source": [
    "df = combined_data[combined_data['ITEM_NAME'] == 'COFFEE'] # for coffee\n",
    "df.head()\n",
    "df.shape\n",
    "df.describe()\n",
    "sns.scatterplot(x = df.PRICE, y = df.QUANTITY , alpha = 0.1)"
   ]
  },
  {
   "cell_type": "code",
   "execution_count": null,
   "metadata": {
    "id": "szJqsnu5sBZj",
    "outputId": "9d90db30-a573-48f2-ff35-4508210174be"
   },
   "outputs": [],
   "source": [
    "model = ols(\"QUANTITY ~ PRICE\", data=df).fit() # build and fit the model\n",
    "print(model.summary())\n",
    "fig = plt.figure(figsize=(12,8))\n",
    "fig = sm.graphics.plot_partregress_grid(model, fig=fig)\n",
    "fig = plt.figure(figsize=(12,8))\n",
    "fig = sm.graphics.plot_regress_exog(model, 'PRICE', fig=fig)"
   ]
  },
  {
   "cell_type": "code",
   "execution_count": null,
   "metadata": {
    "id": "42s1rusOsBZk"
   },
   "outputs": [],
   "source": []
  },
  {
   "cell_type": "code",
   "execution_count": null,
   "metadata": {
    "id": "vgdJkJDtsBZk"
   },
   "outputs": [],
   "source": []
  },
  {
   "cell_type": "code",
   "execution_count": null,
   "metadata": {
    "id": "dcu8EK1rsBZk",
    "outputId": "5a6b736f-9d9b-4573-d6a3-c02067c1d330"
   },
   "outputs": [],
   "source": [
    "df = combined_data[combined_data['ITEM_NAME'] == 'LEMONADE'] # for lemonade\n",
    "df.head()\n",
    "df.shape\n",
    "df.describe()\n",
    "sns.scatterplot(x = df.PRICE, y = df.QUANTITY , alpha = 0.1)"
   ]
  },
  {
   "cell_type": "code",
   "execution_count": null,
   "metadata": {
    "id": "4gANzwSwsBZl",
    "outputId": "66db6935-ce01-4a08-bd42-be724c9e9c0b"
   },
   "outputs": [],
   "source": [
    "model = ols(\"QUANTITY ~ PRICE\", data=df).fit() # build and fit the model\n",
    "print(model.summary())\n",
    "fig = plt.figure(figsize=(12,8))\n",
    "fig = sm.graphics.plot_partregress_grid(model, fig=fig)\n",
    "fig = plt.figure(figsize=(12,8))\n",
    "fig = sm.graphics.plot_regress_exog(model, 'PRICE', fig=fig)"
   ]
  },
  {
   "cell_type": "code",
   "execution_count": null,
   "metadata": {
    "id": "7ZtGgtPssBZl"
   },
   "outputs": [],
   "source": []
  },
  {
   "cell_type": "code",
   "execution_count": null,
   "metadata": {
    "id": "EM0rfG4FsBZm"
   },
   "outputs": [],
   "source": [
    "elasticities = {}"
   ]
  },
  {
   "cell_type": "code",
   "execution_count": null,
   "metadata": {
    "id": "bBVx9t-dsBZm"
   },
   "outputs": [],
   "source": [
    "# function to create a model and finding elasticity \n",
    "def create_model_and_find_elasticity(data):\n",
    "    model = ols(\"QUANTITY ~ PRICE\", data).fit() # fit the model\n",
    "    price_elasticity = model.params[1]\n",
    "    print(\"Price elasticity of the product: \" + str(price_elasticity))\n",
    "    print(model.summary()) # check for summary \n",
    "    fig = plt.figure(figsize=(12,8))\n",
    "    fig = sm.graphics.plot_partregress_grid(model, fig=fig) # plot\n",
    "    return price_elasticity, model"
   ]
  },
  {
   "cell_type": "code",
   "execution_count": null,
   "metadata": {
    "id": "RkBdztMLsBZm",
    "outputId": "8e6665cc-32a1-4732-82c0-22e08fade9ac"
   },
   "outputs": [],
   "source": [
    "price_elasticity, model_burger_1070 = create_model_and_find_elasticity(burger_1070)\n",
    "elasticities['burger_1070'] = price_elasticity"
   ]
  },
  {
   "cell_type": "code",
   "execution_count": null,
   "metadata": {
    "id": "xS9qQC10sBZn",
    "outputId": "912ef22c-7daf-4b12-a45f-4fd1c888e1bc"
   },
   "outputs": [],
   "source": [
    "burger2051_data = bau2_data[(bau2_data['ITEM_NAME'] == \"BURGER\") & (bau2_data['SELL_ID'] == 2051)]\n",
    "elasticities['burger_2051'], model_burger_2051 = create_model_and_find_elasticity(burger2051_data)"
   ]
  },
  {
   "cell_type": "code",
   "execution_count": null,
   "metadata": {
    "id": "3l0EMM50sBZn",
    "outputId": "c4e53b1f-023b-41ff-ba68-5c231b04312e"
   },
   "outputs": [],
   "source": [
    "burger2052_data = bau2_data[(bau2_data['ITEM_NAME'] == \"BURGER\") & (bau2_data['SELL_ID'] == 2052)]\n",
    "elasticities['burger_2052'], model_burger_2052 = create_model_and_find_elasticity(burger2052_data)"
   ]
  },
  {
   "cell_type": "code",
   "execution_count": null,
   "metadata": {
    "id": "JpFOQ88isBZn",
    "outputId": "7fec4d9d-bd79-434b-d00b-174ca8128233"
   },
   "outputs": [],
   "source": [
    "burger2053_data = bau2_data[(bau2_data['ITEM_NAME'] == \"BURGER\") & (bau2_data['SELL_ID'] == 2053)]\n",
    "elasticities['burger_2053'], model_burger_2053 = create_model_and_find_elasticity(burger2053_data)"
   ]
  },
  {
   "cell_type": "code",
   "execution_count": null,
   "metadata": {
    "id": "uiP6WmKesBZo",
    "outputId": "6dd3b79c-0252-47f8-eba0-f09665cabaa8"
   },
   "outputs": [],
   "source": [
    "coke_data = bau2_data[bau2_data['ITEM_NAME'] == \"COKE\"]\n",
    "create_model_and_find_elasticity(coke_data)"
   ]
  },
  {
   "cell_type": "markdown",
   "metadata": {
    "id": "J-o6iMubsBZo"
   },
   "source": [
    "2 coke are available in combo, while 1 is available as single.. So it is likely that the bottom distribution belongs to single purchases of coke. Let's verfy this"
   ]
  },
  {
   "cell_type": "code",
   "execution_count": null,
   "metadata": {
    "id": "8CO7PnG7sBZo",
    "outputId": "5daf5199-aac9-4e4b-8cc0-4ecd0bd490e7"
   },
   "outputs": [],
   "source": [
    "coke_data = bau2_data[(bau2_data['ITEM_NAME'] == \"COKE\") & (bau2_data['SELL_ID'] == 3067)]\n",
    "elasticities['coke_3067'], model_coke_3067 = create_model_and_find_elasticity(coke_data)"
   ]
  },
  {
   "cell_type": "code",
   "execution_count": null,
   "metadata": {
    "id": "64n6A3K9sBZp",
    "outputId": "fffa2c7a-55e2-4e81-965e-adad1679ee8e"
   },
   "outputs": [],
   "source": [
    "coke_data"
   ]
  },
  {
   "cell_type": "code",
   "execution_count": null,
   "metadata": {
    "id": "vOyJAsQ8sBZp",
    "outputId": "5add398a-7089-450d-d20c-a5aa884ea4db"
   },
   "outputs": [],
   "source": [
    "coke_data_2053 = bau2_data[(bau2_data['ITEM_NAME'] == \"COKE\") & (bau2_data['SELL_ID'] == 2053)]\n",
    "elasticities['coke_2053'], model_coke_2053 = create_model_and_find_elasticity(coke_data_2053)"
   ]
  },
  {
   "cell_type": "code",
   "execution_count": null,
   "metadata": {
    "id": "oqmBbnvosBZp",
    "outputId": "193390d5-6f33-46ff-eab5-13a429d36833"
   },
   "outputs": [],
   "source": [
    "coke_data_2051 = bau2_data[(bau2_data['ITEM_NAME'] == \"COKE\") & (bau2_data['SELL_ID'] == 2051)]\n",
    "elasticities['coke_2051'], model_coke_2051 = create_model_and_find_elasticity(coke_data_2051)\n"
   ]
  },
  {
   "cell_type": "code",
   "execution_count": null,
   "metadata": {
    "id": "htxxmHYRsBZq",
    "outputId": "3c86311a-b666-4280-e9ce-80502c36ca03"
   },
   "outputs": [],
   "source": [
    "lemonade_data_2052 = bau2_data[(bau2_data['ITEM_NAME'] == \"LEMONADE\") & (bau2_data['SELL_ID'] == 2052)]\n",
    "elasticities['lemonade_2052'], model_lemonade_2052 = create_model_and_find_elasticity(lemonade_data_2052)"
   ]
  },
  {
   "cell_type": "code",
   "execution_count": null,
   "metadata": {
    "id": "zz74vA5VsBZq",
    "outputId": "817e018e-fe0e-4bb8-ed6a-ba1e540c51ab"
   },
   "outputs": [],
   "source": [
    "lemonade_data_3028 = bau2_data[(bau2_data['ITEM_NAME'] == \"LEMONADE\") & (bau2_data['SELL_ID'] == 3028)]\n",
    "elasticities['lemonade_3028'], model_lemonade_3028 = create_model_and_find_elasticity(lemonade_data_3028)"
   ]
  },
  {
   "cell_type": "code",
   "execution_count": null,
   "metadata": {
    "id": "6KRgrhX4sBZr",
    "outputId": "19b2ff3b-0d73-4f2c-c36f-2a4f52ce45d4"
   },
   "outputs": [],
   "source": [
    "coffee_data_2053 = bau2_data[(bau2_data['ITEM_NAME'] == \"COFFEE\") & (bau2_data['SELL_ID'] == 2053)]\n",
    "elasticities['coffee_2053'], model_coffee_2053 = create_model_and_find_elasticity(coffee_data_2053)"
   ]
  },
  {
   "cell_type": "code",
   "execution_count": null,
   "metadata": {
    "id": "kddbQ4D0sBZr",
    "outputId": "9b5b2d01-c4ee-468c-c705-d97f177c0af8"
   },
   "outputs": [],
   "source": [
    "coffee_data_3055 = bau2_data[(bau2_data['ITEM_NAME'] == \"COFFEE\") & (bau2_data['SELL_ID'] == 3055)]\n",
    "elasticities['coffee_3055'], model_coffee_3055 = create_model_and_find_elasticity(coffee_data_3055)"
   ]
  },
  {
   "cell_type": "markdown",
   "metadata": {
    "id": "6uKXCs-jsBZs"
   },
   "source": [
    "## List in a table the items and their price elasticities"
   ]
  },
  {
   "cell_type": "code",
   "execution_count": null,
   "metadata": {
    "id": "HzbQ90kusBZs",
    "outputId": "616cfca2-055b-4418-f2ac-da51e1288837"
   },
   "outputs": [],
   "source": [
    "# check the elastcities\n",
    "elasticities"
   ]
  },
  {
   "cell_type": "code",
   "execution_count": null,
   "metadata": {},
   "outputs": [],
   "source": []
  },
  {
   "cell_type": "markdown",
   "metadata": {
    "id": "YM-wuXB2sBZs"
   },
   "source": [
    "# Find optimal price for maximum profit"
   ]
  },
  {
   "cell_type": "markdown",
   "metadata": {
    "id": "IVwOVAOusBZs"
   },
   "source": [
    "Now, let's take coke (the sell_id was 2051 for the last coke data) and since we do not the buying price of coke, let''s assume it to be a little less than the minimum coke price in the dataset"
   ]
  },
  {
   "cell_type": "code",
   "execution_count": null,
   "metadata": {
    "id": "eXeII8A9sBZs"
   },
   "outputs": [],
   "source": [
    "coke_data = coke_data_2053"
   ]
  },
  {
   "cell_type": "code",
   "execution_count": null,
   "metadata": {
    "id": "8-gMwT-hsBZt",
    "outputId": "cf7d4c55-2168-4634-eb13-0731d0ebb30b"
   },
   "outputs": [],
   "source": [
    "# minimum value\n",
    "coke_data.PRICE.min()"
   ]
  },
  {
   "cell_type": "code",
   "execution_count": null,
   "metadata": {
    "id": "ug-jHHlysBZt",
    "outputId": "f7de1c1a-2b24-45bb-cb01-0bc1fcf42af8"
   },
   "outputs": [],
   "source": [
    "# maximum value\n",
    "coke_data.PRICE.max()"
   ]
  },
  {
   "cell_type": "markdown",
   "metadata": {
    "id": "MtLNAtkDsBZu"
   },
   "source": [
    "Let's take 9 as the buying price of coke. We now want to be able to set the price of coke to get the maximum profit. PRICE is the selling price"
   ]
  },
  {
   "cell_type": "code",
   "execution_count": null,
   "metadata": {
    "id": "O1okdCZcsBZu"
   },
   "outputs": [],
   "source": [
    "buying_price_coke = 9"
   ]
  },
  {
   "cell_type": "markdown",
   "metadata": {
    "id": "Rh_sW8JdsBZu"
   },
   "source": [
    "$$coke data.PROFIT = (coke data.PRICE - buying price coke) * coke data.QUANTITY$$\n",
    "Let's see the profit for various price points:"
   ]
  },
  {
   "cell_type": "code",
   "execution_count": null,
   "metadata": {
    "id": "CDWDgqSSsBZu"
   },
   "outputs": [],
   "source": []
  },
  {
   "cell_type": "code",
   "execution_count": null,
   "metadata": {
    "id": "YzdO_diWsBZv"
   },
   "outputs": [],
   "source": [
    "start_price = 9.5\n",
    "end_price = 20"
   ]
  },
  {
   "cell_type": "code",
   "execution_count": null,
   "metadata": {
    "id": "zgBFMFoZsBZv"
   },
   "outputs": [],
   "source": [
    "test = pd.DataFrame(columns = [\"PRICE\", \"QUANTITY\"])"
   ]
  },
  {
   "cell_type": "code",
   "execution_count": null,
   "metadata": {
    "id": "SMI4wlHFsBZv"
   },
   "outputs": [],
   "source": [
    "test['PRICE'] = np.arange(start_price, end_price,0.01)"
   ]
  },
  {
   "cell_type": "code",
   "execution_count": null,
   "metadata": {
    "id": "KOf8R6GHsBZv"
   },
   "outputs": [],
   "source": [
    "test['QUANTITY'] = model_coke_2051.predict(test['PRICE'])"
   ]
  },
  {
   "cell_type": "code",
   "execution_count": null,
   "metadata": {
    "id": "pTss7pi-sBZw",
    "outputId": "4aca0dbf-6555-454e-b956-0833358b2f2e"
   },
   "outputs": [],
   "source": [
    "test.head(10)"
   ]
  },
  {
   "cell_type": "code",
   "execution_count": null,
   "metadata": {
    "id": "D79h9WsGsBZw"
   },
   "outputs": [],
   "source": [
    "test['PROFIT'] = (test[\"PRICE\"] - buying_price_coke) * test[\"QUANTITY\"]"
   ]
  },
  {
   "cell_type": "code",
   "execution_count": null,
   "metadata": {
    "id": "bQ0aeTW_sBZw",
    "outputId": "2ece7b18-5241-48c3-936c-15c6be4dbd4b"
   },
   "outputs": [],
   "source": [
    "test.head(10)"
   ]
  },
  {
   "cell_type": "code",
   "execution_count": null,
   "metadata": {
    "id": "hgKY518xsBZx",
    "outputId": "80e47e88-a82f-4513-edf7-a9c45c172667"
   },
   "outputs": [],
   "source": [
    "# plot the test \n",
    "plt.plot(test['PRICE'],test['QUANTITY'])\n",
    "plt.plot(test['PRICE'],test['PROFIT'])\n",
    "plt.show()"
   ]
  },
  {
   "cell_type": "markdown",
   "metadata": {
    "id": "Q7ux3cv6sBZx"
   },
   "source": [
    "Let's find the exact price at which maximum profit is gained:"
   ]
  },
  {
   "cell_type": "code",
   "execution_count": null,
   "metadata": {
    "id": "zX7xhX5QsBZx"
   },
   "outputs": [],
   "source": [
    "ind = np.where(test['PROFIT'] == test['PROFIT'].max())[0][0]"
   ]
  },
  {
   "cell_type": "code",
   "execution_count": null,
   "metadata": {
    "id": "clGujkwdsBZx",
    "outputId": "ffa2e3d5-c10e-45a8-d613-ee8017f33082"
   },
   "outputs": [],
   "source": [
    "test.loc[[ind]]"
   ]
  },
  {
   "cell_type": "code",
   "execution_count": null,
   "metadata": {
    "id": "G_g9dh9esBZz"
   },
   "outputs": [],
   "source": []
  },
  {
   "cell_type": "code",
   "execution_count": null,
   "metadata": {
    "id": "Zh5DUzJPsBZz"
   },
   "outputs": [],
   "source": [
    "# define a function for finding the optimal price\n",
    "def find_optimal_price(data, model, buying_price):\n",
    "    start_price = data.PRICE.min() - 1              # start price\n",
    "    end_price = data.PRICE.min() + 10               # end price\n",
    "    test = pd.DataFrame(columns = [\"PRICE\", \"QUANTITY\"])  # choose required columns\n",
    "    test['PRICE'] = np.arange(start_price, end_price,0.01)\n",
    "    test['QUANTITY'] = model.predict(test['PRICE'])         # make predictions\n",
    "    test['PROFIT'] = (test[\"PRICE\"] - buying_price) * test[\"QUANTITY\"]\n",
    "    plt.plot(test['PRICE'],test['QUANTITY'])       # plot the results \n",
    "    plt.plot(test['PRICE'],test['PROFIT']) \n",
    "    plt.show()\n",
    "    ind = np.where(test['PROFIT'] == test['PROFIT'].max())[0][0]\n",
    "    values_at_max_profit = test.iloc[[ind]]\n",
    "    return values_at_max_profit\n",
    "    "
   ]
  },
  {
   "cell_type": "markdown",
   "metadata": {
    "id": "IfKORD4asBZz"
   },
   "source": [
    "## Calculate the optimal price for all and list in table"
   ]
  },
  {
   "cell_type": "code",
   "execution_count": null,
   "metadata": {
    "id": "GF1V1Uq_sBZ0"
   },
   "outputs": [],
   "source": [
    "optimal_price = {}\n",
    "buying_price = 9"
   ]
  },
  {
   "cell_type": "code",
   "execution_count": null,
   "metadata": {
    "id": "GYgNtNdRsBZ0",
    "outputId": "6b6818c8-5a34-40a4-a10f-ba845b44cce3"
   },
   "outputs": [],
   "source": [
    "optimal_price['burger_1070'] = find_optimal_price(burger_1070, model_burger_1070, buying_price)"
   ]
  },
  {
   "cell_type": "code",
   "execution_count": null,
   "metadata": {
    "id": "QFa9V3FAsBZ0",
    "outputId": "125513c2-d1d1-433a-d2d7-ad8d23a35bc1"
   },
   "outputs": [],
   "source": [
    "optimal_price"
   ]
  },
  {
   "cell_type": "code",
   "execution_count": null,
   "metadata": {
    "id": "p-lrebSDsBZ1",
    "outputId": "658b4a69-70d0-48fd-cfc8-8232291edc0c"
   },
   "outputs": [],
   "source": [
    "optimal_price['burger_2051'] = find_optimal_price(burger2051_data, model_burger_2051, buying_price)"
   ]
  },
  {
   "cell_type": "code",
   "execution_count": null,
   "metadata": {
    "id": "FoatP2nWsBZ1",
    "outputId": "17b92706-64e7-4597-c098-cdabdf188f30"
   },
   "outputs": [],
   "source": [
    "optimal_price['burger_2052'] = find_optimal_price(burger2052_data, model_burger_2052, buying_price)"
   ]
  },
  {
   "cell_type": "code",
   "execution_count": null,
   "metadata": {
    "id": "9PEKm-PcsBZ1",
    "outputId": "b396308b-6d29-4959-d934-1fab4a675f68"
   },
   "outputs": [],
   "source": [
    "optimal_price['burger_2053'] = find_optimal_price(burger2053_data, model_burger_2053, buying_price)"
   ]
  },
  {
   "cell_type": "code",
   "execution_count": null,
   "metadata": {
    "id": "hWmRETP4sBZ1",
    "outputId": "fd849a3b-419d-4a63-dee5-dbdf5f599a8d"
   },
   "outputs": [],
   "source": [
    "optimal_price['coke_2051'] = find_optimal_price(coke_data_2051, model_coke_2051, buying_price)"
   ]
  },
  {
   "cell_type": "code",
   "execution_count": null,
   "metadata": {
    "id": "GjdxDC4isBZ2",
    "outputId": "e2c2c6fd-26bd-44d6-b138-6fd399984e76"
   },
   "outputs": [],
   "source": [
    "optimal_price['coke_2053'] = find_optimal_price(coke_data_2053, model_coke_2053, buying_price)"
   ]
  },
  {
   "cell_type": "code",
   "execution_count": null,
   "metadata": {
    "id": "zGQvEn3RsBZ2",
    "outputId": "ee02aaa5-aa5e-4248-f622-69ae70889482"
   },
   "outputs": [],
   "source": [
    "optimal_price['lemonade_2052'] = find_optimal_price(lemonade_data_2052, model_lemonade_2052, buying_price)"
   ]
  },
  {
   "cell_type": "code",
   "execution_count": null,
   "metadata": {
    "id": "sRP1HfHBsBZ2",
    "outputId": "9251e8f8-b060-44f0-b684-2c9c77729fea"
   },
   "outputs": [],
   "source": [
    "optimal_price['coffee_2053'] = find_optimal_price(coffee_data_2053, model_coffee_2053, buying_price)"
   ]
  },
  {
   "cell_type": "code",
   "execution_count": null,
   "metadata": {
    "id": "aXRQf_S8sBZ3",
    "outputId": "8b077559-640f-48f7-f072-720ab9eedafc"
   },
   "outputs": [],
   "source": [
    "optimal_price"
   ]
  },
  {
   "cell_type": "code",
   "execution_count": null,
   "metadata": {
    "id": "TCGz_UMHsBZ3",
    "outputId": "c4877bda-457e-472e-fd6f-d0c44b1d7b9e"
   },
   "outputs": [],
   "source": [
    "coke_data_2051.PRICE.describe()"
   ]
  },
  {
   "cell_type": "code",
   "execution_count": null,
   "metadata": {
    "id": "Oo3tc9yOsBZ3"
   },
   "outputs": [],
   "source": [
    "bau_data.to_csv('data.csv')"
   ]
  },
  {
   "cell_type": "code",
   "execution_count": null,
   "metadata": {},
   "outputs": [],
   "source": [
    "combined_data.to_csv('data2.csv')"
   ]
  },
  {
   "cell_type": "code",
   "execution_count": null,
   "metadata": {},
   "outputs": [],
   "source": [
    "len(combined_data)"
   ]
  },
  {
   "cell_type": "code",
   "execution_count": null,
   "metadata": {},
   "outputs": [],
   "source": [
    "bau_data['PRICE'].value_counts()"
   ]
  },
  {
   "cell_type": "code",
   "execution_count": null,
   "metadata": {},
   "outputs": [],
   "source": []
  },
  {
   "cell_type": "code",
   "execution_count": null,
   "metadata": {},
   "outputs": [],
   "source": [
    "c = bau_data.groupby('PRICE').filter(lambda d: len(d) > 80)"
   ]
  },
  {
   "cell_type": "code",
   "execution_count": null,
   "metadata": {},
   "outputs": [],
   "source": [
    "bau_data3 =(c.groupby('PRICE').apply(lambda c: c.sample(80)))"
   ]
  },
  {
   "cell_type": "code",
   "execution_count": null,
   "metadata": {},
   "outputs": [],
   "source": [
    "len(bau_data3['PRICE'])"
   ]
  },
  {
   "cell_type": "code",
   "execution_count": null,
   "metadata": {},
   "outputs": [],
   "source": [
    "bau_data3.head(10)"
   ]
  },
  {
   "cell_type": "code",
   "execution_count": null,
   "metadata": {},
   "outputs": [],
   "source": []
  },
  {
   "cell_type": "markdown",
   "metadata": {
    "id": "NxuNBD0OsBZ4"
   },
   "source": [
    "# Conclusion"
   ]
  },
  {
   "cell_type": "markdown",
   "metadata": {
    "id": "dLyeswt5sBZ4"
   },
   "source": [
    "This is the price the cafe should set on it's item to earn maximum profit based on it's previous sales data. It is important to note that this is on a normal day. On 'other' days such as a holiday, or an event taking place have a different impact on customer buying behaviours and pattern. Usually an increase in consumption is seen on such days. These must be treated separately. Similarly, it is important to remove any external effects other than price that will affect the purchase behaviours of customers including the datapoints when the item was on discount."
   ]
  },
  {
   "cell_type": "markdown",
   "metadata": {
    "id": "PCYexoC_sBZ4"
   },
   "source": [
    "Once, the new prices are put up, it is important to continuously monitor the sales and profit. If this method of pricing is a part of a rpoduct, a dashboard can be created for the purpose of monitoring these items and calculating the lift in the profit."
   ]
  }
 ],
 "metadata": {
  "colab": {
   "name": "Price+Optimization+based+on+price+elasticity.ipynb",
   "provenance": []
  },
  "kernelspec": {
   "display_name": "Python 3 (ipykernel)",
   "language": "python",
   "name": "python3"
  },
  "language_info": {
   "codemirror_mode": {
    "name": "ipython",
    "version": 3
   },
   "file_extension": ".py",
   "mimetype": "text/x-python",
   "name": "python",
   "nbconvert_exporter": "python",
   "pygments_lexer": "ipython3",
   "version": "3.8.5"
  }
 },
 "nbformat": 4,
 "nbformat_minor": 4
}
