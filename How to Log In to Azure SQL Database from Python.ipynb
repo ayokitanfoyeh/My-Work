{
 "cells": [
  {
   "cell_type": "code",
   "execution_count": 10,
   "metadata": {},
   "outputs": [
    {
     "name": "stdout",
     "output_type": "stream",
     "text": [
      "(1, 'John', 'Doe', 'john.doe@example.com', 30, Decimal('50000.00'))\n",
      "(2, 'Jane', 'Doe', 'jane.doe@example.com', 25, Decimal('55000.00'))\n",
      "(3, 'Emily', 'Smith', 'emily.smith@example.com', 40, Decimal('60000.00'))\n"
     ]
    }
   ],
   "source": [
    "import pyodbc\n",
    "\n",
    "server = 'your_server_name.database.windows.net'\n",
    "database = 'your_database_name'\n",
    "username = 'your_username'\n",
    "password = 'your_password'\n",
    "driver = '{ODBC Driver 17 for SQL Server}'\n",
    "\n",
    "conn_string = f'Driver={driver};Server={server};Database={database};UID={username};PWD={password};'\n",
    "conn = pyodbc.connect(conn_string)\n",
    "\n",
    "cursor = conn.cursor()\n",
    "cursor.execute(\"SELECT * FROM Employees;\")\n",
    "\n",
    "rows = cursor.fetchall()\n",
    "for row in rows:\n",
    "    print(row)\n",
    "\n",
    "conn.close()\n"
   ]
  }
 ],
 "metadata": {
  "kernelspec": {
   "display_name": "base",
   "language": "python",
   "name": "python3"
  },
  "language_info": {
   "codemirror_mode": {
    "name": "ipython",
    "version": 3
   },
   "file_extension": ".py",
   "mimetype": "text/x-python",
   "name": "python",
   "nbconvert_exporter": "python",
   "pygments_lexer": "ipython3",
   "version": "3.11.4"
  },
  "orig_nbformat": 4
 },
 "nbformat": 4,
 "nbformat_minor": 2
}
